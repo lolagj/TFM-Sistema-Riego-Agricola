{
 "cells": [
  {
   "cell_type": "code",
   "execution_count": null,
   "id": "270fb891",
   "metadata": {},
   "outputs": [],
   "source": [
    "import streamlit as st\n",
    "import mlflow\n",
    "import os\n",
    "import altair as alt\n",
    "import plotly.express as px\n",
    "import pandas as pd\n",
    "from datetime import date\n",
    "\n",
    "\n",
    "st.set_page_config(\n",
    "    page_title=\"Sistema de ayuda a la toma de desición Riego Agrícola: Olivo\",\n",
    "    page_icon=\"💧\",\n",
    "    layout=\"wide\",\n",
    "    initial_sidebar_state=\"expanded\")\n",
    "\n",
    "alt.theme.enable(\"dark\")\n",
    "\n",
    "df = pd.read_csv(\"../../data/processed/datos_integrados.csv\", sep =\";\")\n",
    "estaciones = pd.read_csv(\"../../data/raw/estaciones.csv\", sep =\",\")\n",
    "\n",
    "with st.sidebar:\n",
    "    st.title('💧 Sistema de ayuda a la toma de desición Riego Agrícola: Olivo')\n",
    "    \n",
    "    mun_list = list(estaciones['nombre'].unique())[::-1]\n",
    "    selected_mun = st.selectbox('Selecciona un municipio', mun_list, index=len(mun_list)-1)\n",
    "    df_selected_mun = df[df.nombre == selected_mun]\n",
    "    color_theme_list = ['blues', 'cividis', 'greens', 'inferno', 'magma', 'plasma', 'reds', 'rainbow', 'turbo', 'viridis']\n",
    "    cultivo = st.selectbox('Seleccione cultivo', \"Olivo\")\n",
    "\n",
    "    fecha_inicio = list(estaciones['nombre'].unique())[::-1]\n",
    "\n",
    "\n",
    "\n",
    "hoy = date.today()\n"
   ]
  },
  {
   "cell_type": "code",
   "execution_count": 4,
   "id": "01fd8e03",
   "metadata": {},
   "outputs": [],
   "source": [
    "fecha_inicio = list(df[df['nombre']==\"Baena\"]['fecha'])"
   ]
  },
  {
   "cell_type": "code",
   "execution_count": 19,
   "id": "aa4162bd",
   "metadata": {},
   "outputs": [],
   "source": [
    "df['fecha'] = pd.to_datetime(df['fecha'])\n"
   ]
  },
  {
   "cell_type": "code",
   "execution_count": 22,
   "id": "af7e4422",
   "metadata": {},
   "outputs": [
    {
     "name": "stdout",
     "output_type": "stream",
     "text": [
      "<class 'pandas.core.frame.DataFrame'>\n",
      "RangeIndex: 690709 entries, 0 to 690708\n",
      "Data columns (total 35 columns):\n",
      " #   Column            Non-Null Count   Dtype         \n",
      "---  ------            --------------   -----         \n",
      " 0   fecha             690709 non-null  datetime64[ns]\n",
      " 1   dia               690709 non-null  int64         \n",
      " 2   tempMedia         689485 non-null  float64       \n",
      " 3   tempMax           689588 non-null  float64       \n",
      " 4   horMinTempMax     690709 non-null  object        \n",
      " 5   tempMin           689146 non-null  float64       \n",
      " 6   horMinTempMin     690709 non-null  object        \n",
      " 7   humedadMedia      689194 non-null  float64       \n",
      " 8   humedadMax        688772 non-null  float64       \n",
      " 9   horMinHumMax      690709 non-null  object        \n",
      " 10  humedadMin        688507 non-null  float64       \n",
      " 11  horMinHumMin      690709 non-null  object        \n",
      " 12  velViento         681821 non-null  float64       \n",
      " 13  dirViento         681604 non-null  float64       \n",
      " 14  velVientoMax      681822 non-null  float64       \n",
      " 15  horMinVelMax      690709 non-null  object        \n",
      " 16  dirVientoVelMax   682349 non-null  float64       \n",
      " 17  radiacion         689706 non-null  float64       \n",
      " 18  precipitacion     682214 non-null  float64       \n",
      " 19  bateria           688780 non-null  float64       \n",
      " 20  fechaUtlMod       690709 non-null  object        \n",
      " 21  et0               679335 non-null  float64       \n",
      " 22  provincia_id      690709 non-null  int64         \n",
      " 23  codigoEstacion    690709 non-null  int64         \n",
      " 24  nombre            690709 non-null  object        \n",
      " 25  bajoplastico      690709 non-null  bool          \n",
      " 26  activa            690709 non-null  bool          \n",
      " 27  visible           690709 non-null  bool          \n",
      " 28  longitud          690709 non-null  object        \n",
      " 29  latitud           690709 non-null  object        \n",
      " 30  altitud           690709 non-null  int64         \n",
      " 31  xutm              690709 non-null  float64       \n",
      " 32  yutm              690709 non-null  float64       \n",
      " 33  huso              690709 non-null  int64         \n",
      " 34  provincia_nombre  690709 non-null  object        \n",
      "dtypes: bool(3), datetime64[ns](1), float64(16), int64(5), object(10)\n",
      "memory usage: 170.6+ MB\n"
     ]
    }
   ],
   "source": [
    "df.info()"
   ]
  },
  {
   "cell_type": "code",
   "execution_count": 16,
   "id": "7d0a2e1f",
   "metadata": {},
   "outputs": [
    {
     "data": {
      "text/plain": [
       "Index(['fecha', 'dia', 'tempMedia', 'tempMax', 'horMinTempMax', 'tempMin',\n",
       "       'horMinTempMin', 'humedadMedia', 'humedadMax', 'horMinHumMax',\n",
       "       'humedadMin', 'horMinHumMin', 'velViento', 'dirViento', 'velVientoMax',\n",
       "       'horMinVelMax', 'dirVientoVelMax', 'radiacion', 'precipitacion',\n",
       "       'bateria', 'fechaUtlMod', 'et0', 'provincia_id', 'codigoEstacion',\n",
       "       'nombre', 'bajoplastico', 'activa', 'visible', 'longitud', 'latitud',\n",
       "       'altitud', 'xutm', 'yutm', 'huso', 'provincia_nombre'],\n",
       "      dtype='object')"
      ]
     },
     "execution_count": 16,
     "metadata": {},
     "output_type": "execute_result"
    }
   ],
   "source": [
    "df.columns"
   ]
  },
  {
   "cell_type": "code",
   "execution_count": null,
   "id": "4e8a546b",
   "metadata": {},
   "outputs": [
    {
     "ename": "NameError",
     "evalue": "name '__file__' is not defined",
     "output_type": "error",
     "traceback": [
      "\u001b[31m---------------------------------------------------------------------------\u001b[39m",
      "\u001b[31mNameError\u001b[39m                                 Traceback (most recent call last)",
      "\u001b[36mCell\u001b[39m\u001b[36m \u001b[39m\u001b[32mIn[18]\u001b[39m\u001b[32m, line 1\u001b[39m\n\u001b[32m----> \u001b[39m\u001b[32m1\u001b[39m script_dir = os.path.dirname(\u001b[34;43m__file__\u001b[39;49m)\n\u001b[32m      2\u001b[39m project_root = os.path.abspath(os.path.join(script_dir, \u001b[33m'\u001b[39m\u001b[33m..\u001b[39m\u001b[33m'\u001b[39m, \u001b[33m'\u001b[39m\u001b[33m..\u001b[39m\u001b[33m'\u001b[39m))\n\u001b[32m      3\u001b[39m mlruns_path = os.path.join(project_root, \u001b[33m\"\u001b[39m\u001b[33mmlruns\u001b[39m\u001b[33m\"\u001b[39m)\n",
      "\u001b[31mNameError\u001b[39m: name '__file__' is not defined"
     ]
    }
   ],
   "source": [
    "script_dir = os.path.dirname(__file__)\n",
    "project_root = os.path.abspath(os.path.join(script_dir, '..', '..'))\n",
    "mlruns_path = os.path.join(project_root, \"mlruns\")\n",
    "tracking_uri = \"file://\" + mlruns_path \n",
    "mlflow.set_tracking_uri(tracking_uri)\n",
    "\n",
    "model_name = \"xgboost\"\n",
    "model_version = \"2\"\n",
    "\n",
    "# Load the model from the Model Registry\n",
    "model_uri = f\"models:/{model_name}/{model_version}\"\n",
    "model = mlflow.xgboost.load_model(model_uri)\n",
    "\n"
   ]
  },
  {
   "cell_type": "code",
   "execution_count": null,
   "id": "778c76ee",
   "metadata": {},
   "outputs": [],
   "source": []
  }
 ],
 "metadata": {
  "kernelspec": {
   "display_name": "sist_riego",
   "language": "python",
   "name": "python3"
  },
  "language_info": {
   "codemirror_mode": {
    "name": "ipython",
    "version": 3
   },
   "file_extension": ".py",
   "mimetype": "text/x-python",
   "name": "python",
   "nbconvert_exporter": "python",
   "pygments_lexer": "ipython3",
   "version": "3.11.2"
  }
 },
 "nbformat": 4,
 "nbformat_minor": 5
}
