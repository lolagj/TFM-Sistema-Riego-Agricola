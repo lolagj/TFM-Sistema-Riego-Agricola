{
 "cells": [
  {
   "cell_type": "code",
   "execution_count": 20,
   "id": "cf90d835",
   "metadata": {},
   "outputs": [],
   "source": [
    "import streamlit as st\n",
    "import mlflow\n",
    "import os\n",
    "import altair as alt\n",
    "import plotly.express as px\n",
    "import pandas as pd\n",
    "from datetime import date"
   ]
  },
  {
   "cell_type": "code",
   "execution_count": null,
   "id": "3b91e421",
   "metadata": {},
   "outputs": [],
   "source": [
    "df = pd.read_csv(\"../../data/processed/datos_integrados.csv\", sep =\";\")"
   ]
  },
  {
   "cell_type": "code",
   "execution_count": 23,
   "id": "9d688eb5",
   "metadata": {},
   "outputs": [
    {
     "name": "stdout",
     "output_type": "stream",
     "text": [
      "<class 'pandas.core.frame.DataFrame'>\n",
      "RangeIndex: 690709 entries, 0 to 690708\n",
      "Data columns (total 35 columns):\n",
      " #   Column            Non-Null Count   Dtype  \n",
      "---  ------            --------------   -----  \n",
      " 0   fecha             690709 non-null  object \n",
      " 1   dia               690709 non-null  int64  \n",
      " 2   tempMedia         689485 non-null  float64\n",
      " 3   tempMax           689588 non-null  float64\n",
      " 4   horMinTempMax     690709 non-null  object \n",
      " 5   tempMin           689146 non-null  float64\n",
      " 6   horMinTempMin     690709 non-null  object \n",
      " 7   humedadMedia      689194 non-null  float64\n",
      " 8   humedadMax        688772 non-null  float64\n",
      " 9   horMinHumMax      690709 non-null  object \n",
      " 10  humedadMin        688507 non-null  float64\n",
      " 11  horMinHumMin      690709 non-null  object \n",
      " 12  velViento         681821 non-null  float64\n",
      " 13  dirViento         681604 non-null  float64\n",
      " 14  velVientoMax      681822 non-null  float64\n",
      " 15  horMinVelMax      690709 non-null  object \n",
      " 16  dirVientoVelMax   682349 non-null  float64\n",
      " 17  radiacion         689706 non-null  float64\n",
      " 18  precipitacion     682214 non-null  float64\n",
      " 19  bateria           688780 non-null  float64\n",
      " 20  fechaUtlMod       690709 non-null  object \n",
      " 21  et0               679335 non-null  float64\n",
      " 22  provincia_id      690709 non-null  int64  \n",
      " 23  codigoEstacion    690709 non-null  int64  \n",
      " 24  nombre            690709 non-null  object \n",
      " 25  bajoplastico      690709 non-null  bool   \n",
      " 26  activa            690709 non-null  bool   \n",
      " 27  visible           690709 non-null  bool   \n",
      " 28  longitud          690709 non-null  object \n",
      " 29  latitud           690709 non-null  object \n",
      " 30  altitud           690709 non-null  int64  \n",
      " 31  xutm              690709 non-null  float64\n",
      " 32  yutm              690709 non-null  float64\n",
      " 33  huso              690709 non-null  int64  \n",
      " 34  provincia_nombre  690709 non-null  object \n",
      "dtypes: bool(3), float64(16), int64(5), object(11)\n",
      "memory usage: 170.6+ MB\n"
     ]
    }
   ],
   "source": [
    "df.info()"
   ]
  },
  {
   "cell_type": "code",
   "execution_count": 24,
   "id": "f9082aa8",
   "metadata": {},
   "outputs": [],
   "source": [
    "df['fecha']= pd.to_datetime(df['fecha'])"
   ]
  },
  {
   "cell_type": "code",
   "execution_count": 29,
   "id": "afa3fd2f",
   "metadata": {},
   "outputs": [],
   "source": [
    "sel = ['Adra','Puerto de Santa María','Santaella','Almuñecar', 'Lepe', 'Linares', 'Antequera', 'Ecija']"
   ]
  },
  {
   "cell_type": "code",
   "execution_count": 34,
   "id": "af0c330d",
   "metadata": {},
   "outputs": [
    {
     "data": {
      "text/plain": [
       "(7537, 35)"
      ]
     },
     "execution_count": 34,
     "metadata": {},
     "output_type": "execute_result"
    }
   ],
   "source": [
    "df_demo = df[(df['fecha']>\"2023-01-01\")& (df['nombre'].isin(sel))]\n",
    "df_demo.shape"
   ]
  },
  {
   "cell_type": "code",
   "execution_count": 35,
   "id": "4f1d94d2",
   "metadata": {},
   "outputs": [],
   "source": [
    "df_demo.to_csv(\"../../data/demo_app/df_demo.csv\", sep=\";\", index=False)"
   ]
  },
  {
   "cell_type": "code",
   "execution_count": 36,
   "id": "b324e0c9",
   "metadata": {},
   "outputs": [
    {
     "data": {
      "text/plain": [
       "Index(['fecha', 'dia', 'tempMedia', 'tempMax', 'horMinTempMax', 'tempMin',\n",
       "       'horMinTempMin', 'humedadMedia', 'humedadMax', 'horMinHumMax',\n",
       "       'humedadMin', 'horMinHumMin', 'velViento', 'dirViento', 'velVientoMax',\n",
       "       'horMinVelMax', 'dirVientoVelMax', 'radiacion', 'precipitacion',\n",
       "       'bateria', 'fechaUtlMod', 'et0', 'provincia_id', 'codigoEstacion',\n",
       "       'nombre', 'bajoplastico', 'activa', 'visible', 'longitud', 'latitud',\n",
       "       'altitud', 'xutm', 'yutm', 'huso', 'provincia_nombre'],\n",
       "      dtype='object')"
      ]
     },
     "execution_count": 36,
     "metadata": {},
     "output_type": "execute_result"
    }
   ],
   "source": [
    "df_demo.columns"
   ]
  },
  {
   "cell_type": "code",
   "execution_count": 41,
   "id": "8bba40bd",
   "metadata": {},
   "outputs": [
    {
     "data": {
      "text/html": [
       "<div>\n",
       "<style scoped>\n",
       "    .dataframe tbody tr th:only-of-type {\n",
       "        vertical-align: middle;\n",
       "    }\n",
       "\n",
       "    .dataframe tbody tr th {\n",
       "        vertical-align: top;\n",
       "    }\n",
       "\n",
       "    .dataframe thead th {\n",
       "        text-align: right;\n",
       "    }\n",
       "</style>\n",
       "<table border=\"1\" class=\"dataframe\">\n",
       "  <thead>\n",
       "    <tr style=\"text-align: right;\">\n",
       "      <th></th>\n",
       "      <th>nombre</th>\n",
       "      <th>xutm</th>\n",
       "      <th>yutm</th>\n",
       "      <th>huso</th>\n",
       "    </tr>\n",
       "  </thead>\n",
       "  <tbody>\n",
       "    <tr>\n",
       "      <th>41013</th>\n",
       "      <td>Puerto de Santa María</td>\n",
       "      <td>216316.92</td>\n",
       "      <td>4055676.0</td>\n",
       "      <td>30</td>\n",
       "    </tr>\n",
       "    <tr>\n",
       "      <th>113752</th>\n",
       "      <td>Linares</td>\n",
       "      <td>449613.00</td>\n",
       "      <td>4215286.0</td>\n",
       "      <td>30</td>\n",
       "    </tr>\n",
       "    <tr>\n",
       "      <th>191607</th>\n",
       "      <td>Almuñecar</td>\n",
       "      <td>439384.00</td>\n",
       "      <td>4067570.0</td>\n",
       "      <td>30</td>\n",
       "    </tr>\n",
       "    <tr>\n",
       "      <th>331028</th>\n",
       "      <td>Santaella</td>\n",
       "      <td>333382.00</td>\n",
       "      <td>4154500.0</td>\n",
       "      <td>30</td>\n",
       "    </tr>\n",
       "    <tr>\n",
       "      <th>402388</th>\n",
       "      <td>Lepe</td>\n",
       "      <td>123877.00</td>\n",
       "      <td>4136900.0</td>\n",
       "      <td>30</td>\n",
       "    </tr>\n",
       "    <tr>\n",
       "      <th>425041</th>\n",
       "      <td>Ecija</td>\n",
       "      <td>316625.00</td>\n",
       "      <td>4162680.0</td>\n",
       "      <td>30</td>\n",
       "    </tr>\n",
       "    <tr>\n",
       "      <th>555013</th>\n",
       "      <td>Adra</td>\n",
       "      <td>500683.00</td>\n",
       "      <td>4066780.0</td>\n",
       "      <td>30</td>\n",
       "    </tr>\n",
       "    <tr>\n",
       "      <th>627020</th>\n",
       "      <td>Antequera</td>\n",
       "      <td>361021.00</td>\n",
       "      <td>4099810.0</td>\n",
       "      <td>30</td>\n",
       "    </tr>\n",
       "  </tbody>\n",
       "</table>\n",
       "</div>"
      ],
      "text/plain": [
       "                       nombre       xutm       yutm  huso\n",
       "41013   Puerto de Santa María  216316.92  4055676.0    30\n",
       "113752                Linares  449613.00  4215286.0    30\n",
       "191607              Almuñecar  439384.00  4067570.0    30\n",
       "331028              Santaella  333382.00  4154500.0    30\n",
       "402388                   Lepe  123877.00  4136900.0    30\n",
       "425041                  Ecija  316625.00  4162680.0    30\n",
       "555013                   Adra  500683.00  4066780.0    30\n",
       "627020              Antequera  361021.00  4099810.0    30"
      ]
     },
     "execution_count": 41,
     "metadata": {},
     "output_type": "execute_result"
    }
   ],
   "source": [
    "coordenadas = df_demo[['nombre','xutm', 'yutm', 'huso']].drop_duplicates()\n",
    "coordenadas"
   ]
  },
  {
   "cell_type": "code",
   "execution_count": 45,
   "id": "b89ed1ca",
   "metadata": {},
   "outputs": [
    {
     "ename": "ModuleNotFoundError",
     "evalue": "No module named 'src'",
     "output_type": "error",
     "traceback": [
      "\u001b[31m---------------------------------------------------------------------------\u001b[39m",
      "\u001b[31mModuleNotFoundError\u001b[39m                       Traceback (most recent call last)",
      "\u001b[36mCell\u001b[39m\u001b[36m \u001b[39m\u001b[32mIn[45]\u001b[39m\u001b[32m, line 1\u001b[39m\n\u001b[32m----> \u001b[39m\u001b[32m1\u001b[39m \u001b[38;5;28;01mfrom\u001b[39;00m\u001b[38;5;250m \u001b[39m\u001b[34;01msrc\u001b[39;00m\u001b[34;01m.\u001b[39;00m\u001b[34;01mtransform_input\u001b[39;00m\u001b[38;5;250m \u001b[39m\u001b[38;5;28;01mimport\u001b[39;00m coordenadas_gms\n\u001b[32m      2\u001b[39m coordenadas_gms(df_demo[\u001b[33m'\u001b[39m\u001b[33mxutm\u001b[39m\u001b[33m'\u001b[39m], df_demo[\u001b[33m'\u001b[39m\u001b[33myutm\u001b[39m\u001b[33m'\u001b[39m])\n",
      "\u001b[31mModuleNotFoundError\u001b[39m: No module named 'src'"
     ]
    }
   ],
   "source": [
    "from src.transform_input import coordenadas_gms\n",
    "coordenadas_gms(df_demo['xutm'], df_demo['yutm'])"
   ]
  },
  {
   "cell_type": "code",
   "execution_count": null,
   "id": "270fb891",
   "metadata": {},
   "outputs": [
    {
     "name": "stderr",
     "output_type": "stream",
     "text": [
      "2025-10-27 17:36:10.112 Thread 'MainThread': missing ScriptRunContext! This warning can be ignored when running in bare mode.\n"
     ]
    },
    {
     "ename": "HTTPError",
     "evalue": "HTTP Error 403: Forbidden",
     "output_type": "error",
     "traceback": [
      "\u001b[31m---------------------------------------------------------------------------\u001b[39m",
      "\u001b[31mHTTPError\u001b[39m                                 Traceback (most recent call last)",
      "\u001b[36mCell\u001b[39m\u001b[36m \u001b[39m\u001b[32mIn[19]\u001b[39m\u001b[32m, line 19\u001b[39m\n\u001b[32m     16\u001b[39m alt.theme.enable(\u001b[33m\"\u001b[39m\u001b[33mdark\u001b[39m\u001b[33m\"\u001b[39m)\n\u001b[32m     18\u001b[39m df = pd.read_csv(\u001b[33m\"\u001b[39m\u001b[33m../../data/processed/datos_integrados.csv\u001b[39m\u001b[33m\"\u001b[39m, sep =\u001b[33m\"\u001b[39m\u001b[33m;\u001b[39m\u001b[33m\"\u001b[39m)\n\u001b[32m---> \u001b[39m\u001b[32m19\u001b[39m estaciones = \u001b[43mpd\u001b[49m\u001b[43m.\u001b[49m\u001b[43mread_csv\u001b[49m\u001b[43m(\u001b[49m\u001b[33;43m\"\u001b[39;49m\u001b[33;43mhttps://alumnosviu-my.sharepoint.com/personal/lgomezj_student_universidadviu_com/_layouts/15/download.aspx?UniqueId=48706387\u001b[39;49m\u001b[33;43m%\u001b[39;49m\u001b[33;43m2D89ad\u001b[39;49m\u001b[33;43m%\u001b[39;49m\u001b[33;43m2D4dd7\u001b[39;49m\u001b[33;43m%\u001b[39;49m\u001b[33;43m2Db075\u001b[39;49m\u001b[33;43m%\u001b[39;49m\u001b[33;43m2Da7bf538489ae\u001b[39;49m\u001b[33;43m\"\u001b[39;49m\u001b[43m,\u001b[49m\u001b[43m \u001b[49m\u001b[43msep\u001b[49m\u001b[43m \u001b[49m\u001b[43m=\u001b[49m\u001b[33;43m\"\u001b[39;49m\u001b[33;43m,\u001b[39;49m\u001b[33;43m\"\u001b[39;49m\u001b[43m)\u001b[49m\n\u001b[32m     21\u001b[39m \u001b[38;5;28;01mwith\u001b[39;00m st.sidebar:\n\u001b[32m     22\u001b[39m     st.title(\u001b[33m'\u001b[39m\u001b[33m💧 Sistema de ayuda a la toma de desición Riego Agrícola: Olivo\u001b[39m\u001b[33m'\u001b[39m)\n",
      "\u001b[36mFile \u001b[39m\u001b[32m~/Escritorio/TFM-Sistema-Riego-Agricola/.env/lib/python3.11/site-packages/pandas/io/parsers/readers.py:1026\u001b[39m, in \u001b[36mread_csv\u001b[39m\u001b[34m(filepath_or_buffer, sep, delimiter, header, names, index_col, usecols, dtype, engine, converters, true_values, false_values, skipinitialspace, skiprows, skipfooter, nrows, na_values, keep_default_na, na_filter, verbose, skip_blank_lines, parse_dates, infer_datetime_format, keep_date_col, date_parser, date_format, dayfirst, cache_dates, iterator, chunksize, compression, thousands, decimal, lineterminator, quotechar, quoting, doublequote, escapechar, comment, encoding, encoding_errors, dialect, on_bad_lines, delim_whitespace, low_memory, memory_map, float_precision, storage_options, dtype_backend)\u001b[39m\n\u001b[32m   1013\u001b[39m kwds_defaults = _refine_defaults_read(\n\u001b[32m   1014\u001b[39m     dialect,\n\u001b[32m   1015\u001b[39m     delimiter,\n\u001b[32m   (...)\u001b[39m\u001b[32m   1022\u001b[39m     dtype_backend=dtype_backend,\n\u001b[32m   1023\u001b[39m )\n\u001b[32m   1024\u001b[39m kwds.update(kwds_defaults)\n\u001b[32m-> \u001b[39m\u001b[32m1026\u001b[39m \u001b[38;5;28;01mreturn\u001b[39;00m \u001b[43m_read\u001b[49m\u001b[43m(\u001b[49m\u001b[43mfilepath_or_buffer\u001b[49m\u001b[43m,\u001b[49m\u001b[43m \u001b[49m\u001b[43mkwds\u001b[49m\u001b[43m)\u001b[49m\n",
      "\u001b[36mFile \u001b[39m\u001b[32m~/Escritorio/TFM-Sistema-Riego-Agricola/.env/lib/python3.11/site-packages/pandas/io/parsers/readers.py:620\u001b[39m, in \u001b[36m_read\u001b[39m\u001b[34m(filepath_or_buffer, kwds)\u001b[39m\n\u001b[32m    617\u001b[39m _validate_names(kwds.get(\u001b[33m\"\u001b[39m\u001b[33mnames\u001b[39m\u001b[33m\"\u001b[39m, \u001b[38;5;28;01mNone\u001b[39;00m))\n\u001b[32m    619\u001b[39m \u001b[38;5;66;03m# Create the parser.\u001b[39;00m\n\u001b[32m--> \u001b[39m\u001b[32m620\u001b[39m parser = \u001b[43mTextFileReader\u001b[49m\u001b[43m(\u001b[49m\u001b[43mfilepath_or_buffer\u001b[49m\u001b[43m,\u001b[49m\u001b[43m \u001b[49m\u001b[43m*\u001b[49m\u001b[43m*\u001b[49m\u001b[43mkwds\u001b[49m\u001b[43m)\u001b[49m\n\u001b[32m    622\u001b[39m \u001b[38;5;28;01mif\u001b[39;00m chunksize \u001b[38;5;129;01mor\u001b[39;00m iterator:\n\u001b[32m    623\u001b[39m     \u001b[38;5;28;01mreturn\u001b[39;00m parser\n",
      "\u001b[36mFile \u001b[39m\u001b[32m~/Escritorio/TFM-Sistema-Riego-Agricola/.env/lib/python3.11/site-packages/pandas/io/parsers/readers.py:1620\u001b[39m, in \u001b[36mTextFileReader.__init__\u001b[39m\u001b[34m(self, f, engine, **kwds)\u001b[39m\n\u001b[32m   1617\u001b[39m     \u001b[38;5;28mself\u001b[39m.options[\u001b[33m\"\u001b[39m\u001b[33mhas_index_names\u001b[39m\u001b[33m\"\u001b[39m] = kwds[\u001b[33m\"\u001b[39m\u001b[33mhas_index_names\u001b[39m\u001b[33m\"\u001b[39m]\n\u001b[32m   1619\u001b[39m \u001b[38;5;28mself\u001b[39m.handles: IOHandles | \u001b[38;5;28;01mNone\u001b[39;00m = \u001b[38;5;28;01mNone\u001b[39;00m\n\u001b[32m-> \u001b[39m\u001b[32m1620\u001b[39m \u001b[38;5;28mself\u001b[39m._engine = \u001b[38;5;28;43mself\u001b[39;49m\u001b[43m.\u001b[49m\u001b[43m_make_engine\u001b[49m\u001b[43m(\u001b[49m\u001b[43mf\u001b[49m\u001b[43m,\u001b[49m\u001b[43m \u001b[49m\u001b[38;5;28;43mself\u001b[39;49m\u001b[43m.\u001b[49m\u001b[43mengine\u001b[49m\u001b[43m)\u001b[49m\n",
      "\u001b[36mFile \u001b[39m\u001b[32m~/Escritorio/TFM-Sistema-Riego-Agricola/.env/lib/python3.11/site-packages/pandas/io/parsers/readers.py:1880\u001b[39m, in \u001b[36mTextFileReader._make_engine\u001b[39m\u001b[34m(self, f, engine)\u001b[39m\n\u001b[32m   1878\u001b[39m     \u001b[38;5;28;01mif\u001b[39;00m \u001b[33m\"\u001b[39m\u001b[33mb\u001b[39m\u001b[33m\"\u001b[39m \u001b[38;5;129;01mnot\u001b[39;00m \u001b[38;5;129;01min\u001b[39;00m mode:\n\u001b[32m   1879\u001b[39m         mode += \u001b[33m\"\u001b[39m\u001b[33mb\u001b[39m\u001b[33m\"\u001b[39m\n\u001b[32m-> \u001b[39m\u001b[32m1880\u001b[39m \u001b[38;5;28mself\u001b[39m.handles = \u001b[43mget_handle\u001b[49m\u001b[43m(\u001b[49m\n\u001b[32m   1881\u001b[39m \u001b[43m    \u001b[49m\u001b[43mf\u001b[49m\u001b[43m,\u001b[49m\n\u001b[32m   1882\u001b[39m \u001b[43m    \u001b[49m\u001b[43mmode\u001b[49m\u001b[43m,\u001b[49m\n\u001b[32m   1883\u001b[39m \u001b[43m    \u001b[49m\u001b[43mencoding\u001b[49m\u001b[43m=\u001b[49m\u001b[38;5;28;43mself\u001b[39;49m\u001b[43m.\u001b[49m\u001b[43moptions\u001b[49m\u001b[43m.\u001b[49m\u001b[43mget\u001b[49m\u001b[43m(\u001b[49m\u001b[33;43m\"\u001b[39;49m\u001b[33;43mencoding\u001b[39;49m\u001b[33;43m\"\u001b[39;49m\u001b[43m,\u001b[49m\u001b[43m \u001b[49m\u001b[38;5;28;43;01mNone\u001b[39;49;00m\u001b[43m)\u001b[49m\u001b[43m,\u001b[49m\n\u001b[32m   1884\u001b[39m \u001b[43m    \u001b[49m\u001b[43mcompression\u001b[49m\u001b[43m=\u001b[49m\u001b[38;5;28;43mself\u001b[39;49m\u001b[43m.\u001b[49m\u001b[43moptions\u001b[49m\u001b[43m.\u001b[49m\u001b[43mget\u001b[49m\u001b[43m(\u001b[49m\u001b[33;43m\"\u001b[39;49m\u001b[33;43mcompression\u001b[39;49m\u001b[33;43m\"\u001b[39;49m\u001b[43m,\u001b[49m\u001b[43m \u001b[49m\u001b[38;5;28;43;01mNone\u001b[39;49;00m\u001b[43m)\u001b[49m\u001b[43m,\u001b[49m\n\u001b[32m   1885\u001b[39m \u001b[43m    \u001b[49m\u001b[43mmemory_map\u001b[49m\u001b[43m=\u001b[49m\u001b[38;5;28;43mself\u001b[39;49m\u001b[43m.\u001b[49m\u001b[43moptions\u001b[49m\u001b[43m.\u001b[49m\u001b[43mget\u001b[49m\u001b[43m(\u001b[49m\u001b[33;43m\"\u001b[39;49m\u001b[33;43mmemory_map\u001b[39;49m\u001b[33;43m\"\u001b[39;49m\u001b[43m,\u001b[49m\u001b[43m \u001b[49m\u001b[38;5;28;43;01mFalse\u001b[39;49;00m\u001b[43m)\u001b[49m\u001b[43m,\u001b[49m\n\u001b[32m   1886\u001b[39m \u001b[43m    \u001b[49m\u001b[43mis_text\u001b[49m\u001b[43m=\u001b[49m\u001b[43mis_text\u001b[49m\u001b[43m,\u001b[49m\n\u001b[32m   1887\u001b[39m \u001b[43m    \u001b[49m\u001b[43merrors\u001b[49m\u001b[43m=\u001b[49m\u001b[38;5;28;43mself\u001b[39;49m\u001b[43m.\u001b[49m\u001b[43moptions\u001b[49m\u001b[43m.\u001b[49m\u001b[43mget\u001b[49m\u001b[43m(\u001b[49m\u001b[33;43m\"\u001b[39;49m\u001b[33;43mencoding_errors\u001b[39;49m\u001b[33;43m\"\u001b[39;49m\u001b[43m,\u001b[49m\u001b[43m \u001b[49m\u001b[33;43m\"\u001b[39;49m\u001b[33;43mstrict\u001b[39;49m\u001b[33;43m\"\u001b[39;49m\u001b[43m)\u001b[49m\u001b[43m,\u001b[49m\n\u001b[32m   1888\u001b[39m \u001b[43m    \u001b[49m\u001b[43mstorage_options\u001b[49m\u001b[43m=\u001b[49m\u001b[38;5;28;43mself\u001b[39;49m\u001b[43m.\u001b[49m\u001b[43moptions\u001b[49m\u001b[43m.\u001b[49m\u001b[43mget\u001b[49m\u001b[43m(\u001b[49m\u001b[33;43m\"\u001b[39;49m\u001b[33;43mstorage_options\u001b[39;49m\u001b[33;43m\"\u001b[39;49m\u001b[43m,\u001b[49m\u001b[43m \u001b[49m\u001b[38;5;28;43;01mNone\u001b[39;49;00m\u001b[43m)\u001b[49m\u001b[43m,\u001b[49m\n\u001b[32m   1889\u001b[39m \u001b[43m\u001b[49m\u001b[43m)\u001b[49m\n\u001b[32m   1890\u001b[39m \u001b[38;5;28;01massert\u001b[39;00m \u001b[38;5;28mself\u001b[39m.handles \u001b[38;5;129;01mis\u001b[39;00m \u001b[38;5;129;01mnot\u001b[39;00m \u001b[38;5;28;01mNone\u001b[39;00m\n\u001b[32m   1891\u001b[39m f = \u001b[38;5;28mself\u001b[39m.handles.handle\n",
      "\u001b[36mFile \u001b[39m\u001b[32m~/Escritorio/TFM-Sistema-Riego-Agricola/.env/lib/python3.11/site-packages/pandas/io/common.py:728\u001b[39m, in \u001b[36mget_handle\u001b[39m\u001b[34m(path_or_buf, mode, encoding, compression, memory_map, is_text, errors, storage_options)\u001b[39m\n\u001b[32m    725\u001b[39m     codecs.lookup_error(errors)\n\u001b[32m    727\u001b[39m \u001b[38;5;66;03m# open URLs\u001b[39;00m\n\u001b[32m--> \u001b[39m\u001b[32m728\u001b[39m ioargs = \u001b[43m_get_filepath_or_buffer\u001b[49m\u001b[43m(\u001b[49m\n\u001b[32m    729\u001b[39m \u001b[43m    \u001b[49m\u001b[43mpath_or_buf\u001b[49m\u001b[43m,\u001b[49m\n\u001b[32m    730\u001b[39m \u001b[43m    \u001b[49m\u001b[43mencoding\u001b[49m\u001b[43m=\u001b[49m\u001b[43mencoding\u001b[49m\u001b[43m,\u001b[49m\n\u001b[32m    731\u001b[39m \u001b[43m    \u001b[49m\u001b[43mcompression\u001b[49m\u001b[43m=\u001b[49m\u001b[43mcompression\u001b[49m\u001b[43m,\u001b[49m\n\u001b[32m    732\u001b[39m \u001b[43m    \u001b[49m\u001b[43mmode\u001b[49m\u001b[43m=\u001b[49m\u001b[43mmode\u001b[49m\u001b[43m,\u001b[49m\n\u001b[32m    733\u001b[39m \u001b[43m    \u001b[49m\u001b[43mstorage_options\u001b[49m\u001b[43m=\u001b[49m\u001b[43mstorage_options\u001b[49m\u001b[43m,\u001b[49m\n\u001b[32m    734\u001b[39m \u001b[43m\u001b[49m\u001b[43m)\u001b[49m\n\u001b[32m    736\u001b[39m handle = ioargs.filepath_or_buffer\n\u001b[32m    737\u001b[39m handles: \u001b[38;5;28mlist\u001b[39m[BaseBuffer]\n",
      "\u001b[36mFile \u001b[39m\u001b[32m~/Escritorio/TFM-Sistema-Riego-Agricola/.env/lib/python3.11/site-packages/pandas/io/common.py:384\u001b[39m, in \u001b[36m_get_filepath_or_buffer\u001b[39m\u001b[34m(filepath_or_buffer, encoding, compression, mode, storage_options)\u001b[39m\n\u001b[32m    382\u001b[39m \u001b[38;5;66;03m# assuming storage_options is to be interpreted as headers\u001b[39;00m\n\u001b[32m    383\u001b[39m req_info = urllib.request.Request(filepath_or_buffer, headers=storage_options)\n\u001b[32m--> \u001b[39m\u001b[32m384\u001b[39m \u001b[38;5;28;01mwith\u001b[39;00m \u001b[43murlopen\u001b[49m\u001b[43m(\u001b[49m\u001b[43mreq_info\u001b[49m\u001b[43m)\u001b[49m \u001b[38;5;28;01mas\u001b[39;00m req:\n\u001b[32m    385\u001b[39m     content_encoding = req.headers.get(\u001b[33m\"\u001b[39m\u001b[33mContent-Encoding\u001b[39m\u001b[33m\"\u001b[39m, \u001b[38;5;28;01mNone\u001b[39;00m)\n\u001b[32m    386\u001b[39m     \u001b[38;5;28;01mif\u001b[39;00m content_encoding == \u001b[33m\"\u001b[39m\u001b[33mgzip\u001b[39m\u001b[33m\"\u001b[39m:\n\u001b[32m    387\u001b[39m         \u001b[38;5;66;03m# Override compression based on Content-Encoding header\u001b[39;00m\n",
      "\u001b[36mFile \u001b[39m\u001b[32m~/Escritorio/TFM-Sistema-Riego-Agricola/.env/lib/python3.11/site-packages/pandas/io/common.py:289\u001b[39m, in \u001b[36murlopen\u001b[39m\u001b[34m(*args, **kwargs)\u001b[39m\n\u001b[32m    283\u001b[39m \u001b[38;5;250m\u001b[39m\u001b[33;03m\"\"\"\u001b[39;00m\n\u001b[32m    284\u001b[39m \u001b[33;03mLazy-import wrapper for stdlib urlopen, as that imports a big chunk of\u001b[39;00m\n\u001b[32m    285\u001b[39m \u001b[33;03mthe stdlib.\u001b[39;00m\n\u001b[32m    286\u001b[39m \u001b[33;03m\"\"\"\u001b[39;00m\n\u001b[32m    287\u001b[39m \u001b[38;5;28;01mimport\u001b[39;00m\u001b[38;5;250m \u001b[39m\u001b[34;01murllib\u001b[39;00m\u001b[34;01m.\u001b[39;00m\u001b[34;01mrequest\u001b[39;00m\n\u001b[32m--> \u001b[39m\u001b[32m289\u001b[39m \u001b[38;5;28;01mreturn\u001b[39;00m \u001b[43murllib\u001b[49m\u001b[43m.\u001b[49m\u001b[43mrequest\u001b[49m\u001b[43m.\u001b[49m\u001b[43murlopen\u001b[49m\u001b[43m(\u001b[49m\u001b[43m*\u001b[49m\u001b[43margs\u001b[49m\u001b[43m,\u001b[49m\u001b[43m \u001b[49m\u001b[43m*\u001b[49m\u001b[43m*\u001b[49m\u001b[43mkwargs\u001b[49m\u001b[43m)\u001b[49m\n",
      "\u001b[36mFile \u001b[39m\u001b[32m/usr/lib/python3.11/urllib/request.py:216\u001b[39m, in \u001b[36murlopen\u001b[39m\u001b[34m(url, data, timeout, cafile, capath, cadefault, context)\u001b[39m\n\u001b[32m    214\u001b[39m \u001b[38;5;28;01melse\u001b[39;00m:\n\u001b[32m    215\u001b[39m     opener = _opener\n\u001b[32m--> \u001b[39m\u001b[32m216\u001b[39m \u001b[38;5;28;01mreturn\u001b[39;00m \u001b[43mopener\u001b[49m\u001b[43m.\u001b[49m\u001b[43mopen\u001b[49m\u001b[43m(\u001b[49m\u001b[43murl\u001b[49m\u001b[43m,\u001b[49m\u001b[43m \u001b[49m\u001b[43mdata\u001b[49m\u001b[43m,\u001b[49m\u001b[43m \u001b[49m\u001b[43mtimeout\u001b[49m\u001b[43m)\u001b[49m\n",
      "\u001b[36mFile \u001b[39m\u001b[32m/usr/lib/python3.11/urllib/request.py:525\u001b[39m, in \u001b[36mOpenerDirector.open\u001b[39m\u001b[34m(self, fullurl, data, timeout)\u001b[39m\n\u001b[32m    523\u001b[39m \u001b[38;5;28;01mfor\u001b[39;00m processor \u001b[38;5;129;01min\u001b[39;00m \u001b[38;5;28mself\u001b[39m.process_response.get(protocol, []):\n\u001b[32m    524\u001b[39m     meth = \u001b[38;5;28mgetattr\u001b[39m(processor, meth_name)\n\u001b[32m--> \u001b[39m\u001b[32m525\u001b[39m     response = \u001b[43mmeth\u001b[49m\u001b[43m(\u001b[49m\u001b[43mreq\u001b[49m\u001b[43m,\u001b[49m\u001b[43m \u001b[49m\u001b[43mresponse\u001b[49m\u001b[43m)\u001b[49m\n\u001b[32m    527\u001b[39m \u001b[38;5;28;01mreturn\u001b[39;00m response\n",
      "\u001b[36mFile \u001b[39m\u001b[32m/usr/lib/python3.11/urllib/request.py:634\u001b[39m, in \u001b[36mHTTPErrorProcessor.http_response\u001b[39m\u001b[34m(self, request, response)\u001b[39m\n\u001b[32m    631\u001b[39m \u001b[38;5;66;03m# According to RFC 2616, \"2xx\" code indicates that the client's\u001b[39;00m\n\u001b[32m    632\u001b[39m \u001b[38;5;66;03m# request was successfully received, understood, and accepted.\u001b[39;00m\n\u001b[32m    633\u001b[39m \u001b[38;5;28;01mif\u001b[39;00m \u001b[38;5;129;01mnot\u001b[39;00m (\u001b[32m200\u001b[39m <= code < \u001b[32m300\u001b[39m):\n\u001b[32m--> \u001b[39m\u001b[32m634\u001b[39m     response = \u001b[38;5;28;43mself\u001b[39;49m\u001b[43m.\u001b[49m\u001b[43mparent\u001b[49m\u001b[43m.\u001b[49m\u001b[43merror\u001b[49m\u001b[43m(\u001b[49m\n\u001b[32m    635\u001b[39m \u001b[43m        \u001b[49m\u001b[33;43m'\u001b[39;49m\u001b[33;43mhttp\u001b[39;49m\u001b[33;43m'\u001b[39;49m\u001b[43m,\u001b[49m\u001b[43m \u001b[49m\u001b[43mrequest\u001b[49m\u001b[43m,\u001b[49m\u001b[43m \u001b[49m\u001b[43mresponse\u001b[49m\u001b[43m,\u001b[49m\u001b[43m \u001b[49m\u001b[43mcode\u001b[49m\u001b[43m,\u001b[49m\u001b[43m \u001b[49m\u001b[43mmsg\u001b[49m\u001b[43m,\u001b[49m\u001b[43m \u001b[49m\u001b[43mhdrs\u001b[49m\u001b[43m)\u001b[49m\n\u001b[32m    637\u001b[39m \u001b[38;5;28;01mreturn\u001b[39;00m response\n",
      "\u001b[36mFile \u001b[39m\u001b[32m/usr/lib/python3.11/urllib/request.py:563\u001b[39m, in \u001b[36mOpenerDirector.error\u001b[39m\u001b[34m(self, proto, *args)\u001b[39m\n\u001b[32m    561\u001b[39m \u001b[38;5;28;01mif\u001b[39;00m http_err:\n\u001b[32m    562\u001b[39m     args = (\u001b[38;5;28mdict\u001b[39m, \u001b[33m'\u001b[39m\u001b[33mdefault\u001b[39m\u001b[33m'\u001b[39m, \u001b[33m'\u001b[39m\u001b[33mhttp_error_default\u001b[39m\u001b[33m'\u001b[39m) + orig_args\n\u001b[32m--> \u001b[39m\u001b[32m563\u001b[39m     \u001b[38;5;28;01mreturn\u001b[39;00m \u001b[38;5;28;43mself\u001b[39;49m\u001b[43m.\u001b[49m\u001b[43m_call_chain\u001b[49m\u001b[43m(\u001b[49m\u001b[43m*\u001b[49m\u001b[43margs\u001b[49m\u001b[43m)\u001b[49m\n",
      "\u001b[36mFile \u001b[39m\u001b[32m/usr/lib/python3.11/urllib/request.py:496\u001b[39m, in \u001b[36mOpenerDirector._call_chain\u001b[39m\u001b[34m(self, chain, kind, meth_name, *args)\u001b[39m\n\u001b[32m    494\u001b[39m \u001b[38;5;28;01mfor\u001b[39;00m handler \u001b[38;5;129;01min\u001b[39;00m handlers:\n\u001b[32m    495\u001b[39m     func = \u001b[38;5;28mgetattr\u001b[39m(handler, meth_name)\n\u001b[32m--> \u001b[39m\u001b[32m496\u001b[39m     result = \u001b[43mfunc\u001b[49m\u001b[43m(\u001b[49m\u001b[43m*\u001b[49m\u001b[43margs\u001b[49m\u001b[43m)\u001b[49m\n\u001b[32m    497\u001b[39m     \u001b[38;5;28;01mif\u001b[39;00m result \u001b[38;5;129;01mis\u001b[39;00m \u001b[38;5;129;01mnot\u001b[39;00m \u001b[38;5;28;01mNone\u001b[39;00m:\n\u001b[32m    498\u001b[39m         \u001b[38;5;28;01mreturn\u001b[39;00m result\n",
      "\u001b[36mFile \u001b[39m\u001b[32m/usr/lib/python3.11/urllib/request.py:643\u001b[39m, in \u001b[36mHTTPDefaultErrorHandler.http_error_default\u001b[39m\u001b[34m(self, req, fp, code, msg, hdrs)\u001b[39m\n\u001b[32m    642\u001b[39m \u001b[38;5;28;01mdef\u001b[39;00m\u001b[38;5;250m \u001b[39m\u001b[34mhttp_error_default\u001b[39m(\u001b[38;5;28mself\u001b[39m, req, fp, code, msg, hdrs):\n\u001b[32m--> \u001b[39m\u001b[32m643\u001b[39m     \u001b[38;5;28;01mraise\u001b[39;00m HTTPError(req.full_url, code, msg, hdrs, fp)\n",
      "\u001b[31mHTTPError\u001b[39m: HTTP Error 403: Forbidden"
     ]
    }
   ],
   "source": [
    "st.set_page_config(\n",
    "    page_title=\"Sistema de ayuda a la toma de desición Riego Agrícola: Olivo\",\n",
    "    page_icon=\"💧\",\n",
    "    layout=\"wide\",\n",
    "    initial_sidebar_state=\"expanded\")\n",
    "\n",
    "alt.theme.enable(\"dark\")\n",
    "\n",
    "\n",
    "with st.sidebar:\n",
    "    st.title('💧 Sistema de ayuda a la toma de desición Riego Agrícola: Olivo')\n",
    "    \n",
    "    mun_list = list(estaciones['nombre'].unique())[::-1]\n",
    "    selected_mun = st.selectbox('Selecciona un municipio', mun_list, index=len(mun_list)-1)\n",
    "    df_selected_mun = df[df.nombre == selected_mun]\n",
    "    color_theme_list = ['blues', 'cividis', 'greens', 'inferno', 'magma', 'plasma', 'reds', 'rainbow', 'turbo', 'viridis']\n",
    "    cultivo = st.selectbox('Seleccione cultivo', \"Olivo\")\n",
    "\n",
    "    fecha_inicio = list(estaciones['nombre'].unique())[::-1]\n",
    "\n",
    "\n",
    "\n",
    "hoy = date.today()\n"
   ]
  },
  {
   "cell_type": "code",
   "execution_count": 11,
   "id": "01fd8e03",
   "metadata": {},
   "outputs": [],
   "source": [
    "fecha_inicio = list(df[df['nombre']==\"Baena\"]['fecha'])"
   ]
  },
  {
   "cell_type": "code",
   "execution_count": 12,
   "id": "aa4162bd",
   "metadata": {},
   "outputs": [],
   "source": [
    "df['fecha'] = pd.to_datetime(df['fecha'])\n"
   ]
  },
  {
   "cell_type": "code",
   "execution_count": 16,
   "id": "041adbe8",
   "metadata": {},
   "outputs": [
    {
     "data": {
      "text/plain": [
       "Timestamp('2005-01-01 00:00:00')"
      ]
     },
     "execution_count": 16,
     "metadata": {},
     "output_type": "execute_result"
    }
   ],
   "source": [
    "fecha_min = df['fecha'].min()\n",
    "fecha_min"
   ]
  },
  {
   "cell_type": "code",
   "execution_count": 22,
   "id": "af7e4422",
   "metadata": {},
   "outputs": [
    {
     "name": "stdout",
     "output_type": "stream",
     "text": [
      "<class 'pandas.core.frame.DataFrame'>\n",
      "RangeIndex: 690709 entries, 0 to 690708\n",
      "Data columns (total 35 columns):\n",
      " #   Column            Non-Null Count   Dtype         \n",
      "---  ------            --------------   -----         \n",
      " 0   fecha             690709 non-null  datetime64[ns]\n",
      " 1   dia               690709 non-null  int64         \n",
      " 2   tempMedia         689485 non-null  float64       \n",
      " 3   tempMax           689588 non-null  float64       \n",
      " 4   horMinTempMax     690709 non-null  object        \n",
      " 5   tempMin           689146 non-null  float64       \n",
      " 6   horMinTempMin     690709 non-null  object        \n",
      " 7   humedadMedia      689194 non-null  float64       \n",
      " 8   humedadMax        688772 non-null  float64       \n",
      " 9   horMinHumMax      690709 non-null  object        \n",
      " 10  humedadMin        688507 non-null  float64       \n",
      " 11  horMinHumMin      690709 non-null  object        \n",
      " 12  velViento         681821 non-null  float64       \n",
      " 13  dirViento         681604 non-null  float64       \n",
      " 14  velVientoMax      681822 non-null  float64       \n",
      " 15  horMinVelMax      690709 non-null  object        \n",
      " 16  dirVientoVelMax   682349 non-null  float64       \n",
      " 17  radiacion         689706 non-null  float64       \n",
      " 18  precipitacion     682214 non-null  float64       \n",
      " 19  bateria           688780 non-null  float64       \n",
      " 20  fechaUtlMod       690709 non-null  object        \n",
      " 21  et0               679335 non-null  float64       \n",
      " 22  provincia_id      690709 non-null  int64         \n",
      " 23  codigoEstacion    690709 non-null  int64         \n",
      " 24  nombre            690709 non-null  object        \n",
      " 25  bajoplastico      690709 non-null  bool          \n",
      " 26  activa            690709 non-null  bool          \n",
      " 27  visible           690709 non-null  bool          \n",
      " 28  longitud          690709 non-null  object        \n",
      " 29  latitud           690709 non-null  object        \n",
      " 30  altitud           690709 non-null  int64         \n",
      " 31  xutm              690709 non-null  float64       \n",
      " 32  yutm              690709 non-null  float64       \n",
      " 33  huso              690709 non-null  int64         \n",
      " 34  provincia_nombre  690709 non-null  object        \n",
      "dtypes: bool(3), datetime64[ns](1), float64(16), int64(5), object(10)\n",
      "memory usage: 170.6+ MB\n"
     ]
    }
   ],
   "source": [
    "df.info()"
   ]
  },
  {
   "cell_type": "code",
   "execution_count": 16,
   "id": "7d0a2e1f",
   "metadata": {},
   "outputs": [
    {
     "data": {
      "text/plain": [
       "Index(['fecha', 'dia', 'tempMedia', 'tempMax', 'horMinTempMax', 'tempMin',\n",
       "       'horMinTempMin', 'humedadMedia', 'humedadMax', 'horMinHumMax',\n",
       "       'humedadMin', 'horMinHumMin', 'velViento', 'dirViento', 'velVientoMax',\n",
       "       'horMinVelMax', 'dirVientoVelMax', 'radiacion', 'precipitacion',\n",
       "       'bateria', 'fechaUtlMod', 'et0', 'provincia_id', 'codigoEstacion',\n",
       "       'nombre', 'bajoplastico', 'activa', 'visible', 'longitud', 'latitud',\n",
       "       'altitud', 'xutm', 'yutm', 'huso', 'provincia_nombre'],\n",
       "      dtype='object')"
      ]
     },
     "execution_count": 16,
     "metadata": {},
     "output_type": "execute_result"
    }
   ],
   "source": [
    "df.columns"
   ]
  },
  {
   "cell_type": "code",
   "execution_count": null,
   "id": "4e8a546b",
   "metadata": {},
   "outputs": [
    {
     "ename": "NameError",
     "evalue": "name '__file__' is not defined",
     "output_type": "error",
     "traceback": [
      "\u001b[31m---------------------------------------------------------------------------\u001b[39m",
      "\u001b[31mNameError\u001b[39m                                 Traceback (most recent call last)",
      "\u001b[36mCell\u001b[39m\u001b[36m \u001b[39m\u001b[32mIn[18]\u001b[39m\u001b[32m, line 1\u001b[39m\n\u001b[32m----> \u001b[39m\u001b[32m1\u001b[39m script_dir = os.path.dirname(\u001b[34;43m__file__\u001b[39;49m)\n\u001b[32m      2\u001b[39m project_root = os.path.abspath(os.path.join(script_dir, \u001b[33m'\u001b[39m\u001b[33m..\u001b[39m\u001b[33m'\u001b[39m, \u001b[33m'\u001b[39m\u001b[33m..\u001b[39m\u001b[33m'\u001b[39m))\n\u001b[32m      3\u001b[39m mlruns_path = os.path.join(project_root, \u001b[33m\"\u001b[39m\u001b[33mmlruns\u001b[39m\u001b[33m\"\u001b[39m)\n",
      "\u001b[31mNameError\u001b[39m: name '__file__' is not defined"
     ]
    }
   ],
   "source": [
    "script_dir = os.path.dirname(__file__)\n",
    "project_root = os.path.abspath(os.path.join(script_dir, '..', '..'))\n",
    "mlruns_path = os.path.join(project_root, \"mlruns\")\n",
    "tracking_uri = \"file://\" + mlruns_path \n",
    "mlflow.set_tracking_uri(tracking_uri)\n",
    "\n",
    "model_name = \"xgboost\"\n",
    "model_version = \"2\"\n",
    "\n",
    "# Load the model from the Model Registry\n",
    "model_uri = f\"models:/{model_name}/{model_version}\"\n",
    "model = mlflow.xgboost.load_model(model_uri)\n",
    "\n"
   ]
  },
  {
   "cell_type": "code",
   "execution_count": 2,
   "id": "21dd41bd",
   "metadata": {},
   "outputs": [],
   "source": [
    "import pandas as pd"
   ]
  },
  {
   "cell_type": "code",
   "execution_count": 5,
   "id": "778c76ee",
   "metadata": {},
   "outputs": [
    {
     "name": "stdout",
     "output_type": "stream",
     "text": [
      "(160578, 21)\n",
      "Index(['tempMedia', 'tempMax', 'tempMin', 'humedadMedia', 'humedadMax',\n",
      "       'humedadMin', 'velViento', 'dirViento', 'velVientoMax',\n",
      "       'dirVientoVelMax', 'radiacion', 'precipitacion', 'altitud', 'lon',\n",
      "       'lat', 'dia_del_año_sin', 'dia_del_año_cos', 'año', 'mes', 'mes_sin',\n",
      "       'mes_cos'],\n",
      "      dtype='object')\n"
     ]
    }
   ],
   "source": [
    "X_train = pd.read_csv(\"../../data/final/X_test_final.csv\", sep =\";\")\n",
    "print(X_train.shape)\n",
    "print(X_train.columns)"
   ]
  },
  {
   "cell_type": "code",
   "execution_count": 6,
   "id": "446eb6a1",
   "metadata": {},
   "outputs": [
    {
     "name": "stdout",
     "output_type": "stream",
     "text": [
      "(690709, 35)\n",
      "Index(['fecha', 'dia', 'tempMedia', 'tempMax', 'horMinTempMax', 'tempMin',\n",
      "       'horMinTempMin', 'humedadMedia', 'humedadMax', 'horMinHumMax',\n",
      "       'humedadMin', 'horMinHumMin', 'velViento', 'dirViento', 'velVientoMax',\n",
      "       'horMinVelMax', 'dirVientoVelMax', 'radiacion', 'precipitacion',\n",
      "       'bateria', 'fechaUtlMod', 'et0', 'provincia_id', 'codigoEstacion',\n",
      "       'nombre', 'bajoplastico', 'activa', 'visible', 'longitud', 'latitud',\n",
      "       'altitud', 'xutm', 'yutm', 'huso', 'provincia_nombre'],\n",
      "      dtype='object')\n"
     ]
    }
   ],
   "source": [
    "X_train = pd.read_csv(\"../../data/processed/datos_integrados.csv\", sep =\";\")\n",
    "print(X_train.shape)\n",
    "print(X_train.columns)"
   ]
  },
  {
   "cell_type": "code",
   "execution_count": 52,
   "id": "86a9a4df",
   "metadata": {},
   "outputs": [
    {
     "data": {
      "text/plain": [
       "300"
      ]
     },
     "execution_count": 52,
     "metadata": {},
     "output_type": "execute_result"
    }
   ],
   "source": [
    "from datetime import date\n",
    "hoy = date.today()\n",
    "hoy.timetuple().tm_yday"
   ]
  },
  {
   "cell_type": "code",
   "execution_count": 53,
   "id": "0f4083f4",
   "metadata": {},
   "outputs": [
    {
     "data": {
      "text/html": [
       "<div>\n",
       "<style scoped>\n",
       "    .dataframe tbody tr th:only-of-type {\n",
       "        vertical-align: middle;\n",
       "    }\n",
       "\n",
       "    .dataframe tbody tr th {\n",
       "        vertical-align: top;\n",
       "    }\n",
       "\n",
       "    .dataframe thead th {\n",
       "        text-align: right;\n",
       "    }\n",
       "</style>\n",
       "<table border=\"1\" class=\"dataframe\">\n",
       "  <thead>\n",
       "    <tr style=\"text-align: right;\">\n",
       "      <th></th>\n",
       "      <th>nombre</th>\n",
       "      <th>provincia_nombre</th>\n",
       "      <th>xutm</th>\n",
       "      <th>yutm</th>\n",
       "      <th>altitud</th>\n",
       "    </tr>\n",
       "  </thead>\n",
       "  <tbody>\n",
       "    <tr>\n",
       "      <th>0</th>\n",
       "      <td>Basurta-Jerez de la Frontera</td>\n",
       "      <td>Cádiz</td>\n",
       "      <td>230650.0</td>\n",
       "      <td>4072170.0</td>\n",
       "      <td>39</td>\n",
       "    </tr>\n",
       "    <tr>\n",
       "      <th>7404</th>\n",
       "      <td>Conil de la Frontera</td>\n",
       "      <td>Cádiz</td>\n",
       "      <td>218803.0</td>\n",
       "      <td>4025430.0</td>\n",
       "      <td>22</td>\n",
       "    </tr>\n",
       "    <tr>\n",
       "      <th>14432</th>\n",
       "      <td>IFAPA Centro de Chipiona</td>\n",
       "      <td>Cádiz</td>\n",
       "      <td>196448.0</td>\n",
       "      <td>4072630.0</td>\n",
       "      <td>7</td>\n",
       "    </tr>\n",
       "    <tr>\n",
       "      <th>21909</th>\n",
       "      <td>Jerez de la Frontera</td>\n",
       "      <td>Cádiz</td>\n",
       "      <td>230594.0</td>\n",
       "      <td>4059470.0</td>\n",
       "      <td>17</td>\n",
       "    </tr>\n",
       "    <tr>\n",
       "      <th>29385</th>\n",
       "      <td>Jimena de la Frontera</td>\n",
       "      <td>Cádiz</td>\n",
       "      <td>286263.0</td>\n",
       "      <td>4032470.0</td>\n",
       "      <td>50</td>\n",
       "    </tr>\n",
       "    <tr>\n",
       "      <th>...</th>\n",
       "      <td>...</td>\n",
       "      <td>...</td>\n",
       "      <td>...</td>\n",
       "      <td>...</td>\n",
       "      <td>...</td>\n",
       "    </tr>\n",
       "    <tr>\n",
       "      <th>653230</th>\n",
       "      <td>IFAPA Churriana</td>\n",
       "      <td>Málaga</td>\n",
       "      <td>365680.0</td>\n",
       "      <td>4059740.0</td>\n",
       "      <td>17</td>\n",
       "    </tr>\n",
       "    <tr>\n",
       "      <th>660722</th>\n",
       "      <td>Málaga</td>\n",
       "      <td>Málaga</td>\n",
       "      <td>362741.0</td>\n",
       "      <td>4068970.0</td>\n",
       "      <td>55</td>\n",
       "    </tr>\n",
       "    <tr>\n",
       "      <th>668228</th>\n",
       "      <td>Pizarra</td>\n",
       "      <td>Málaga</td>\n",
       "      <td>346918.0</td>\n",
       "      <td>4070360.0</td>\n",
       "      <td>71</td>\n",
       "    </tr>\n",
       "    <tr>\n",
       "      <th>675706</th>\n",
       "      <td>Sierra Yeguas</td>\n",
       "      <td>Málaga</td>\n",
       "      <td>336928.0</td>\n",
       "      <td>4111800.0</td>\n",
       "      <td>467</td>\n",
       "    </tr>\n",
       "    <tr>\n",
       "      <th>683208</th>\n",
       "      <td>Vélez-Málaga</td>\n",
       "      <td>Málaga</td>\n",
       "      <td>399039.0</td>\n",
       "      <td>4072850.0</td>\n",
       "      <td>33</td>\n",
       "    </tr>\n",
       "  </tbody>\n",
       "</table>\n",
       "<p>100 rows × 5 columns</p>\n",
       "</div>"
      ],
      "text/plain": [
       "                              nombre provincia_nombre      xutm       yutm  \\\n",
       "0       Basurta-Jerez de la Frontera            Cádiz  230650.0  4072170.0   \n",
       "7404            Conil de la Frontera            Cádiz  218803.0  4025430.0   \n",
       "14432       IFAPA Centro de Chipiona            Cádiz  196448.0  4072630.0   \n",
       "21909           Jerez de la Frontera            Cádiz  230594.0  4059470.0   \n",
       "29385          Jimena de la Frontera            Cádiz  286263.0  4032470.0   \n",
       "...                              ...              ...       ...        ...   \n",
       "653230               IFAPA Churriana           Málaga  365680.0  4059740.0   \n",
       "660722                        Málaga           Málaga  362741.0  4068970.0   \n",
       "668228                       Pizarra           Málaga  346918.0  4070360.0   \n",
       "675706                 Sierra Yeguas           Málaga  336928.0  4111800.0   \n",
       "683208                  Vélez-Málaga           Málaga  399039.0  4072850.0   \n",
       "\n",
       "        altitud  \n",
       "0            39  \n",
       "7404         22  \n",
       "14432         7  \n",
       "21909        17  \n",
       "29385        50  \n",
       "...         ...  \n",
       "653230       17  \n",
       "660722       55  \n",
       "668228       71  \n",
       "675706      467  \n",
       "683208       33  \n",
       "\n",
       "[100 rows x 5 columns]"
      ]
     },
     "execution_count": 53,
     "metadata": {},
     "output_type": "execute_result"
    }
   ],
   "source": [
    "coordenadas = df[['nombre','provincia_nombre','xutm', 'yutm', 'altitud']].drop_duplicates()\n",
    "coordenadas"
   ]
  },
  {
   "cell_type": "code",
   "execution_count": 54,
   "id": "e835b319",
   "metadata": {},
   "outputs": [],
   "source": [
    "selected_mun=\"Pizarra\""
   ]
  },
  {
   "cell_type": "code",
   "execution_count": 55,
   "id": "f56eb910",
   "metadata": {},
   "outputs": [
    {
     "data": {
      "text/plain": [
       "668228    71\n",
       "Name: altitud, dtype: int64"
      ]
     },
     "execution_count": 55,
     "metadata": {},
     "output_type": "execute_result"
    }
   ],
   "source": [
    "\n",
    "coordenadas[coordenadas['nombre']==selected_mun].altitud"
   ]
  },
  {
   "cell_type": "code",
   "execution_count": 57,
   "id": "aa6c816c",
   "metadata": {},
   "outputs": [
    {
     "name": "stderr",
     "output_type": "stream",
     "text": [
      "2025-10-27 22:50:32.783 Thread 'MainThread': missing ScriptRunContext! This warning can be ignored when running in bare mode.\n"
     ]
    },
    {
     "ename": "FileNotFoundError",
     "evalue": "[Errno 2] No such file or directory: 'data/demo_app/df_demo.csv'",
     "output_type": "error",
     "traceback": [
      "\u001b[31m---------------------------------------------------------------------------\u001b[39m",
      "\u001b[31mFileNotFoundError\u001b[39m                         Traceback (most recent call last)",
      "\u001b[36mCell\u001b[39m\u001b[36m \u001b[39m\u001b[32mIn[57]\u001b[39m\u001b[32m, line 19\u001b[39m\n\u001b[32m     11\u001b[39m st.set_page_config(\n\u001b[32m     12\u001b[39m     page_title=\u001b[33m\"\u001b[39m\u001b[33mSistema de ayuda a la toma de desición Riego Agrícola: Olivo\u001b[39m\u001b[33m\"\u001b[39m,\n\u001b[32m     13\u001b[39m     page_icon=\u001b[33m\"\u001b[39m\u001b[33m💧\u001b[39m\u001b[33m\"\u001b[39m,\n\u001b[32m     14\u001b[39m     layout=\u001b[33m\"\u001b[39m\u001b[33mwide\u001b[39m\u001b[33m\"\u001b[39m,\n\u001b[32m     15\u001b[39m     initial_sidebar_state=\u001b[33m\"\u001b[39m\u001b[33mexpanded\u001b[39m\u001b[33m\"\u001b[39m)\n\u001b[32m     17\u001b[39m alt.theme.enable(\u001b[33m\"\u001b[39m\u001b[33mdark\u001b[39m\u001b[33m\"\u001b[39m)\n\u001b[32m---> \u001b[39m\u001b[32m19\u001b[39m df = \u001b[43mpd\u001b[49m\u001b[43m.\u001b[49m\u001b[43mread_csv\u001b[49m\u001b[43m(\u001b[49m\u001b[33;43m\"\u001b[39;49m\u001b[33;43mdata/demo_app/df_demo.csv\u001b[39;49m\u001b[33;43m\"\u001b[39;49m\u001b[43m,\u001b[49m\u001b[43m \u001b[49m\u001b[43msep\u001b[49m\u001b[43m \u001b[49m\u001b[43m=\u001b[49m\u001b[33;43m\"\u001b[39;49m\u001b[33;43m;\u001b[39;49m\u001b[33;43m\"\u001b[39;49m\u001b[43m)\u001b[49m\n\u001b[32m     21\u001b[39m coordenadas = df[[\u001b[33m'\u001b[39m\u001b[33mnombre\u001b[39m\u001b[33m'\u001b[39m,\u001b[33m'\u001b[39m\u001b[33mprovincia_nombre\u001b[39m\u001b[33m'\u001b[39m,\u001b[33m'\u001b[39m\u001b[33mxutm\u001b[39m\u001b[33m'\u001b[39m, \u001b[33m'\u001b[39m\u001b[33myutm\u001b[39m\u001b[33m'\u001b[39m, \u001b[33m'\u001b[39m\u001b[33maltitud\u001b[39m\u001b[33m'\u001b[39m]].drop_duplicates()\n\u001b[32m     22\u001b[39m lon, lat =coordenadas_gms(coordenadas[\u001b[33m\"\u001b[39m\u001b[33mxutm\u001b[39m\u001b[33m\"\u001b[39m],coordenadas[\u001b[33m\"\u001b[39m\u001b[33myutm\u001b[39m\u001b[33m\"\u001b[39m])\n",
      "\u001b[36mFile \u001b[39m\u001b[32m~/Escritorio/TFM-Sistema-Riego-Agricola/.env/lib/python3.11/site-packages/pandas/io/parsers/readers.py:1026\u001b[39m, in \u001b[36mread_csv\u001b[39m\u001b[34m(filepath_or_buffer, sep, delimiter, header, names, index_col, usecols, dtype, engine, converters, true_values, false_values, skipinitialspace, skiprows, skipfooter, nrows, na_values, keep_default_na, na_filter, verbose, skip_blank_lines, parse_dates, infer_datetime_format, keep_date_col, date_parser, date_format, dayfirst, cache_dates, iterator, chunksize, compression, thousands, decimal, lineterminator, quotechar, quoting, doublequote, escapechar, comment, encoding, encoding_errors, dialect, on_bad_lines, delim_whitespace, low_memory, memory_map, float_precision, storage_options, dtype_backend)\u001b[39m\n\u001b[32m   1013\u001b[39m kwds_defaults = _refine_defaults_read(\n\u001b[32m   1014\u001b[39m     dialect,\n\u001b[32m   1015\u001b[39m     delimiter,\n\u001b[32m   (...)\u001b[39m\u001b[32m   1022\u001b[39m     dtype_backend=dtype_backend,\n\u001b[32m   1023\u001b[39m )\n\u001b[32m   1024\u001b[39m kwds.update(kwds_defaults)\n\u001b[32m-> \u001b[39m\u001b[32m1026\u001b[39m \u001b[38;5;28;01mreturn\u001b[39;00m \u001b[43m_read\u001b[49m\u001b[43m(\u001b[49m\u001b[43mfilepath_or_buffer\u001b[49m\u001b[43m,\u001b[49m\u001b[43m \u001b[49m\u001b[43mkwds\u001b[49m\u001b[43m)\u001b[49m\n",
      "\u001b[36mFile \u001b[39m\u001b[32m~/Escritorio/TFM-Sistema-Riego-Agricola/.env/lib/python3.11/site-packages/pandas/io/parsers/readers.py:620\u001b[39m, in \u001b[36m_read\u001b[39m\u001b[34m(filepath_or_buffer, kwds)\u001b[39m\n\u001b[32m    617\u001b[39m _validate_names(kwds.get(\u001b[33m\"\u001b[39m\u001b[33mnames\u001b[39m\u001b[33m\"\u001b[39m, \u001b[38;5;28;01mNone\u001b[39;00m))\n\u001b[32m    619\u001b[39m \u001b[38;5;66;03m# Create the parser.\u001b[39;00m\n\u001b[32m--> \u001b[39m\u001b[32m620\u001b[39m parser = \u001b[43mTextFileReader\u001b[49m\u001b[43m(\u001b[49m\u001b[43mfilepath_or_buffer\u001b[49m\u001b[43m,\u001b[49m\u001b[43m \u001b[49m\u001b[43m*\u001b[49m\u001b[43m*\u001b[49m\u001b[43mkwds\u001b[49m\u001b[43m)\u001b[49m\n\u001b[32m    622\u001b[39m \u001b[38;5;28;01mif\u001b[39;00m chunksize \u001b[38;5;129;01mor\u001b[39;00m iterator:\n\u001b[32m    623\u001b[39m     \u001b[38;5;28;01mreturn\u001b[39;00m parser\n",
      "\u001b[36mFile \u001b[39m\u001b[32m~/Escritorio/TFM-Sistema-Riego-Agricola/.env/lib/python3.11/site-packages/pandas/io/parsers/readers.py:1620\u001b[39m, in \u001b[36mTextFileReader.__init__\u001b[39m\u001b[34m(self, f, engine, **kwds)\u001b[39m\n\u001b[32m   1617\u001b[39m     \u001b[38;5;28mself\u001b[39m.options[\u001b[33m\"\u001b[39m\u001b[33mhas_index_names\u001b[39m\u001b[33m\"\u001b[39m] = kwds[\u001b[33m\"\u001b[39m\u001b[33mhas_index_names\u001b[39m\u001b[33m\"\u001b[39m]\n\u001b[32m   1619\u001b[39m \u001b[38;5;28mself\u001b[39m.handles: IOHandles | \u001b[38;5;28;01mNone\u001b[39;00m = \u001b[38;5;28;01mNone\u001b[39;00m\n\u001b[32m-> \u001b[39m\u001b[32m1620\u001b[39m \u001b[38;5;28mself\u001b[39m._engine = \u001b[38;5;28;43mself\u001b[39;49m\u001b[43m.\u001b[49m\u001b[43m_make_engine\u001b[49m\u001b[43m(\u001b[49m\u001b[43mf\u001b[49m\u001b[43m,\u001b[49m\u001b[43m \u001b[49m\u001b[38;5;28;43mself\u001b[39;49m\u001b[43m.\u001b[49m\u001b[43mengine\u001b[49m\u001b[43m)\u001b[49m\n",
      "\u001b[36mFile \u001b[39m\u001b[32m~/Escritorio/TFM-Sistema-Riego-Agricola/.env/lib/python3.11/site-packages/pandas/io/parsers/readers.py:1880\u001b[39m, in \u001b[36mTextFileReader._make_engine\u001b[39m\u001b[34m(self, f, engine)\u001b[39m\n\u001b[32m   1878\u001b[39m     \u001b[38;5;28;01mif\u001b[39;00m \u001b[33m\"\u001b[39m\u001b[33mb\u001b[39m\u001b[33m\"\u001b[39m \u001b[38;5;129;01mnot\u001b[39;00m \u001b[38;5;129;01min\u001b[39;00m mode:\n\u001b[32m   1879\u001b[39m         mode += \u001b[33m\"\u001b[39m\u001b[33mb\u001b[39m\u001b[33m\"\u001b[39m\n\u001b[32m-> \u001b[39m\u001b[32m1880\u001b[39m \u001b[38;5;28mself\u001b[39m.handles = \u001b[43mget_handle\u001b[49m\u001b[43m(\u001b[49m\n\u001b[32m   1881\u001b[39m \u001b[43m    \u001b[49m\u001b[43mf\u001b[49m\u001b[43m,\u001b[49m\n\u001b[32m   1882\u001b[39m \u001b[43m    \u001b[49m\u001b[43mmode\u001b[49m\u001b[43m,\u001b[49m\n\u001b[32m   1883\u001b[39m \u001b[43m    \u001b[49m\u001b[43mencoding\u001b[49m\u001b[43m=\u001b[49m\u001b[38;5;28;43mself\u001b[39;49m\u001b[43m.\u001b[49m\u001b[43moptions\u001b[49m\u001b[43m.\u001b[49m\u001b[43mget\u001b[49m\u001b[43m(\u001b[49m\u001b[33;43m\"\u001b[39;49m\u001b[33;43mencoding\u001b[39;49m\u001b[33;43m\"\u001b[39;49m\u001b[43m,\u001b[49m\u001b[43m \u001b[49m\u001b[38;5;28;43;01mNone\u001b[39;49;00m\u001b[43m)\u001b[49m\u001b[43m,\u001b[49m\n\u001b[32m   1884\u001b[39m \u001b[43m    \u001b[49m\u001b[43mcompression\u001b[49m\u001b[43m=\u001b[49m\u001b[38;5;28;43mself\u001b[39;49m\u001b[43m.\u001b[49m\u001b[43moptions\u001b[49m\u001b[43m.\u001b[49m\u001b[43mget\u001b[49m\u001b[43m(\u001b[49m\u001b[33;43m\"\u001b[39;49m\u001b[33;43mcompression\u001b[39;49m\u001b[33;43m\"\u001b[39;49m\u001b[43m,\u001b[49m\u001b[43m \u001b[49m\u001b[38;5;28;43;01mNone\u001b[39;49;00m\u001b[43m)\u001b[49m\u001b[43m,\u001b[49m\n\u001b[32m   1885\u001b[39m \u001b[43m    \u001b[49m\u001b[43mmemory_map\u001b[49m\u001b[43m=\u001b[49m\u001b[38;5;28;43mself\u001b[39;49m\u001b[43m.\u001b[49m\u001b[43moptions\u001b[49m\u001b[43m.\u001b[49m\u001b[43mget\u001b[49m\u001b[43m(\u001b[49m\u001b[33;43m\"\u001b[39;49m\u001b[33;43mmemory_map\u001b[39;49m\u001b[33;43m\"\u001b[39;49m\u001b[43m,\u001b[49m\u001b[43m \u001b[49m\u001b[38;5;28;43;01mFalse\u001b[39;49;00m\u001b[43m)\u001b[49m\u001b[43m,\u001b[49m\n\u001b[32m   1886\u001b[39m \u001b[43m    \u001b[49m\u001b[43mis_text\u001b[49m\u001b[43m=\u001b[49m\u001b[43mis_text\u001b[49m\u001b[43m,\u001b[49m\n\u001b[32m   1887\u001b[39m \u001b[43m    \u001b[49m\u001b[43merrors\u001b[49m\u001b[43m=\u001b[49m\u001b[38;5;28;43mself\u001b[39;49m\u001b[43m.\u001b[49m\u001b[43moptions\u001b[49m\u001b[43m.\u001b[49m\u001b[43mget\u001b[49m\u001b[43m(\u001b[49m\u001b[33;43m\"\u001b[39;49m\u001b[33;43mencoding_errors\u001b[39;49m\u001b[33;43m\"\u001b[39;49m\u001b[43m,\u001b[49m\u001b[43m \u001b[49m\u001b[33;43m\"\u001b[39;49m\u001b[33;43mstrict\u001b[39;49m\u001b[33;43m\"\u001b[39;49m\u001b[43m)\u001b[49m\u001b[43m,\u001b[49m\n\u001b[32m   1888\u001b[39m \u001b[43m    \u001b[49m\u001b[43mstorage_options\u001b[49m\u001b[43m=\u001b[49m\u001b[38;5;28;43mself\u001b[39;49m\u001b[43m.\u001b[49m\u001b[43moptions\u001b[49m\u001b[43m.\u001b[49m\u001b[43mget\u001b[49m\u001b[43m(\u001b[49m\u001b[33;43m\"\u001b[39;49m\u001b[33;43mstorage_options\u001b[39;49m\u001b[33;43m\"\u001b[39;49m\u001b[43m,\u001b[49m\u001b[43m \u001b[49m\u001b[38;5;28;43;01mNone\u001b[39;49;00m\u001b[43m)\u001b[49m\u001b[43m,\u001b[49m\n\u001b[32m   1889\u001b[39m \u001b[43m\u001b[49m\u001b[43m)\u001b[49m\n\u001b[32m   1890\u001b[39m \u001b[38;5;28;01massert\u001b[39;00m \u001b[38;5;28mself\u001b[39m.handles \u001b[38;5;129;01mis\u001b[39;00m \u001b[38;5;129;01mnot\u001b[39;00m \u001b[38;5;28;01mNone\u001b[39;00m\n\u001b[32m   1891\u001b[39m f = \u001b[38;5;28mself\u001b[39m.handles.handle\n",
      "\u001b[36mFile \u001b[39m\u001b[32m~/Escritorio/TFM-Sistema-Riego-Agricola/.env/lib/python3.11/site-packages/pandas/io/common.py:873\u001b[39m, in \u001b[36mget_handle\u001b[39m\u001b[34m(path_or_buf, mode, encoding, compression, memory_map, is_text, errors, storage_options)\u001b[39m\n\u001b[32m    868\u001b[39m \u001b[38;5;28;01melif\u001b[39;00m \u001b[38;5;28misinstance\u001b[39m(handle, \u001b[38;5;28mstr\u001b[39m):\n\u001b[32m    869\u001b[39m     \u001b[38;5;66;03m# Check whether the filename is to be opened in binary mode.\u001b[39;00m\n\u001b[32m    870\u001b[39m     \u001b[38;5;66;03m# Binary mode does not support 'encoding' and 'newline'.\u001b[39;00m\n\u001b[32m    871\u001b[39m     \u001b[38;5;28;01mif\u001b[39;00m ioargs.encoding \u001b[38;5;129;01mand\u001b[39;00m \u001b[33m\"\u001b[39m\u001b[33mb\u001b[39m\u001b[33m\"\u001b[39m \u001b[38;5;129;01mnot\u001b[39;00m \u001b[38;5;129;01min\u001b[39;00m ioargs.mode:\n\u001b[32m    872\u001b[39m         \u001b[38;5;66;03m# Encoding\u001b[39;00m\n\u001b[32m--> \u001b[39m\u001b[32m873\u001b[39m         handle = \u001b[38;5;28mopen\u001b[39m(\n\u001b[32m    874\u001b[39m             handle,\n\u001b[32m    875\u001b[39m             ioargs.mode,\n\u001b[32m    876\u001b[39m             encoding=ioargs.encoding,\n\u001b[32m    877\u001b[39m             errors=errors,\n\u001b[32m    878\u001b[39m             newline=\u001b[33m\"\u001b[39m\u001b[33m\"\u001b[39m,\n\u001b[32m    879\u001b[39m         )\n\u001b[32m    880\u001b[39m     \u001b[38;5;28;01melse\u001b[39;00m:\n\u001b[32m    881\u001b[39m         \u001b[38;5;66;03m# Binary mode\u001b[39;00m\n\u001b[32m    882\u001b[39m         handle = \u001b[38;5;28mopen\u001b[39m(handle, ioargs.mode)\n",
      "\u001b[31mFileNotFoundError\u001b[39m: [Errno 2] No such file or directory: 'data/demo_app/df_demo.csv'"
     ]
    }
   ],
   "source": [
    "import streamlit as st\n",
    "import mlflow\n",
    "import os\n",
    "import altair as alt\n",
    "import plotly.express as px\n",
    "import pandas as pd\n",
    "from datetime import date\n",
    "from joblib import load\n",
    "\n",
    "\n",
    "st.set_page_config(\n",
    "    page_title=\"Sistema de ayuda a la toma de desición Riego Agrícola: Olivo\",\n",
    "    page_icon=\"💧\",\n",
    "    layout=\"wide\",\n",
    "    initial_sidebar_state=\"expanded\")\n",
    "\n",
    "alt.theme.enable(\"dark\")\n",
    "\n",
    "df = pd.read_csv(\"data/demo_app/df_demo.csv\", sep =\";\")\n",
    "\n",
    "coordenadas = df[['nombre','provincia_nombre','xutm', 'yutm', 'altitud']].drop_duplicates()\n",
    "lon, lat =coordenadas_gms(coordenadas[\"xutm\"],coordenadas[\"yutm\"])\n",
    "\n",
    "with st.sidebar:\n",
    "    st.title('💧 Sistema de ayuda a la toma de desición Riego Agrícola: Olivo')\n",
    "    \n",
    "    mun_list = sorted(list(df['nombre'].unique()), reverse=True)\n",
    "    selected_mun = st.selectbox('Selecciona un municipio', mun_list, index=len(mun_list)-1)\n",
    "    df_selected_mun = df[df.nombre == selected_mun]\n",
    "    color_theme_list = ['blues', 'cividis', 'greens', 'inferno', 'magma', 'plasma', 'reds', 'rainbow', 'turbo', 'viridis']\n",
    "    cultivo = st.selectbox('Seleccione cultivo', \"Olivo\")\n",
    "\n",
    "    df['fecha'] = pd.to_datetime(df['fecha'])\n",
    "\n",
    "    if selected_mun:\n",
    "        df_mun = df[df['nombre']==selected_mun]\n",
    "        fecha_min = df_mun['fecha'].min()\n",
    "        fecha_max = df_mun['fecha'].max()\n",
    "        st.write(f\"Datos disponibles para esta estación desde el {fecha_min} hasta el {fecha_max}\")\n",
    "        rango_seleccionado = st.date_input(\"Selecciona un rango de fechas\",\n",
    "            value=(fecha_min, fecha_max), \n",
    "            min_value=fecha_min,               \n",
    "            max_value=fecha_max               \n",
    "        )\n",
    "\n",
    "        if len(rango_seleccionado) == 2:\n",
    "            fecha_inicio = rango_seleccionado[0]\n",
    "            fecha_fin = rango_seleccionado[1]\n",
    "            \n",
    "            st.success(f\"Rango seleccionado: {fecha_inicio} al {fecha_fin}\")\n",
    "            \n",
    "        else:\n",
    "            st.warning(\"No hay datos para la estación seleccionada.\")\n",
    "\n",
    "\n",
    "hoy = date.today()\n",
    "año, mes, dia_año = extract_fecha(hoy)\n",
    "sin_mes, cos_mes = transform_mes_año(mes)\n",
    "sin_dia_año, cos_dia_año = transform_dia_año(dia_año)\n",
    "\n",
    "modelo = load('notebooks/modelado/XGBoost_modelo_final.joblib')\n",
    "scaler = load('notebooks/preparacion_datos/standard_scaler.joblib')\n",
    "\n",
    "\n",
    "\n",
    "st.header(\"Realizar una Nueva Predicción 📝\")\n",
    "\n",
    "with st.form(\"formulario_prediccion\"):\n",
    "    \n",
    "    st.write(\"Introduce los parámetros meteorológicos diarios:\")\n",
    "    \n",
    "    col1, col2, col3= st.columns(3)\n",
    "    \n",
    "    with col1:\n",
    "        temp_max = st.number_input(\n",
    "            \"Temperatura Máxima (°C)\", \n",
    "            min_value=0.0, \n",
    "            max_value=50.0, \n",
    "            value=22.5, \n",
    "            step=0.1\n",
    "        )\n",
    "        temp_min = st.number_input(\n",
    "            \"Temperatura Mínima (°C)\", \n",
    "            min_value=-20.0, \n",
    "            max_value=40.0, \n",
    "            value=22.5, \n",
    "            step=0.1\n",
    "        )\n",
    "\n",
    "    with col2:\n",
    "        humedad_max = st.slider(\n",
    "            \"Humedad Relativa Máxima(%)\", \n",
    "            min_value=0, \n",
    "            max_value=100, \n",
    "            value=65\n",
    "        )   \n",
    "        humedad_min = st.slider(\n",
    "            \"Humedad Relativa Mínima (%)\", \n",
    "            min_value=0, \n",
    "            max_value=100, \n",
    "            value=65\n",
    "        )          \n",
    "\n",
    "\n",
    "    with col3:\n",
    "        viento = st.number_input(\n",
    "            \"Velocidad del Viento (m/s)\", \n",
    "            min_value=0.0, \n",
    "            max_value=20.0, \n",
    "            value=2.0, \n",
    "            step=0.1\n",
    "        )\n",
    "        submitted = st.form_submit_button(\"Ejecutar Predicción\")\n",
    "\n",
    "\n",
    "\n",
    "mun_data = coordenadas[coordenadas['nombre']==selected_mun]\n",
    "\n",
    "lon, lat = coordenadas_gms(mun_data.xutm, mun_data.yutm)\n",
    "if submitted:\n",
    "    st.markdown(\"---\")\n",
    "    st.subheader(\"Resultado de la Predicción\")\n",
    "\n",
    "    # 1. Recolectar datos en un diccionario\n",
    "    datos_para_modelo = {\n",
    "        'tempMax': temp_max,\n",
    "        'tempMin': temp_min,\n",
    "        'humedadMax': humedad_max,\n",
    "        'humedadMin': humedad_min,\n",
    "        'velViento': viento,\n",
    "        'altitud': mun_data.altitud,\n",
    "        'lon': lon,\n",
    "        'lat': lat,\n",
    "        'dia_del_año_sin': sin_dia_año,\n",
    "        'dia_del_año_cos': cos_dia_año, \n",
    "        'año': año, \n",
    "        'mes': mes, \n",
    "        'mes_sin': sin_mes, \n",
    "        'mes_cos': cos_mes\n",
    "    }\n",
    "    \n",
    "    input = pd.DataFrame(datos_para_modelo)\n",
    "    input = scaler.fit(input.astype(float))\n",
    "\n",
    "    with st.spinner(\"Ejecutando modelo...\"):\n",
    "        \n",
    "        resultado_prediccion = modelo.predict(input)\n",
    "    \n",
    "    \n",
    "    st.success(\"¡Predicción completada!\")\n",
    "    \n",
    "    \n",
    "    st.metric(\n",
    "        label=\"Evapotranspiración (ETo) Predicha\",\n",
    "        value=f\"{resultado_prediccion:.2f} mm/día\"\n",
    "    )\n",
    "    \n"
   ]
  },
  {
   "cell_type": "code",
   "execution_count": null,
   "id": "69938259",
   "metadata": {},
   "outputs": [],
   "source": []
  }
 ],
 "metadata": {
  "kernelspec": {
   "display_name": "sist_riego",
   "language": "python",
   "name": "python3"
  },
  "language_info": {
   "codemirror_mode": {
    "name": "ipython",
    "version": 3
   },
   "file_extension": ".py",
   "mimetype": "text/x-python",
   "name": "python",
   "nbconvert_exporter": "python",
   "pygments_lexer": "ipython3",
   "version": "3.11.2"
  }
 },
 "nbformat": 4,
 "nbformat_minor": 5
}
