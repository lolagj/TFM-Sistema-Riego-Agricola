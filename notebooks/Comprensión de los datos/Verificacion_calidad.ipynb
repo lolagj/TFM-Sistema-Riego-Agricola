{
 "cells": [
  {
   "cell_type": "markdown",
   "id": "377bb59c",
   "metadata": {},
   "source": [
    "# Verificación Calidad de los datos\n",
    "\n",
    "\n",
    "En este notebook, se va a verificar la calidad de los datos y se va a generar un dataset.\n",
    "La verificación de calidad va a consistir en:\n",
    "* Completitud\n",
    "    * Evaluación de valores nulos.\n",
    "    * Evaluación de completitud serie temporal.\n",
    "    * Evaluación de rango de fecha\n",
    "* Consistencia\n",
    "    * Filas duplicadas\n",
    "    * Claves únicas\n",
    "    * Integridad referencial\n",
    "* Exactitud\n",
    "    * Evaluación de formato válido\n",
    "    * Valores outliers\n",
    "\n",
    "\n",
    "Establecemos los umbrales de aceptación:"
   ]
  },
  {
   "cell_type": "code",
   "execution_count": 1,
   "id": "45f7167c",
   "metadata": {},
   "outputs": [],
   "source": [
    "completitud_n = 0.2 #menor\n",
    "completitud_st = 0.1 #menor\n",
    "completitud_f = 5 #mayor\n",
    "filas_duplicas = 0 #\n",
    "valores_outliers = 0.0 \n",
    "formato_invalido = 0 #variables\n",
    "claves_unicas = 0.0\n",
    "integridad = 0.0"
   ]
  },
  {
   "cell_type": "markdown",
   "id": "771f68ef",
   "metadata": {},
   "source": [
    "## Importación de librerías"
   ]
  },
  {
   "cell_type": "code",
   "execution_count": 2,
   "id": "a07b4e1b",
   "metadata": {},
   "outputs": [],
   "source": [
    "import pandas as pd"
   ]
  },
  {
   "cell_type": "markdown",
   "id": "a0fa4cbc",
   "metadata": {},
   "source": [
    "## Lectura de datasets"
   ]
  },
  {
   "cell_type": "code",
   "execution_count": 3,
   "id": "277f6b10",
   "metadata": {},
   "outputs": [
    {
     "data": {
      "text/html": [
       "<div>\n",
       "<style scoped>\n",
       "    .dataframe tbody tr th:only-of-type {\n",
       "        vertical-align: middle;\n",
       "    }\n",
       "\n",
       "    .dataframe tbody tr th {\n",
       "        vertical-align: top;\n",
       "    }\n",
       "\n",
       "    .dataframe thead th {\n",
       "        text-align: right;\n",
       "    }\n",
       "</style>\n",
       "<table border=\"1\" class=\"dataframe\">\n",
       "  <thead>\n",
       "    <tr style=\"text-align: right;\">\n",
       "      <th></th>\n",
       "      <th>fecha</th>\n",
       "      <th>dia</th>\n",
       "      <th>tempMedia</th>\n",
       "      <th>tempMax</th>\n",
       "      <th>horMinTempMax</th>\n",
       "      <th>tempMin</th>\n",
       "      <th>horMinTempMin</th>\n",
       "      <th>humedadMedia</th>\n",
       "      <th>humedadMax</th>\n",
       "      <th>horMinHumMax</th>\n",
       "      <th>...</th>\n",
       "      <th>velVientoMax</th>\n",
       "      <th>horMinVelMax</th>\n",
       "      <th>dirVientoVelMax</th>\n",
       "      <th>radiacion</th>\n",
       "      <th>precipitacion</th>\n",
       "      <th>bateria</th>\n",
       "      <th>fechaUtlMod</th>\n",
       "      <th>et0</th>\n",
       "      <th>provincia_id</th>\n",
       "      <th>codigoEstacion</th>\n",
       "    </tr>\n",
       "  </thead>\n",
       "  <tbody>\n",
       "    <tr>\n",
       "      <th>0</th>\n",
       "      <td>2005-01-01</td>\n",
       "      <td>1</td>\n",
       "      <td>9.07</td>\n",
       "      <td>18.58</td>\n",
       "      <td>14:30</td>\n",
       "      <td>0.658</td>\n",
       "      <td>07:20</td>\n",
       "      <td>67.31</td>\n",
       "      <td>87.2</td>\n",
       "      <td>07:40</td>\n",
       "      <td>...</td>\n",
       "      <td>5.008</td>\n",
       "      <td>11:51</td>\n",
       "      <td>338.1</td>\n",
       "      <td>11.110</td>\n",
       "      <td>0.0</td>\n",
       "      <td>12.93</td>\n",
       "      <td>2005-01-02T07:34:55.000+0100</td>\n",
       "      <td>1.495588</td>\n",
       "      <td>11</td>\n",
       "      <td>1</td>\n",
       "    </tr>\n",
       "    <tr>\n",
       "      <th>1</th>\n",
       "      <td>2005-01-02</td>\n",
       "      <td>2</td>\n",
       "      <td>9.02</td>\n",
       "      <td>12.17</td>\n",
       "      <td>14:50</td>\n",
       "      <td>5.810</td>\n",
       "      <td>21:30</td>\n",
       "      <td>84.70</td>\n",
       "      <td>91.8</td>\n",
       "      <td>23:30</td>\n",
       "      <td>...</td>\n",
       "      <td>4.106</td>\n",
       "      <td>15:44</td>\n",
       "      <td>333.5</td>\n",
       "      <td>4.173</td>\n",
       "      <td>0.0</td>\n",
       "      <td>12.92</td>\n",
       "      <td>2005-01-03T07:37:28.000+0100</td>\n",
       "      <td>0.776324</td>\n",
       "      <td>11</td>\n",
       "      <td>1</td>\n",
       "    </tr>\n",
       "    <tr>\n",
       "      <th>2</th>\n",
       "      <td>2005-01-03</td>\n",
       "      <td>3</td>\n",
       "      <td>8.18</td>\n",
       "      <td>15.91</td>\n",
       "      <td>14:20</td>\n",
       "      <td>3.196</td>\n",
       "      <td>06:10</td>\n",
       "      <td>80.60</td>\n",
       "      <td>92.9</td>\n",
       "      <td>11:50</td>\n",
       "      <td>...</td>\n",
       "      <td>5.174</td>\n",
       "      <td>14:43</td>\n",
       "      <td>318.2</td>\n",
       "      <td>9.090</td>\n",
       "      <td>0.2</td>\n",
       "      <td>12.94</td>\n",
       "      <td>2005-01-04T07:34:53.000+0100</td>\n",
       "      <td>1.327342</td>\n",
       "      <td>11</td>\n",
       "      <td>1</td>\n",
       "    </tr>\n",
       "    <tr>\n",
       "      <th>3</th>\n",
       "      <td>2005-01-04</td>\n",
       "      <td>4</td>\n",
       "      <td>10.55</td>\n",
       "      <td>18.26</td>\n",
       "      <td>12:40</td>\n",
       "      <td>3.608</td>\n",
       "      <td>07:30</td>\n",
       "      <td>68.63</td>\n",
       "      <td>87.2</td>\n",
       "      <td>06:50</td>\n",
       "      <td>...</td>\n",
       "      <td>7.680</td>\n",
       "      <td>12:48</td>\n",
       "      <td>116.6</td>\n",
       "      <td>10.400</td>\n",
       "      <td>0.0</td>\n",
       "      <td>12.93</td>\n",
       "      <td>2005-01-05T07:34:53.000+0100</td>\n",
       "      <td>1.796508</td>\n",
       "      <td>11</td>\n",
       "      <td>1</td>\n",
       "    </tr>\n",
       "    <tr>\n",
       "      <th>4</th>\n",
       "      <td>2005-01-05</td>\n",
       "      <td>5</td>\n",
       "      <td>9.82</td>\n",
       "      <td>17.78</td>\n",
       "      <td>14:50</td>\n",
       "      <td>2.802</td>\n",
       "      <td>07:30</td>\n",
       "      <td>67.62</td>\n",
       "      <td>87.5</td>\n",
       "      <td>06:10</td>\n",
       "      <td>...</td>\n",
       "      <td>4.508</td>\n",
       "      <td>11:12</td>\n",
       "      <td>145.7</td>\n",
       "      <td>11.090</td>\n",
       "      <td>0.0</td>\n",
       "      <td>12.93</td>\n",
       "      <td>2005-01-06T07:35:04.000+0100</td>\n",
       "      <td>1.371563</td>\n",
       "      <td>11</td>\n",
       "      <td>1</td>\n",
       "    </tr>\n",
       "  </tbody>\n",
       "</table>\n",
       "<p>5 rows × 24 columns</p>\n",
       "</div>"
      ],
      "text/plain": [
       "        fecha  dia  tempMedia  tempMax horMinTempMax  tempMin horMinTempMin  \\\n",
       "0  2005-01-01    1       9.07    18.58         14:30    0.658         07:20   \n",
       "1  2005-01-02    2       9.02    12.17         14:50    5.810         21:30   \n",
       "2  2005-01-03    3       8.18    15.91         14:20    3.196         06:10   \n",
       "3  2005-01-04    4      10.55    18.26         12:40    3.608         07:30   \n",
       "4  2005-01-05    5       9.82    17.78         14:50    2.802         07:30   \n",
       "\n",
       "   humedadMedia  humedadMax horMinHumMax  ...  velVientoMax horMinVelMax  \\\n",
       "0         67.31        87.2        07:40  ...         5.008        11:51   \n",
       "1         84.70        91.8        23:30  ...         4.106        15:44   \n",
       "2         80.60        92.9        11:50  ...         5.174        14:43   \n",
       "3         68.63        87.2        06:50  ...         7.680        12:48   \n",
       "4         67.62        87.5        06:10  ...         4.508        11:12   \n",
       "\n",
       "   dirVientoVelMax  radiacion  precipitacion bateria  \\\n",
       "0            338.1     11.110            0.0   12.93   \n",
       "1            333.5      4.173            0.0   12.92   \n",
       "2            318.2      9.090            0.2   12.94   \n",
       "3            116.6     10.400            0.0   12.93   \n",
       "4            145.7     11.090            0.0   12.93   \n",
       "\n",
       "                    fechaUtlMod       et0  provincia_id  codigoEstacion  \n",
       "0  2005-01-02T07:34:55.000+0100  1.495588            11               1  \n",
       "1  2005-01-03T07:37:28.000+0100  0.776324            11               1  \n",
       "2  2005-01-04T07:34:53.000+0100  1.327342            11               1  \n",
       "3  2005-01-05T07:34:53.000+0100  1.796508            11               1  \n",
       "4  2005-01-06T07:35:04.000+0100  1.371563            11               1  \n",
       "\n",
       "[5 rows x 24 columns]"
      ]
     },
     "execution_count": 3,
     "metadata": {},
     "output_type": "execute_result"
    }
   ],
   "source": [
    "df_hist = pd.read_csv(\"../../data/raw/historico_completo.csv\")\n",
    "\n",
    "df_hist.head()"
   ]
  },
  {
   "cell_type": "code",
   "execution_count": 4,
   "id": "e14d5c2e",
   "metadata": {},
   "outputs": [
    {
     "data": {
      "text/html": [
       "<div>\n",
       "<style scoped>\n",
       "    .dataframe tbody tr th:only-of-type {\n",
       "        vertical-align: middle;\n",
       "    }\n",
       "\n",
       "    .dataframe tbody tr th {\n",
       "        vertical-align: top;\n",
       "    }\n",
       "\n",
       "    .dataframe thead th {\n",
       "        text-align: right;\n",
       "    }\n",
       "</style>\n",
       "<table border=\"1\" class=\"dataframe\">\n",
       "  <thead>\n",
       "    <tr style=\"text-align: right;\">\n",
       "      <th></th>\n",
       "      <th>codigoEstacion</th>\n",
       "      <th>nombre</th>\n",
       "      <th>bajoplastico</th>\n",
       "      <th>activa</th>\n",
       "      <th>visible</th>\n",
       "      <th>longitud</th>\n",
       "      <th>latitud</th>\n",
       "      <th>altitud</th>\n",
       "      <th>xutm</th>\n",
       "      <th>yutm</th>\n",
       "      <th>huso</th>\n",
       "      <th>provincia_id</th>\n",
       "      <th>provincia_nombre</th>\n",
       "    </tr>\n",
       "  </thead>\n",
       "  <tbody>\n",
       "    <tr>\n",
       "      <th>0</th>\n",
       "      <td>10</td>\n",
       "      <td>Adra</td>\n",
       "      <td>False</td>\n",
       "      <td>True</td>\n",
       "      <td>True</td>\n",
       "      <td>025932000W</td>\n",
       "      <td>364448000N</td>\n",
       "      <td>2</td>\n",
       "      <td>500683.0</td>\n",
       "      <td>4066780.0</td>\n",
       "      <td>30</td>\n",
       "      <td>4</td>\n",
       "      <td>Almería</td>\n",
       "    </tr>\n",
       "    <tr>\n",
       "      <th>1</th>\n",
       "      <td>2</td>\n",
       "      <td>Almería</td>\n",
       "      <td>False</td>\n",
       "      <td>True</td>\n",
       "      <td>True</td>\n",
       "      <td>022408000W</td>\n",
       "      <td>365007000N</td>\n",
       "      <td>5</td>\n",
       "      <td>553282.0</td>\n",
       "      <td>4076780.0</td>\n",
       "      <td>30</td>\n",
       "      <td>4</td>\n",
       "      <td>Almería</td>\n",
       "    </tr>\n",
       "    <tr>\n",
       "      <th>2</th>\n",
       "      <td>8</td>\n",
       "      <td>Cuevas de Almanzora</td>\n",
       "      <td>False</td>\n",
       "      <td>True</td>\n",
       "      <td>True</td>\n",
       "      <td>014801000W</td>\n",
       "      <td>371524000N</td>\n",
       "      <td>28</td>\n",
       "      <td>606367.0</td>\n",
       "      <td>4124030.0</td>\n",
       "      <td>30</td>\n",
       "      <td>4</td>\n",
       "      <td>Almería</td>\n",
       "    </tr>\n",
       "    <tr>\n",
       "      <th>3</th>\n",
       "      <td>5</td>\n",
       "      <td>Fiñana</td>\n",
       "      <td>False</td>\n",
       "      <td>True</td>\n",
       "      <td>True</td>\n",
       "      <td>025019000W</td>\n",
       "      <td>370924000N</td>\n",
       "      <td>958</td>\n",
       "      <td>514311.0</td>\n",
       "      <td>4112270.0</td>\n",
       "      <td>30</td>\n",
       "      <td>4</td>\n",
       "      <td>Almería</td>\n",
       "    </tr>\n",
       "    <tr>\n",
       "      <th>4</th>\n",
       "      <td>7</td>\n",
       "      <td>Huércal-Overa</td>\n",
       "      <td>False</td>\n",
       "      <td>True</td>\n",
       "      <td>True</td>\n",
       "      <td>015303000W</td>\n",
       "      <td>372444000N</td>\n",
       "      <td>303</td>\n",
       "      <td>598735.0</td>\n",
       "      <td>4141210.0</td>\n",
       "      <td>30</td>\n",
       "      <td>4</td>\n",
       "      <td>Almería</td>\n",
       "    </tr>\n",
       "  </tbody>\n",
       "</table>\n",
       "</div>"
      ],
      "text/plain": [
       "   codigoEstacion               nombre  bajoplastico  activa  visible  \\\n",
       "0              10                 Adra         False    True     True   \n",
       "1               2              Almería         False    True     True   \n",
       "2               8  Cuevas de Almanzora         False    True     True   \n",
       "3               5               Fiñana         False    True     True   \n",
       "4               7        Huércal-Overa         False    True     True   \n",
       "\n",
       "     longitud     latitud  altitud      xutm       yutm  huso  provincia_id  \\\n",
       "0  025932000W  364448000N        2  500683.0  4066780.0    30             4   \n",
       "1  022408000W  365007000N        5  553282.0  4076780.0    30             4   \n",
       "2  014801000W  371524000N       28  606367.0  4124030.0    30             4   \n",
       "3  025019000W  370924000N      958  514311.0  4112270.0    30             4   \n",
       "4  015303000W  372444000N      303  598735.0  4141210.0    30             4   \n",
       "\n",
       "  provincia_nombre  \n",
       "0          Almería  \n",
       "1          Almería  \n",
       "2          Almería  \n",
       "3          Almería  \n",
       "4          Almería  "
      ]
     },
     "execution_count": 4,
     "metadata": {},
     "output_type": "execute_result"
    }
   ],
   "source": [
    "df_est = pd.read_csv(\"../../data/raw/estaciones.csv\")\n",
    "df_est.head()"
   ]
  },
  {
   "cell_type": "markdown",
   "id": "70b5f660",
   "metadata": {},
   "source": [
    "## Dimensión de completitud  \n",
    "\n"
   ]
  },
  {
   "cell_type": "markdown",
   "id": "45e1705b",
   "metadata": {},
   "source": [
    "**ANÁLISIS DE VALORES NULOS**"
   ]
  },
  {
   "cell_type": "code",
   "execution_count": 53,
   "id": "39e63c13",
   "metadata": {},
   "outputs": [
    {
     "name": "stdout",
     "output_type": "stream",
     "text": [
      "Cantidad de filas que tienen valores nulos por atributo en los metadatos de las estaciones:\n",
      "codigoEstacion      0\n",
      "nombre              0\n",
      "bajoplastico        0\n",
      "activa              0\n",
      "visible             0\n",
      "longitud            0\n",
      "latitud             0\n",
      "altitud             0\n",
      "xutm                0\n",
      "yutm                0\n",
      "huso                0\n",
      "provincia_id        0\n",
      "provincia_nombre    0\n",
      "dtype: int64\n",
      "\n"
     ]
    }
   ],
   "source": [
    "nulos_x_columna_est = df_est.isna().sum()\n",
    "\n",
    "\n",
    "print(f\"Cantidad de filas que tienen valores nulos por atributo en los metadatos de las estaciones:\\n{nulos_x_columna_est}\\n\")"
   ]
  },
  {
   "cell_type": "code",
   "execution_count": 54,
   "id": "a4811f0e",
   "metadata": {},
   "outputs": [
    {
     "name": "stdout",
     "output_type": "stream",
     "text": [
      "Filas que incumplen el umbral de nulos en columnas [completitud_f] - estaciones - :\n",
      "0.2 (0.2)%\n"
     ]
    }
   ],
   "source": [
    "cantidad_filas_est = df_est.shape[0]\n",
    "cantidad_filas_hist = df_hist.shape[0]\n",
    "cantidad_columnas = len(df_est.axes[1])\n",
    "df_est['completitud_fila'] = (df_est.isnull().sum(axis=1) / cantidad_columnas)\n",
    "problemas = df_est[df_est['completitud_fila'] > completitud_n]\n",
    "completitud_f = problemas.shape[0]\n",
    "print(f\"Filas que incumplen el umbral de nulos en columnas [completitud_f] - estaciones - :\")\n",
    "print(f\"{completitud_n} ({round((completitud_n  / cantidad_filas_est) * 100, 2)})%\")"
   ]
  },
  {
   "cell_type": "markdown",
   "id": "310d3b12",
   "metadata": {},
   "source": [
    "En el caso del histórico, no tiene sentido analizarlo a nivel global. Tenemos que analizar los valores faltantes por estación, para identificar estaciones problemáticas."
   ]
  },
  {
   "cell_type": "code",
   "execution_count": 56,
   "id": "38a8da1a",
   "metadata": {},
   "outputs": [
    {
     "name": "stdout",
     "output_type": "stream",
     "text": [
      "Porcentaje de filas que tienen valores nulos por atributo en el histórico por estación:\n",
      "codigoEstacion  provincia_id\n",
      "102             21              0.25\n",
      "103             21              0.25\n",
      "12              18              0.01\n",
      "17              23              0.01\n",
      "1               23              0.00\n",
      "                                ... \n",
      "101             41              0.00\n",
      "102             18              0.00\n",
      "                23              0.00\n",
      "103             23              0.00\n",
      "104             23              0.00\n",
      "Length: 100, dtype: float64\n",
      "\n"
     ]
    }
   ],
   "source": [
    "total_nulos_por_estacion = df_hist.isnull().groupby([df_hist['codigoEstacion'], df_hist['provincia_id']]).sum().sum(axis=1)\n",
    "total_celdas_por_estacion = df_hist.groupby(['codigoEstacion', 'provincia_id']).size() * len(df_hist.columns)\n",
    "porcentaje_nulos_total = (total_nulos_por_estacion / total_celdas_por_estacion)\n",
    "resultado = porcentaje_nulos_total.round(2).sort_values(ascending=False)\n",
    "print(f\"Porcentaje de filas que tienen valores nulos por atributo en el histórico por estación:\\n{resultado}\\n\")"
   ]
  },
  {
   "cell_type": "code",
   "execution_count": 57,
   "id": "bc58de81",
   "metadata": {},
   "outputs": [
    {
     "data": {
      "text/plain": [
       "codigoEstacion  provincia_id\n",
       "102             21               True\n",
       "103             21               True\n",
       "12              18              False\n",
       "17              23              False\n",
       "1               23              False\n",
       "                                ...  \n",
       "101             41              False\n",
       "102             18              False\n",
       "                23              False\n",
       "103             23              False\n",
       "104             23              False\n",
       "Length: 100, dtype: bool"
      ]
     },
     "execution_count": 57,
     "metadata": {},
     "output_type": "execute_result"
    }
   ],
   "source": [
    "resultado>completitud_n"
   ]
  },
  {
   "cell_type": "code",
   "execution_count": 58,
   "id": "8607dbc5",
   "metadata": {},
   "outputs": [
    {
     "name": "stdout",
     "output_type": "stream",
     "text": [
      "Solo 2 estaciones (2.0% de las estaciones) tienen más de un 20% de valores nulos en sus filas\n"
     ]
    }
   ],
   "source": [
    "print(f\"Solo 2 estaciones ({2/len(resultado)*100}% de las estaciones) tienen más de un 20% de valores nulos en sus filas\")"
   ]
  },
  {
   "cell_type": "markdown",
   "id": "46a702cd",
   "metadata": {},
   "source": [
    "**ANÁLISIS SERIE TEMPORAL**"
   ]
  },
  {
   "cell_type": "code",
   "execution_count": 59,
   "id": "99981221",
   "metadata": {},
   "outputs": [
    {
     "name": "stderr",
     "output_type": "stream",
     "text": [
      "/tmp/ipykernel_544263/667874047.py:23: FutureWarning: DataFrameGroupBy.apply operated on the grouping columns. This behavior is deprecated, and in a future version of pandas the grouping columns will be excluded from the operation. Either pass `include_groups=False` to exclude the groupings or explicitly select the grouping columns after groupby to silence this warning.\n",
      "  df_verificado = df_index.groupby(['codigoEstacion','provincia_id']).apply(verificacion_serie_temporal)\n"
     ]
    },
    {
     "data": {
      "text/html": [
       "<div>\n",
       "<style scoped>\n",
       "    .dataframe tbody tr th:only-of-type {\n",
       "        vertical-align: middle;\n",
       "    }\n",
       "\n",
       "    .dataframe tbody tr th {\n",
       "        vertical-align: top;\n",
       "    }\n",
       "\n",
       "    .dataframe thead th {\n",
       "        text-align: right;\n",
       "    }\n",
       "</style>\n",
       "<table border=\"1\" class=\"dataframe\">\n",
       "  <thead>\n",
       "    <tr style=\"text-align: right;\">\n",
       "      <th></th>\n",
       "      <th></th>\n",
       "      <th>fecha_inicio</th>\n",
       "      <th>fecha_fin</th>\n",
       "      <th>dias_esperados</th>\n",
       "      <th>dias_reales</th>\n",
       "      <th></th>\n",
       "      <th>porcentaje_faltante</th>\n",
       "    </tr>\n",
       "    <tr>\n",
       "      <th>codigoEstacion</th>\n",
       "      <th>provincia_id</th>\n",
       "      <th></th>\n",
       "      <th></th>\n",
       "      <th></th>\n",
       "      <th></th>\n",
       "      <th></th>\n",
       "      <th></th>\n",
       "    </tr>\n",
       "  </thead>\n",
       "  <tbody>\n",
       "    <tr>\n",
       "      <th>102</th>\n",
       "      <th>21</th>\n",
       "      <td>2008-11-20</td>\n",
       "      <td>2025-08-01</td>\n",
       "      <td>6099</td>\n",
       "      <td>4362</td>\n",
       "      <td>11.95</td>\n",
       "      <td>28.48</td>\n",
       "    </tr>\n",
       "    <tr>\n",
       "      <th>103</th>\n",
       "      <th>21</th>\n",
       "      <td>2011-12-01</td>\n",
       "      <td>2025-08-01</td>\n",
       "      <td>4993</td>\n",
       "      <td>3836</td>\n",
       "      <td>10.51</td>\n",
       "      <td>23.17</td>\n",
       "    </tr>\n",
       "    <tr>\n",
       "      <th>8</th>\n",
       "      <th>4</th>\n",
       "      <td>2005-01-01</td>\n",
       "      <td>2025-08-01</td>\n",
       "      <td>7518</td>\n",
       "      <td>6812</td>\n",
       "      <td>18.66</td>\n",
       "      <td>9.39</td>\n",
       "    </tr>\n",
       "    <tr>\n",
       "      <th>5</th>\n",
       "      <th>11</th>\n",
       "      <td>2005-01-01</td>\n",
       "      <td>2025-08-01</td>\n",
       "      <td>7518</td>\n",
       "      <td>7028</td>\n",
       "      <td>19.25</td>\n",
       "      <td>6.52</td>\n",
       "    </tr>\n",
       "    <tr>\n",
       "      <th>101</th>\n",
       "      <th>23</th>\n",
       "      <td>2006-04-06</td>\n",
       "      <td>2025-08-01</td>\n",
       "      <td>7058</td>\n",
       "      <td>6756</td>\n",
       "      <td>18.51</td>\n",
       "      <td>4.28</td>\n",
       "    </tr>\n",
       "    <tr>\n",
       "      <th>...</th>\n",
       "      <th>...</th>\n",
       "      <td>...</td>\n",
       "      <td>...</td>\n",
       "      <td>...</td>\n",
       "      <td>...</td>\n",
       "      <td>...</td>\n",
       "      <td>...</td>\n",
       "    </tr>\n",
       "    <tr>\n",
       "      <th>1</th>\n",
       "      <th>18</th>\n",
       "      <td>2005-01-01</td>\n",
       "      <td>2025-08-01</td>\n",
       "      <td>7518</td>\n",
       "      <td>7514</td>\n",
       "      <td>20.59</td>\n",
       "      <td>0.05</td>\n",
       "    </tr>\n",
       "    <tr>\n",
       "      <th>15</th>\n",
       "      <th>41</th>\n",
       "      <td>2005-01-01</td>\n",
       "      <td>2025-08-01</td>\n",
       "      <td>7518</td>\n",
       "      <td>7514</td>\n",
       "      <td>20.59</td>\n",
       "      <td>0.05</td>\n",
       "    </tr>\n",
       "    <tr>\n",
       "      <th>8</th>\n",
       "      <th>21</th>\n",
       "      <td>2005-01-01</td>\n",
       "      <td>2025-08-01</td>\n",
       "      <td>7518</td>\n",
       "      <td>7515</td>\n",
       "      <td>20.59</td>\n",
       "      <td>0.04</td>\n",
       "    </tr>\n",
       "    <tr>\n",
       "      <th>10</th>\n",
       "      <th>29</th>\n",
       "      <td>2011-03-11</td>\n",
       "      <td>2025-08-01</td>\n",
       "      <td>5258</td>\n",
       "      <td>5258</td>\n",
       "      <td>14.41</td>\n",
       "      <td>0.00</td>\n",
       "    </tr>\n",
       "    <tr>\n",
       "      <th>12</th>\n",
       "      <th>21</th>\n",
       "      <td>2024-10-03</td>\n",
       "      <td>2025-08-01</td>\n",
       "      <td>303</td>\n",
       "      <td>303</td>\n",
       "      <td>0.83</td>\n",
       "      <td>0.00</td>\n",
       "    </tr>\n",
       "  </tbody>\n",
       "</table>\n",
       "<p>100 rows × 6 columns</p>\n",
       "</div>"
      ],
      "text/plain": [
       "                            fecha_inicio   fecha_fin  dias_esperados  \\\n",
       "codigoEstacion provincia_id                                            \n",
       "102            21             2008-11-20  2025-08-01            6099   \n",
       "103            21             2011-12-01  2025-08-01            4993   \n",
       "8              4              2005-01-01  2025-08-01            7518   \n",
       "5              11             2005-01-01  2025-08-01            7518   \n",
       "101            23             2006-04-06  2025-08-01            7058   \n",
       "...                                  ...         ...             ...   \n",
       "1              18             2005-01-01  2025-08-01            7518   \n",
       "15             41             2005-01-01  2025-08-01            7518   \n",
       "8              21             2005-01-01  2025-08-01            7518   \n",
       "10             29             2011-03-11  2025-08-01            5258   \n",
       "12             21             2024-10-03  2025-08-01             303   \n",
       "\n",
       "                             dias_reales         porcentaje_faltante  \n",
       "codigoEstacion provincia_id                                           \n",
       "102            21                   4362  11.95                28.48  \n",
       "103            21                   3836  10.51                23.17  \n",
       "8              4                    6812  18.66                 9.39  \n",
       "5              11                   7028  19.25                 6.52  \n",
       "101            23                   6756  18.51                 4.28  \n",
       "...                                  ...    ...                  ...  \n",
       "1              18                   7514  20.59                 0.05  \n",
       "15             41                   7514  20.59                 0.05  \n",
       "8              21                   7515  20.59                 0.04  \n",
       "10             29                   5258  14.41                 0.00  \n",
       "12             21                    303   0.83                 0.00  \n",
       "\n",
       "[100 rows x 6 columns]"
      ]
     },
     "execution_count": 59,
     "metadata": {},
     "output_type": "execute_result"
    }
   ],
   "source": [
    "def verificacion_serie_temporal(station_data):\n",
    "       \n",
    "    fecha_inicio = station_data.index.min()\n",
    "    fecha_fin = station_data.index.max()\n",
    "    \n",
    "    rango_completo = pd.date_range(start=fecha_inicio, end=fecha_fin, freq='D')\n",
    "    \n",
    "    dias_esperados = len(rango_completo)\n",
    "    dias_reales = len(station_data)\n",
    "    \n",
    "    porcentaje_faltante = (1 - (dias_reales / dias_esperados)) * 100\n",
    "    \n",
    "    return pd.Series({\n",
    "        'fecha_inicio': fecha_inicio,\n",
    "        'fecha_fin': fecha_fin,\n",
    "        'dias_esperados': dias_esperados,\n",
    "        'dias_reales': dias_reales,\n",
    "        '': dias_reales/365,\n",
    "        'porcentaje_faltante': porcentaje_faltante\n",
    "    })\n",
    "\n",
    "df_index = df_hist.set_index('fecha')\n",
    "df_verificado = df_index.groupby(['codigoEstacion','provincia_id']).apply(verificacion_serie_temporal)\n",
    "\n",
    "\n",
    "df_verificado.sort_values('porcentaje_faltante', ascending=False).round(2)"
   ]
  },
  {
   "cell_type": "code",
   "execution_count": null,
   "id": "282ec306",
   "metadata": {},
   "outputs": [
    {
     "name": "stdout",
     "output_type": "stream",
     "text": [
      "2 estaciones tienes más del 10% de registros ausentes en el rango temporal indicado.\n"
     ]
    }
   ],
   "source": [
    "num = df_verificado[(df_verificado[\"porcentaje_faltante\"]>10)==True].shape[0]\n",
    "\n",
    "print(f\"{num} estaciones tienen más del 10% de registros ausentes en el rango temporal indicado.\")"
   ]
  },
  {
   "cell_type": "markdown",
   "id": "cf0e7a45",
   "metadata": {},
   "source": [
    "**RANGO DE FECHA**"
   ]
  },
  {
   "cell_type": "code",
   "execution_count": null,
   "id": "443b84be",
   "metadata": {},
   "outputs": [
    {
     "data": {
      "text/html": [
       "<div>\n",
       "<style scoped>\n",
       "    .dataframe tbody tr th:only-of-type {\n",
       "        vertical-align: middle;\n",
       "    }\n",
       "\n",
       "    .dataframe tbody tr th {\n",
       "        vertical-align: top;\n",
       "    }\n",
       "\n",
       "    .dataframe thead th {\n",
       "        text-align: right;\n",
       "    }\n",
       "</style>\n",
       "<table border=\"1\" class=\"dataframe\">\n",
       "  <thead>\n",
       "    <tr style=\"text-align: right;\">\n",
       "      <th></th>\n",
       "      <th>provincia</th>\n",
       "      <th>codigo</th>\n",
       "      <th>registros</th>\n",
       "      <th>años</th>\n",
       "    </tr>\n",
       "  </thead>\n",
       "  <tbody>\n",
       "    <tr>\n",
       "      <th>99</th>\n",
       "      <td>21</td>\n",
       "      <td>12</td>\n",
       "      <td>303</td>\n",
       "      <td>0.830137</td>\n",
       "    </tr>\n",
       "  </tbody>\n",
       "</table>\n",
       "</div>"
      ],
      "text/plain": [
       "    provincia  codigo  registros      años\n",
       "99         21      12        303  0.830137"
      ]
     },
     "execution_count": 72,
     "metadata": {},
     "output_type": "execute_result"
    }
   ],
   "source": [
    "num_reg_estacion = df_hist.groupby(['provincia_id','codigoEstacion']).size().sort_values(ascending=False)\n",
    "num_reg_estacion = num_reg_estacion.to_frame().reset_index()\n",
    "num_reg_estacion.columns = ['provincia', 'codigo', 'registros']\n",
    "num_reg_estacion['años'] = num_reg_estacion['registros']/365\n",
    "num_reg_estacion[num_reg_estacion['años']<5]"
   ]
  },
  {
   "cell_type": "code",
   "execution_count": 80,
   "id": "370efebb",
   "metadata": {},
   "outputs": [
    {
     "name": "stdout",
     "output_type": "stream",
     "text": [
      "1 estación tiene menos de 5 años de registros\n",
      "El 1.0% de las estaciones tiene menos de 5 años de registros\n"
     ]
    }
   ],
   "source": [
    "menor5 = num_reg_estacion[num_reg_estacion['años']<5].shape[0]\n",
    "N = num_reg_estacion.shape[0]\n",
    "print(f\"{num_reg_estacion[num_reg_estacion['años']<5].shape[0]} estación tiene menos de 5 años de registros\")\n",
    "print(f'El {menor5/N*100}% de las estaciones tiene menos de 5 años de registros')"
   ]
  },
  {
   "cell_type": "markdown",
   "id": "80f37015",
   "metadata": {},
   "source": [
    "## Dimensión de consistencia"
   ]
  },
  {
   "cell_type": "markdown",
   "id": "e64ba61d",
   "metadata": {},
   "source": [
    "**DUPLICADOS**"
   ]
  },
  {
   "cell_type": "code",
   "execution_count": 82,
   "id": "3d7f1e86",
   "metadata": {},
   "outputs": [
    {
     "name": "stdout",
     "output_type": "stream",
     "text": [
      "Hay 0 instancias duplicadas en los metadatos de la estación. Supone un 0.0%\n",
      "Hay 107 instancias duplicadas en el histórico. Supone un 0.02%\n"
     ]
    }
   ],
   "source": [
    "print(f\"Hay {df_est.duplicated().sum()} instancias duplicadas en los metadatos de la estación. Supone un {round(df_est.duplicated().sum()/df_est.shape[0]*100,2)}%\")\n",
    "print(f\"Hay {df_hist.duplicated().sum()} instancias duplicadas en el histórico. Supone un {round(df_hist.duplicated().sum()/df_hist.shape[0]*100,2)}%\")"
   ]
  },
  {
   "cell_type": "markdown",
   "id": "83873217",
   "metadata": {},
   "source": [
    "**CLAVES ÚNICAS**"
   ]
  },
  {
   "cell_type": "code",
   "execution_count": 85,
   "id": "0e446294",
   "metadata": {},
   "outputs": [
    {
     "name": "stdout",
     "output_type": "stream",
     "text": [
      "Filas con clave ('codigoEstacion' y 'provincia_id') duplicada: 0\n",
      "Porcentaje (claves_unicas): 0.00%\n"
     ]
    }
   ],
   "source": [
    "total_filas = len(df_est)\n",
    "filas_duplicadas = df_est.duplicated(subset=['codigoEstacion', 'provincia_id']).sum()\n",
    "claves_unicas_pct = (filas_duplicadas / total_filas) * 100 if total_filas > 0 else 0\n",
    "\n",
    "print(f\"Filas con clave ('codigoEstacion' y 'provincia_id') duplicada: {filas_duplicadas}\")\n",
    "print(f\"Porcentaje (claves_unicas): {claves_unicas_pct:.2f}%\")"
   ]
  },
  {
   "cell_type": "code",
   "execution_count": 84,
   "id": "53e11c2d",
   "metadata": {},
   "outputs": [
    {
     "name": "stdout",
     "output_type": "stream",
     "text": [
      "Filas con clave ('codigoEstacion', 'provincia_id'  y 'fecha') duplicada: 107\n",
      "Porcentaje (claves_unicas): 0.02%\n"
     ]
    }
   ],
   "source": [
    "total_filas = len(df_hist)\n",
    "filas_duplicadas = df_hist.duplicated(subset=['codigoEstacion', 'provincia_id' ,'fecha']).sum()\n",
    "claves_unicas_pct = (filas_duplicadas / total_filas) * 100 if total_filas > 0 else 0\n",
    "\n",
    "print(f\"Filas con clave ('codigoEstacion', 'provincia_id'  y 'fecha') duplicada: {filas_duplicadas}\")\n",
    "print(f\"Porcentaje (claves_unicas): {claves_unicas_pct:.2f}%\")"
   ]
  },
  {
   "cell_type": "markdown",
   "id": "2a2b76be",
   "metadata": {},
   "source": [
    "Se corresponde con las filas detectadas como réplicas anteriormente. No hay nuevos registros en los que no se cumpla la unicidad de la clave."
   ]
  },
  {
   "cell_type": "markdown",
   "id": "6147b2e1",
   "metadata": {},
   "source": [
    "**INTEGRIDAD REFERENCIAL**"
   ]
  },
  {
   "cell_type": "code",
   "execution_count": 91,
   "id": "b852a995",
   "metadata": {},
   "outputs": [
    {
     "name": "stdout",
     "output_type": "stream",
     "text": [
      "Filas sin una correspondencia exacta de (codigoEstacion, provincia_id) en el fichero de metadatos: 0\n",
      "Porcentaje de errores de integridad referencial: 0.0%\n"
     ]
    }
   ],
   "source": [
    "df_integrado = pd.merge(df_hist, df_est, on=[\"codigoEstacion\", \"provincia_id\"],how='left', indicator=True)\n",
    "mediciones_sin_estacion = df_integrado[df_integrado['_merge'] == 'left_only'].shape[0]\n",
    "mediciones_sin_estacion\n",
    "print(f\"Filas sin una correspondencia exacta de (codigoEstacion, provincia_id) en el fichero de metadatos: {mediciones_sin_estacion}\")\n",
    "print(f\"Porcentaje de errores de integridad referencial: {round(mediciones_sin_estacion/len(df_hist)*100,2)}%\")"
   ]
  },
  {
   "cell_type": "markdown",
   "id": "c76e605b",
   "metadata": {},
   "source": [
    "## Dimensión de exactitud"
   ]
  },
  {
   "cell_type": "markdown",
   "id": "db5b31d8",
   "metadata": {},
   "source": [
    "**FORMATO**"
   ]
  },
  {
   "cell_type": "code",
   "execution_count": 96,
   "id": "5b5aa561",
   "metadata": {},
   "outputs": [
    {
     "name": "stdout",
     "output_type": "stream",
     "text": [
      "Formato esperado para fecha: Date. Formato obtenido: object\n",
      "1 variable no tiene el formato esperado.\n"
     ]
    }
   ],
   "source": [
    "print(f\"Formato esperado para fecha: Date. Formato obtenido: { df_hist['fecha'].dtype}\")\n",
    "if df_hist['fecha'].dtype == \"datetime64\":\n",
    "    print(\"Todas las variables tienen el formato esperado.\")\n",
    "else:\n",
    "    print(\"1 variable no tiene el formato esperado.\")"
   ]
  },
  {
   "cell_type": "markdown",
   "id": "36aced4d",
   "metadata": {},
   "source": [
    "**VALORES OUTLIER**"
   ]
  },
  {
   "cell_type": "code",
   "execution_count": 8,
   "id": "d46cbf13",
   "metadata": {},
   "outputs": [
    {
     "data": {
      "text/plain": [
       "precipitacion      18.0\n",
       "velViento           5.0\n",
       "bateria             3.0\n",
       "velVientoMax        3.0\n",
       "humedadMax          2.0\n",
       "dirVientoVelMax     2.0\n",
       "dirViento           1.0\n",
       "humedadMin          1.0\n",
       "humedadMedia        0.0\n",
       "et0                 0.0\n",
       "tempMin             0.0\n",
       "tempMax             0.0\n",
       "tempMedia           0.0\n",
       "radiacion           0.0\n",
       "dtype: float64"
      ]
     },
     "execution_count": 8,
     "metadata": {},
     "output_type": "execute_result"
    }
   ],
   "source": [
    "var_numericas= df_hist.select_dtypes('float').columns\n",
    "def deteccion_outlier(data, var):\n",
    "\n",
    "    Q1 = data[var].quantile(0.25)\n",
    "    Q3 = data[var].quantile(0.75)\n",
    "    IQR = Q3 - Q1\n",
    "    lower = Q1 - 1.5 * IQR\n",
    "    upper = Q3 + 1.5 * IQR\n",
    "\n",
    "    outliers = (data[var] < lower) | (data[var] > upper)\n",
    "    return outliers\n",
    "\n",
    "outliers_por_estacion=df_hist.groupby(['provincia_id', 'codigoEstacion'])[var_numericas].apply(\n",
    "    lambda x: deteccion_outlier(x, var_numericas).sum()\n",
    ")\n",
    "round(outliers_por_estacion.sum(axis=0).sort_values(ascending=False)/len(df_hist),2)*100"
   ]
  }
 ],
 "metadata": {
  "kernelspec": {
   "display_name": "sist_riego",
   "language": "python",
   "name": "python3"
  },
  "language_info": {
   "codemirror_mode": {
    "name": "ipython",
    "version": 3
   },
   "file_extension": ".py",
   "mimetype": "text/x-python",
   "name": "python",
   "nbconvert_exporter": "python",
   "pygments_lexer": "ipython3",
   "version": "3.11.2"
  }
 },
 "nbformat": 4,
 "nbformat_minor": 5
}
