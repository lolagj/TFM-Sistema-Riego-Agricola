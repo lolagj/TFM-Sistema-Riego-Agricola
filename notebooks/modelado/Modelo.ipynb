{
 "cells": [
  {
   "cell_type": "markdown",
   "id": "68b00531",
   "metadata": {},
   "source": [
    "# Modelo de Machine Learning"
   ]
  },
  {
   "cell_type": "markdown",
   "id": "a8ab46dc",
   "metadata": {},
   "source": [
    "## Importación de librerías"
   ]
  },
  {
   "cell_type": "code",
   "execution_count": 11,
   "id": "ba8d1ea7",
   "metadata": {},
   "outputs": [],
   "source": [
    "import pandas as pd\n",
    "import numpy as np\n",
    "import os\n",
    "import seaborn as sns\n",
    "import matplotlib.pyplot as plt\n",
    "\n",
    "import mlflow\n",
    "from sklearn.model_selection import TimeSeriesSplit, RandomizedSearchCV\n",
    "\n",
    "#Modelos\n",
    "from sklearn.linear_model import Ridge\n",
    "import xgboost\n",
    "from sklearn.svm import SVR\n",
    "from sklearn.ensemble import RandomForestRegressor\n",
    "from joblib import dump\n",
    "from sklearn.metrics import mean_squared_error, r2_score\n",
    "np.random.seed(42)"
   ]
  },
  {
   "cell_type": "markdown",
   "id": "27fbb6f7",
   "metadata": {},
   "source": [
    "## Carga de datasets"
   ]
  },
  {
   "cell_type": "code",
   "execution_count": 2,
   "id": "52a1079c",
   "metadata": {},
   "outputs": [
    {
     "data": {
      "text/html": [
       "<div>\n",
       "<style scoped>\n",
       "    .dataframe tbody tr th:only-of-type {\n",
       "        vertical-align: middle;\n",
       "    }\n",
       "\n",
       "    .dataframe tbody tr th {\n",
       "        vertical-align: top;\n",
       "    }\n",
       "\n",
       "    .dataframe thead th {\n",
       "        text-align: right;\n",
       "    }\n",
       "</style>\n",
       "<table border=\"1\" class=\"dataframe\">\n",
       "  <thead>\n",
       "    <tr style=\"text-align: right;\">\n",
       "      <th></th>\n",
       "      <th>tempMedia</th>\n",
       "      <th>tempMax</th>\n",
       "      <th>tempMin</th>\n",
       "      <th>humedadMedia</th>\n",
       "      <th>humedadMax</th>\n",
       "      <th>humedadMin</th>\n",
       "      <th>velViento</th>\n",
       "      <th>dirViento</th>\n",
       "      <th>velVientoMax</th>\n",
       "      <th>dirVientoVelMax</th>\n",
       "      <th>...</th>\n",
       "      <th>precipitacion</th>\n",
       "      <th>altitud</th>\n",
       "      <th>lon</th>\n",
       "      <th>lat</th>\n",
       "      <th>dia_del_año_sin</th>\n",
       "      <th>dia_del_año_cos</th>\n",
       "      <th>año</th>\n",
       "      <th>mes</th>\n",
       "      <th>mes_sin</th>\n",
       "      <th>mes_cos</th>\n",
       "    </tr>\n",
       "  </thead>\n",
       "  <tbody>\n",
       "    <tr>\n",
       "      <th>0</th>\n",
       "      <td>-1.149191</td>\n",
       "      <td>-0.644914</td>\n",
       "      <td>-1.635524</td>\n",
       "      <td>0.189294</td>\n",
       "      <td>0.081925</td>\n",
       "      <td>0.030319</td>\n",
       "      <td>-0.423513</td>\n",
       "      <td>-1.502747</td>\n",
       "      <td>-0.453085</td>\n",
       "      <td>1.508065</td>\n",
       "      <td>...</td>\n",
       "      <td>-0.249695</td>\n",
       "      <td>-0.821274</td>\n",
       "      <td>-0.961184</td>\n",
       "      <td>-1.212781</td>\n",
       "      <td>0.025922</td>\n",
       "      <td>1.417772</td>\n",
       "      <td>-1.705504</td>\n",
       "      <td>-1.607476</td>\n",
       "      <td>0.717969</td>\n",
       "      <td>1.22936</td>\n",
       "    </tr>\n",
       "    <tr>\n",
       "      <th>1</th>\n",
       "      <td>-1.156422</td>\n",
       "      <td>-1.448554</td>\n",
       "      <td>-0.807960</td>\n",
       "      <td>1.172613</td>\n",
       "      <td>0.417881</td>\n",
       "      <td>2.123171</td>\n",
       "      <td>-0.296844</td>\n",
       "      <td>-1.517465</td>\n",
       "      <td>-0.838102</td>\n",
       "      <td>1.459742</td>\n",
       "      <td>...</td>\n",
       "      <td>-0.249695</td>\n",
       "      <td>-0.821274</td>\n",
       "      <td>-0.961184</td>\n",
       "      <td>-1.212781</td>\n",
       "      <td>0.050257</td>\n",
       "      <td>1.417144</td>\n",
       "      <td>-1.705504</td>\n",
       "      <td>-1.607476</td>\n",
       "      <td>0.717969</td>\n",
       "      <td>1.22936</td>\n",
       "    </tr>\n",
       "    <tr>\n",
       "      <th>2</th>\n",
       "      <td>-1.277910</td>\n",
       "      <td>-0.979660</td>\n",
       "      <td>-1.227846</td>\n",
       "      <td>0.940778</td>\n",
       "      <td>0.498219</td>\n",
       "      <td>0.747554</td>\n",
       "      <td>-0.095188</td>\n",
       "      <td>-1.334265</td>\n",
       "      <td>-0.382228</td>\n",
       "      <td>1.299015</td>\n",
       "      <td>...</td>\n",
       "      <td>-0.211286</td>\n",
       "      <td>-0.821274</td>\n",
       "      <td>-0.961184</td>\n",
       "      <td>-1.212781</td>\n",
       "      <td>0.074578</td>\n",
       "      <td>1.416096</td>\n",
       "      <td>-1.705504</td>\n",
       "      <td>-1.607476</td>\n",
       "      <td>0.717969</td>\n",
       "      <td>1.22936</td>\n",
       "    </tr>\n",
       "    <tr>\n",
       "      <th>3</th>\n",
       "      <td>-0.935141</td>\n",
       "      <td>-0.685034</td>\n",
       "      <td>-1.161667</td>\n",
       "      <td>0.263933</td>\n",
       "      <td>0.081925</td>\n",
       "      <td>0.160125</td>\n",
       "      <td>0.169296</td>\n",
       "      <td>-0.948927</td>\n",
       "      <td>0.687454</td>\n",
       "      <td>-0.818792</td>\n",
       "      <td>...</td>\n",
       "      <td>-0.249695</td>\n",
       "      <td>-0.821274</td>\n",
       "      <td>-0.961184</td>\n",
       "      <td>-1.212781</td>\n",
       "      <td>0.098877</td>\n",
       "      <td>1.414630</td>\n",
       "      <td>-1.705504</td>\n",
       "      <td>-1.607476</td>\n",
       "      <td>0.717969</td>\n",
       "      <td>1.22936</td>\n",
       "    </tr>\n",
       "    <tr>\n",
       "      <th>4</th>\n",
       "      <td>-1.040719</td>\n",
       "      <td>-0.745213</td>\n",
       "      <td>-1.291134</td>\n",
       "      <td>0.206823</td>\n",
       "      <td>0.103835</td>\n",
       "      <td>0.218978</td>\n",
       "      <td>-0.504581</td>\n",
       "      <td>-1.054936</td>\n",
       "      <td>-0.666509</td>\n",
       "      <td>-0.513097</td>\n",
       "      <td>...</td>\n",
       "      <td>-0.249695</td>\n",
       "      <td>-0.821274</td>\n",
       "      <td>-0.961184</td>\n",
       "      <td>-1.212781</td>\n",
       "      <td>0.123147</td>\n",
       "      <td>1.412746</td>\n",
       "      <td>-1.705504</td>\n",
       "      <td>-1.607476</td>\n",
       "      <td>0.717969</td>\n",
       "      <td>1.22936</td>\n",
       "    </tr>\n",
       "  </tbody>\n",
       "</table>\n",
       "<p>5 rows × 21 columns</p>\n",
       "</div>"
      ],
      "text/plain": [
       "   tempMedia   tempMax   tempMin  humedadMedia  humedadMax  humedadMin  \\\n",
       "0  -1.149191 -0.644914 -1.635524      0.189294    0.081925    0.030319   \n",
       "1  -1.156422 -1.448554 -0.807960      1.172613    0.417881    2.123171   \n",
       "2  -1.277910 -0.979660 -1.227846      0.940778    0.498219    0.747554   \n",
       "3  -0.935141 -0.685034 -1.161667      0.263933    0.081925    0.160125   \n",
       "4  -1.040719 -0.745213 -1.291134      0.206823    0.103835    0.218978   \n",
       "\n",
       "   velViento  dirViento  velVientoMax  dirVientoVelMax  ...  precipitacion  \\\n",
       "0  -0.423513  -1.502747     -0.453085         1.508065  ...      -0.249695   \n",
       "1  -0.296844  -1.517465     -0.838102         1.459742  ...      -0.249695   \n",
       "2  -0.095188  -1.334265     -0.382228         1.299015  ...      -0.211286   \n",
       "3   0.169296  -0.948927      0.687454        -0.818792  ...      -0.249695   \n",
       "4  -0.504581  -1.054936     -0.666509        -0.513097  ...      -0.249695   \n",
       "\n",
       "    altitud       lon       lat  dia_del_año_sin  dia_del_año_cos       año  \\\n",
       "0 -0.821274 -0.961184 -1.212781         0.025922         1.417772 -1.705504   \n",
       "1 -0.821274 -0.961184 -1.212781         0.050257         1.417144 -1.705504   \n",
       "2 -0.821274 -0.961184 -1.212781         0.074578         1.416096 -1.705504   \n",
       "3 -0.821274 -0.961184 -1.212781         0.098877         1.414630 -1.705504   \n",
       "4 -0.821274 -0.961184 -1.212781         0.123147         1.412746 -1.705504   \n",
       "\n",
       "        mes   mes_sin  mes_cos  \n",
       "0 -1.607476  0.717969  1.22936  \n",
       "1 -1.607476  0.717969  1.22936  \n",
       "2 -1.607476  0.717969  1.22936  \n",
       "3 -1.607476  0.717969  1.22936  \n",
       "4 -1.607476  0.717969  1.22936  \n",
       "\n",
       "[5 rows x 21 columns]"
      ]
     },
     "execution_count": 2,
     "metadata": {},
     "output_type": "execute_result"
    }
   ],
   "source": [
    "X_train = pd.read_csv(\"../../data/final/X_train_final.csv\", sep =\";\")\n",
    "X_train.head()"
   ]
  },
  {
   "cell_type": "code",
   "execution_count": 3,
   "id": "a14ec5ca",
   "metadata": {},
   "outputs": [
    {
     "data": {
      "text/html": [
       "<div>\n",
       "<style scoped>\n",
       "    .dataframe tbody tr th:only-of-type {\n",
       "        vertical-align: middle;\n",
       "    }\n",
       "\n",
       "    .dataframe tbody tr th {\n",
       "        vertical-align: top;\n",
       "    }\n",
       "\n",
       "    .dataframe thead th {\n",
       "        text-align: right;\n",
       "    }\n",
       "</style>\n",
       "<table border=\"1\" class=\"dataframe\">\n",
       "  <thead>\n",
       "    <tr style=\"text-align: right;\">\n",
       "      <th></th>\n",
       "      <th>tempMedia</th>\n",
       "      <th>tempMax</th>\n",
       "      <th>tempMin</th>\n",
       "      <th>humedadMedia</th>\n",
       "      <th>humedadMax</th>\n",
       "      <th>humedadMin</th>\n",
       "      <th>velViento</th>\n",
       "      <th>dirViento</th>\n",
       "      <th>velVientoMax</th>\n",
       "      <th>dirVientoVelMax</th>\n",
       "      <th>...</th>\n",
       "      <th>precipitacion</th>\n",
       "      <th>altitud</th>\n",
       "      <th>lon</th>\n",
       "      <th>lat</th>\n",
       "      <th>dia_del_año_sin</th>\n",
       "      <th>dia_del_año_cos</th>\n",
       "      <th>año</th>\n",
       "      <th>mes</th>\n",
       "      <th>mes_sin</th>\n",
       "      <th>mes_cos</th>\n",
       "    </tr>\n",
       "  </thead>\n",
       "  <tbody>\n",
       "    <tr>\n",
       "      <th>0</th>\n",
       "      <td>-1.198364</td>\n",
       "      <td>-1.299361</td>\n",
       "      <td>-1.231380</td>\n",
       "      <td>0.618471</td>\n",
       "      <td>0.366758</td>\n",
       "      <td>0.742604</td>\n",
       "      <td>0.614156</td>\n",
       "      <td>1.050836</td>\n",
       "      <td>0.199566</td>\n",
       "      <td>1.103622</td>\n",
       "      <td>...</td>\n",
       "      <td>0.326445</td>\n",
       "      <td>-0.821274</td>\n",
       "      <td>-0.961184</td>\n",
       "      <td>-1.212781</td>\n",
       "      <td>0.025922</td>\n",
       "      <td>1.417772</td>\n",
       "      <td>1.792456</td>\n",
       "      <td>-1.607476</td>\n",
       "      <td>0.717969</td>\n",
       "      <td>1.22936</td>\n",
       "    </tr>\n",
       "    <tr>\n",
       "      <th>1</th>\n",
       "      <td>-1.810143</td>\n",
       "      <td>-1.518763</td>\n",
       "      <td>-1.920642</td>\n",
       "      <td>0.748525</td>\n",
       "      <td>0.279117</td>\n",
       "      <td>0.438989</td>\n",
       "      <td>-0.756905</td>\n",
       "      <td>1.551034</td>\n",
       "      <td>-1.005427</td>\n",
       "      <td>1.573196</td>\n",
       "      <td>...</td>\n",
       "      <td>-0.211286</td>\n",
       "      <td>-0.821274</td>\n",
       "      <td>-0.961184</td>\n",
       "      <td>-1.212781</td>\n",
       "      <td>0.050257</td>\n",
       "      <td>1.417144</td>\n",
       "      <td>1.792456</td>\n",
       "      <td>-1.607476</td>\n",
       "      <td>0.717969</td>\n",
       "      <td>1.22936</td>\n",
       "    </tr>\n",
       "    <tr>\n",
       "      <th>2</th>\n",
       "      <td>-1.897498</td>\n",
       "      <td>-1.451062</td>\n",
       "      <td>-2.146487</td>\n",
       "      <td>0.403600</td>\n",
       "      <td>0.023498</td>\n",
       "      <td>-0.194642</td>\n",
       "      <td>-0.859253</td>\n",
       "      <td>-0.823363</td>\n",
       "      <td>-0.992622</td>\n",
       "      <td>1.134087</td>\n",
       "      <td>...</td>\n",
       "      <td>-0.211286</td>\n",
       "      <td>-0.821274</td>\n",
       "      <td>-0.961184</td>\n",
       "      <td>-1.212781</td>\n",
       "      <td>0.074578</td>\n",
       "      <td>1.416096</td>\n",
       "      <td>1.792456</td>\n",
       "      <td>-1.607476</td>\n",
       "      <td>0.717969</td>\n",
       "      <td>1.22936</td>\n",
       "    </tr>\n",
       "    <tr>\n",
       "      <th>3</th>\n",
       "      <td>-1.717725</td>\n",
       "      <td>-1.400913</td>\n",
       "      <td>-1.984412</td>\n",
       "      <td>0.488417</td>\n",
       "      <td>0.030801</td>\n",
       "      <td>0.372986</td>\n",
       "      <td>-0.668743</td>\n",
       "      <td>-0.946869</td>\n",
       "      <td>-0.599494</td>\n",
       "      <td>1.307419</td>\n",
       "      <td>...</td>\n",
       "      <td>-0.211286</td>\n",
       "      <td>-0.821274</td>\n",
       "      <td>-0.961184</td>\n",
       "      <td>-1.212781</td>\n",
       "      <td>0.098877</td>\n",
       "      <td>1.414630</td>\n",
       "      <td>1.792456</td>\n",
       "      <td>-1.607476</td>\n",
       "      <td>0.717969</td>\n",
       "      <td>1.22936</td>\n",
       "    </tr>\n",
       "    <tr>\n",
       "      <th>4</th>\n",
       "      <td>-1.345885</td>\n",
       "      <td>-1.333211</td>\n",
       "      <td>-1.307037</td>\n",
       "      <td>0.505381</td>\n",
       "      <td>-0.005716</td>\n",
       "      <td>0.694201</td>\n",
       "      <td>-0.519781</td>\n",
       "      <td>-1.363186</td>\n",
       "      <td>-0.863287</td>\n",
       "      <td>-1.868241</td>\n",
       "      <td>...</td>\n",
       "      <td>-0.249695</td>\n",
       "      <td>-0.821274</td>\n",
       "      <td>-0.961184</td>\n",
       "      <td>-1.212781</td>\n",
       "      <td>0.123147</td>\n",
       "      <td>1.412746</td>\n",
       "      <td>1.792456</td>\n",
       "      <td>-1.607476</td>\n",
       "      <td>0.717969</td>\n",
       "      <td>1.22936</td>\n",
       "    </tr>\n",
       "  </tbody>\n",
       "</table>\n",
       "<p>5 rows × 21 columns</p>\n",
       "</div>"
      ],
      "text/plain": [
       "   tempMedia   tempMax   tempMin  humedadMedia  humedadMax  humedadMin  \\\n",
       "0  -1.198364 -1.299361 -1.231380      0.618471    0.366758    0.742604   \n",
       "1  -1.810143 -1.518763 -1.920642      0.748525    0.279117    0.438989   \n",
       "2  -1.897498 -1.451062 -2.146487      0.403600    0.023498   -0.194642   \n",
       "3  -1.717725 -1.400913 -1.984412      0.488417    0.030801    0.372986   \n",
       "4  -1.345885 -1.333211 -1.307037      0.505381   -0.005716    0.694201   \n",
       "\n",
       "   velViento  dirViento  velVientoMax  dirVientoVelMax  ...  precipitacion  \\\n",
       "0   0.614156   1.050836      0.199566         1.103622  ...       0.326445   \n",
       "1  -0.756905   1.551034     -1.005427         1.573196  ...      -0.211286   \n",
       "2  -0.859253  -0.823363     -0.992622         1.134087  ...      -0.211286   \n",
       "3  -0.668743  -0.946869     -0.599494         1.307419  ...      -0.211286   \n",
       "4  -0.519781  -1.363186     -0.863287        -1.868241  ...      -0.249695   \n",
       "\n",
       "    altitud       lon       lat  dia_del_año_sin  dia_del_año_cos       año  \\\n",
       "0 -0.821274 -0.961184 -1.212781         0.025922         1.417772  1.792456   \n",
       "1 -0.821274 -0.961184 -1.212781         0.050257         1.417144  1.792456   \n",
       "2 -0.821274 -0.961184 -1.212781         0.074578         1.416096  1.792456   \n",
       "3 -0.821274 -0.961184 -1.212781         0.098877         1.414630  1.792456   \n",
       "4 -0.821274 -0.961184 -1.212781         0.123147         1.412746  1.792456   \n",
       "\n",
       "        mes   mes_sin  mes_cos  \n",
       "0 -1.607476  0.717969  1.22936  \n",
       "1 -1.607476  0.717969  1.22936  \n",
       "2 -1.607476  0.717969  1.22936  \n",
       "3 -1.607476  0.717969  1.22936  \n",
       "4 -1.607476  0.717969  1.22936  \n",
       "\n",
       "[5 rows x 21 columns]"
      ]
     },
     "execution_count": 3,
     "metadata": {},
     "output_type": "execute_result"
    }
   ],
   "source": [
    "X_test = pd.read_csv(\"../../data/final/X_test_final.csv\", sep =\";\")\n",
    "X_test.head()"
   ]
  },
  {
   "cell_type": "code",
   "execution_count": 4,
   "id": "fa75d5d0",
   "metadata": {},
   "outputs": [
    {
     "data": {
      "text/html": [
       "<div>\n",
       "<style scoped>\n",
       "    .dataframe tbody tr th:only-of-type {\n",
       "        vertical-align: middle;\n",
       "    }\n",
       "\n",
       "    .dataframe tbody tr th {\n",
       "        vertical-align: top;\n",
       "    }\n",
       "\n",
       "    .dataframe thead th {\n",
       "        text-align: right;\n",
       "    }\n",
       "</style>\n",
       "<table border=\"1\" class=\"dataframe\">\n",
       "  <thead>\n",
       "    <tr style=\"text-align: right;\">\n",
       "      <th></th>\n",
       "      <th>et0</th>\n",
       "    </tr>\n",
       "  </thead>\n",
       "  <tbody>\n",
       "    <tr>\n",
       "      <th>0</th>\n",
       "      <td>1.410210</td>\n",
       "    </tr>\n",
       "    <tr>\n",
       "      <th>1</th>\n",
       "      <td>0.914485</td>\n",
       "    </tr>\n",
       "    <tr>\n",
       "      <th>2</th>\n",
       "      <td>0.952486</td>\n",
       "    </tr>\n",
       "    <tr>\n",
       "      <th>3</th>\n",
       "      <td>1.015420</td>\n",
       "    </tr>\n",
       "    <tr>\n",
       "      <th>4</th>\n",
       "      <td>1.062508</td>\n",
       "    </tr>\n",
       "  </tbody>\n",
       "</table>\n",
       "</div>"
      ],
      "text/plain": [
       "        et0\n",
       "0  1.410210\n",
       "1  0.914485\n",
       "2  0.952486\n",
       "3  1.015420\n",
       "4  1.062508"
      ]
     },
     "execution_count": 4,
     "metadata": {},
     "output_type": "execute_result"
    }
   ],
   "source": [
    "y_test = pd.read_csv(\"../../data/final/y_test_final.csv\", sep =\";\")\n",
    "y_test.head()"
   ]
  },
  {
   "cell_type": "code",
   "execution_count": 5,
   "id": "b7f319a9",
   "metadata": {},
   "outputs": [
    {
     "data": {
      "text/html": [
       "<div>\n",
       "<style scoped>\n",
       "    .dataframe tbody tr th:only-of-type {\n",
       "        vertical-align: middle;\n",
       "    }\n",
       "\n",
       "    .dataframe tbody tr th {\n",
       "        vertical-align: top;\n",
       "    }\n",
       "\n",
       "    .dataframe thead th {\n",
       "        text-align: right;\n",
       "    }\n",
       "</style>\n",
       "<table border=\"1\" class=\"dataframe\">\n",
       "  <thead>\n",
       "    <tr style=\"text-align: right;\">\n",
       "      <th></th>\n",
       "      <th>et0</th>\n",
       "    </tr>\n",
       "  </thead>\n",
       "  <tbody>\n",
       "    <tr>\n",
       "      <th>0</th>\n",
       "      <td>1.495588</td>\n",
       "    </tr>\n",
       "    <tr>\n",
       "      <th>1</th>\n",
       "      <td>0.776324</td>\n",
       "    </tr>\n",
       "    <tr>\n",
       "      <th>2</th>\n",
       "      <td>1.327342</td>\n",
       "    </tr>\n",
       "    <tr>\n",
       "      <th>3</th>\n",
       "      <td>1.796508</td>\n",
       "    </tr>\n",
       "    <tr>\n",
       "      <th>4</th>\n",
       "      <td>1.371563</td>\n",
       "    </tr>\n",
       "  </tbody>\n",
       "</table>\n",
       "</div>"
      ],
      "text/plain": [
       "        et0\n",
       "0  1.495588\n",
       "1  0.776324\n",
       "2  1.327342\n",
       "3  1.796508\n",
       "4  1.371563"
      ]
     },
     "execution_count": 5,
     "metadata": {},
     "output_type": "execute_result"
    }
   ],
   "source": [
    "y_train = pd.read_csv(\"../../data/final/y_train_final.csv\", sep =\";\")\n",
    "y_train.head()"
   ]
  },
  {
   "cell_type": "markdown",
   "id": "878ead32",
   "metadata": {},
   "source": [
    "## Modelos"
   ]
  },
  {
   "cell_type": "markdown",
   "id": "327f298f",
   "metadata": {},
   "source": [
    "Comenzamos definiendo un modelo base"
   ]
  },
  {
   "cell_type": "code",
   "execution_count": null,
   "id": "64f47d67",
   "metadata": {},
   "outputs": [],
   "source": [
    "script_dir = os.path.dirname(__file__)\n",
    "project_root = os.path.abspath(os.path.join(script_dir, '..', '..'))\n",
    "mlruns_path = os.path.join(project_root, \"mlruns\")\n",
    "tracking_uri = \"file://\" + mlruns_path \n",
    "mlflow.set_tracking_uri(tracking_uri)"
   ]
  },
  {
   "cell_type": "code",
   "execution_count": 18,
   "id": "2851cf51",
   "metadata": {},
   "outputs": [
    {
     "name": "stderr",
     "output_type": "stream",
     "text": [
      "2025/10/23 19:05:59 INFO mlflow.tracking.fluent: Experiment with name 'TFM_Riego_Pred_ET0' does not exist. Creating a new experiment.\n"
     ]
    },
    {
     "data": {
      "text/plain": [
       "<Experiment: artifact_location='file:///home/lola/Escritorio/TFM-Sistema-Riego-Agricola/mlruns/749096422678353308', creation_time=1761239159867, experiment_id='749096422678353308', last_update_time=1761239159867, lifecycle_stage='active', name='TFM_Riego_Pred_ET0', tags={}>"
      ]
     },
     "execution_count": 18,
     "metadata": {},
     "output_type": "execute_result"
    }
   ],
   "source": [
    "mlflow.set_experiment(\"TFM_Riego_Pred_ET0\")\n"
   ]
  },
  {
   "cell_type": "code",
   "execution_count": 19,
   "id": "e206a9d5",
   "metadata": {},
   "outputs": [
    {
     "name": "stdout",
     "output_type": "stream",
     "text": [
      "Fold 1 -> RMSE: 0.4933, R²: 0.9506\n",
      "Fold 2 -> RMSE: 0.4415, R²: 0.9604\n",
      "Fold 3 -> RMSE: 0.4397, R²: 0.9605\n",
      "Fold 4 -> RMSE: 0.4201, R²: 0.9614\n",
      "Fold 5 -> RMSE: 0.3563, R²: 0.9685\n",
      "RMSE CV Medio (Ridge): 0.4302 | R² CV Medio (Ridge): 0.9603\n"
     ]
    },
    {
     "name": "stderr",
     "output_type": "stream",
     "text": [
      "Registered model 'baseline-ridge' already exists. Creating a new version of this model...\n",
      "Created version '3' of model 'baseline-ridge'.\n"
     ]
    }
   ],
   "source": [
    "with mlflow.start_run(run_name=\"Baseline_Ridge\"):\n",
    "    ridge_model = Ridge(random_state=42)\n",
    "    \n",
    "    tscv = TimeSeriesSplit(n_splits=5)\n",
    "    \n",
    "    rmse_scores = []\n",
    "    r2_scores = []\n",
    "\n",
    "    for fold, (train_index, val_index) in enumerate(tscv.split(X_train)):\n",
    "        X_train_fold, X_val_fold = X_train.iloc[train_index], X_train.iloc[val_index]\n",
    "        y_train_fold, y_val_fold = y_train.iloc[train_index], y_train.iloc[val_index]\n",
    "\n",
    "        ridge_model.fit(X_train_fold, y_train_fold)\n",
    "        predictions = ridge_model.predict(X_val_fold)\n",
    "        \n",
    "        rmse_scores.append(np.sqrt(mean_squared_error(y_val_fold, predictions)))\n",
    "        r2_scores.append(r2_score(y_val_fold, predictions))\n",
    "        \n",
    "        print(f\"Fold {fold+1} -> RMSE: {rmse_scores[-1]:.4f}, R²: {r2_scores[-1]:.4f}\")\n",
    "\n",
    "    mlflow.log_params(ridge_model.get_params())\n",
    "    mlflow.log_param(\"cv_method\", \"TimeSeriesSplit\")\n",
    "    mlflow.log_param(\"n_splits\", tscv.n_splits)\n",
    "    mlflow.log_metric(\"rmse_cv_mean\", np.mean(rmse_scores))\n",
    "    mlflow.log_metric(\"rmse_cv_std\", np.std(rmse_scores))\n",
    "    mlflow.log_metric(\"r2_cv_mean\", np.mean(r2_scores))\n",
    "    mlflow.log_metric(\"r2_cv_std\", np.std(r2_scores))\n",
    "    mlflow.sklearn.log_model(sk_model=ridge_model, name=\"ridge_cv_model\", input_example=X_train, registered_model_name=\"baseline-ridge\")\n",
    "    \n",
    "    print(f\"RMSE CV Medio (Ridge): {round(np.mean(rmse_scores),4)} | R² CV Medio (Ridge): {round(np.mean(r2_scores),4)}\")\n",
    "\n",
    "    mlflow.end_run()"
   ]
  },
  {
   "cell_type": "code",
   "execution_count": 20,
   "id": "7bd10210",
   "metadata": {},
   "outputs": [
    {
     "name": "stdout",
     "output_type": "stream",
     "text": [
      "Fold 1 -> RMSE: 0.1946, R²: 0.9923\n",
      "Fold 2 -> RMSE: 0.1169, R²: 0.9972\n",
      "Fold 3 -> RMSE: 0.1123, R²: 0.9974\n",
      "Fold 4 -> RMSE: 0.1213, R²: 0.9968\n",
      "Fold 5 -> RMSE: 0.1213, R²: 0.9964\n"
     ]
    },
    {
     "name": "stderr",
     "output_type": "stream",
     "text": [
      "/home/lola/Escritorio/TFM-Sistema-Riego-Agricola/.env/lib/python3.11/site-packages/xgboost/sklearn.py:1115: UserWarning: [19:06:34] WARNING: /workspace/src/c_api/c_api.cc:1575: Saving model in the UBJSON format as default.  You can use a file extension: `json` or `ubj` to choose between formats.\n",
      "  self.get_booster().save_model(fname)\n",
      "/home/lola/Escritorio/TFM-Sistema-Riego-Agricola/.env/lib/python3.11/site-packages/xgboost/sklearn.py:1124: UserWarning: [19:06:39] WARNING: /workspace/src/c_api/c_api.cc:1511: Unknown file format: `xgb`. Using UBJSON (`ubj`) as a guess.\n",
      "  self.get_booster().load_model(fname)\n"
     ]
    },
    {
     "name": "stdout",
     "output_type": "stream",
     "text": [
      "RMSE CV Medio (XGBoost): 0.1333 | R² CV Medio (XGBoost): 0.996\n"
     ]
    },
    {
     "name": "stderr",
     "output_type": "stream",
     "text": [
      "Registered model 'xgboost' already exists. Creating a new version of this model...\n",
      "Created version '2' of model 'xgboost'.\n"
     ]
    }
   ],
   "source": [
    "with mlflow.start_run(run_name=\"XGBoost_default_param\"):\n",
    "    xgb_model = xgboost.XGBRegressor(random_state=42)\n",
    "    \n",
    "    tscv = TimeSeriesSplit(n_splits=5)\n",
    "    \n",
    "    rmse_scores = []\n",
    "    r2_scores = []\n",
    "\n",
    "    for fold, (train_index, val_index) in enumerate(tscv.split(X_train)):\n",
    "        X_train_fold, X_val_fold = X_train.iloc[train_index], X_train.iloc[val_index]\n",
    "        y_train_fold, y_val_fold = y_train.iloc[train_index], y_train.iloc[val_index]\n",
    "\n",
    "        xgb_model.fit(X_train_fold, y_train_fold)\n",
    "        predictions = xgb_model.predict(X_val_fold)\n",
    "        \n",
    "        rmse_scores.append(np.sqrt(mean_squared_error(y_val_fold, predictions)))\n",
    "        r2_scores.append(r2_score(y_val_fold, predictions))\n",
    "        \n",
    "        print(f\"Fold {fold+1} -> RMSE: {rmse_scores[-1]:.4f}, R²: {r2_scores[-1]:.4f}\")\n",
    "\n",
    "    mlflow.log_params(xgb_model.get_params())\n",
    "    mlflow.log_param(\"cv_method\", \"TimeSeriesSplit\")\n",
    "    mlflow.log_param(\"n_splits\", tscv.n_splits)\n",
    "    mlflow.log_metric(\"rmse_cv_mean\", np.mean(rmse_scores))\n",
    "    mlflow.log_metric(\"rmse_cv_std\", np.std(rmse_scores))\n",
    "    mlflow.log_metric(\"r2_cv_mean\", np.mean(r2_scores))\n",
    "    mlflow.log_metric(\"r2_cv_std\", np.std(r2_scores))\n",
    "    mlflow.xgboost.log_model(xgb_model=xgb_model, name = \"xgboost_cv_model\", input_example=X_train, registered_model_name=\"xgboost\")\n",
    "    \n",
    "    print(f\"RMSE CV Medio (XGBoost): {round(np.mean(rmse_scores),4)} | R² CV Medio (XGBoost): {round(np.mean(r2_scores),4)}\")\n",
    "    \n",
    "    mlflow.end_run()"
   ]
  },
  {
   "cell_type": "code",
   "execution_count": 21,
   "id": "9ef98f59",
   "metadata": {},
   "outputs": [
    {
     "name": "stdout",
     "output_type": "stream",
     "text": [
      "Fold 1 -> RMSE: 0.1472, R²: 0.9956\n",
      "Fold 2 -> RMSE: 0.0858, R²: 0.9985\n",
      "Fold 3 -> RMSE: 0.0622, R²: 0.9992\n",
      "Fold 4 -> RMSE: 0.0774, R²: 0.9987\n",
      "Fold 5 -> RMSE: 0.0688, R²: 0.9988\n",
      "RMSE CV Medio (SVR): 0.0883 | R² CV Medio (SVR): 0.9982\n"
     ]
    },
    {
     "name": "stderr",
     "output_type": "stream",
     "text": [
      "Successfully registered model 'SVR'.\n",
      "Created version '1' of model 'SVR'.\n"
     ]
    }
   ],
   "source": [
    "with mlflow.start_run(run_name=\"SVR_default_param\"):\n",
    "    svr_model = SVR()\n",
    "    \n",
    "    tscv = TimeSeriesSplit(n_splits=5)\n",
    "    \n",
    "    rmse_scores = []\n",
    "    r2_scores = []\n",
    "\n",
    "    for fold, (train_index, val_index) in enumerate(tscv.split(X_train)):\n",
    "        X_train_fold, X_val_fold = X_train.iloc[train_index], X_train.iloc[val_index]\n",
    "        y_train_fold, y_val_fold = y_train.iloc[train_index], y_train.iloc[val_index]\n",
    "\n",
    "        svr_model.fit(X_train_fold, y_train_fold['et0'])\n",
    "        predictions = svr_model.predict(X_val_fold)\n",
    "        \n",
    "        rmse_scores.append(np.sqrt(mean_squared_error(y_val_fold['et0'], predictions)))\n",
    "        r2_scores.append(r2_score(y_val_fold['et0'], predictions))\n",
    "        \n",
    "        print(f\"Fold {fold+1} -> RMSE: {rmse_scores[-1]:.4f}, R²: {r2_scores[-1]:.4f}\")\n",
    "\n",
    "    mlflow.log_params(svr_model.get_params())\n",
    "    mlflow.log_param(\"cv_method\", \"TimeSeriesSplit\")\n",
    "    mlflow.log_param(\"n_splits\", tscv.n_splits)\n",
    "    mlflow.log_metric(\"rmse_cv_mean\", np.mean(rmse_scores))\n",
    "    mlflow.log_metric(\"rmse_cv_std\", np.std(rmse_scores))\n",
    "    mlflow.log_metric(\"r2_cv_mean\", np.mean(r2_scores))\n",
    "    mlflow.log_metric(\"r2_cv_std\", np.std(r2_scores))\n",
    "    mlflow.sklearn.log_model(sk_model=svr_model, name=\"svr_cv_model\", input_example=X_train, registered_model_name=\"SVR\")\n",
    "    \n",
    "    print(f\"RMSE CV Medio (SVR): {round(np.mean(rmse_scores),4)} | R² CV Medio (SVR): {round(np.mean(r2_scores),4)}\")\n",
    "    mlflow.end_run()"
   ]
  },
  {
   "cell_type": "code",
   "execution_count": 22,
   "id": "333060b4",
   "metadata": {},
   "outputs": [
    {
     "name": "stdout",
     "output_type": "stream",
     "text": [
      "<class 'pandas.core.frame.DataFrame'>\n",
      "Fold 1 -> RMSE: 0.2486, R²: 0.9875\n",
      "<class 'pandas.core.frame.DataFrame'>\n",
      "Fold 2 -> RMSE: 0.0942, R²: 0.9982\n",
      "<class 'pandas.core.frame.DataFrame'>\n",
      "Fold 3 -> RMSE: 0.0923, R²: 0.9983\n",
      "<class 'pandas.core.frame.DataFrame'>\n",
      "Fold 4 -> RMSE: 0.0924, R²: 0.9981\n",
      "<class 'pandas.core.frame.DataFrame'>\n",
      "Fold 5 -> RMSE: 0.0981, R²: 0.9976\n",
      "RMSE CV Medio (Random Forest): 0.1251 | R² CV Medio (Random Forest): 0.9959\n"
     ]
    },
    {
     "name": "stderr",
     "output_type": "stream",
     "text": [
      "Successfully registered model 'RandomForest'.\n",
      "Created version '1' of model 'RandomForest'.\n"
     ]
    }
   ],
   "source": [
    "with mlflow.start_run(run_name=\"RandomFores_default_param\"):\n",
    "    rf_model =  RandomForestRegressor(random_state=42)\n",
    "    \n",
    "    tscv = TimeSeriesSplit(n_splits=5)\n",
    "    \n",
    "    rmse_scores = []\n",
    "    r2_scores = []\n",
    "\n",
    "    for fold, (train_index, val_index) in enumerate(tscv.split(X_train)):\n",
    "        X_train_fold, X_val_fold = X_train.iloc[train_index], X_train.iloc[val_index]\n",
    "        y_train_fold, y_val_fold = y_train.iloc[train_index], y_train.iloc[val_index]\n",
    "        print(type(y_train))\n",
    "        rf_model.fit(X_train_fold, y_train_fold['et0'])\n",
    "        predictions = rf_model.predict(X_val_fold)\n",
    "        \n",
    "        rmse_scores.append(np.sqrt(mean_squared_error(y_val_fold['et0'], predictions)))\n",
    "        r2_scores.append(r2_score(y_val_fold['et0'], predictions))\n",
    "        \n",
    "        print(f\"Fold {fold+1} -> RMSE: {rmse_scores[-1]:.4f}, R²: {r2_scores[-1]:.4f}\")\n",
    "\n",
    "    mlflow.log_params(rf_model.get_params())\n",
    "    mlflow.log_param(\"cv_method\", \"TimeSeriesSplit\")\n",
    "    mlflow.log_param(\"n_splits\", tscv.n_splits)\n",
    "    mlflow.log_metric(\"rmse_cv_mean\", np.mean(rmse_scores))\n",
    "    mlflow.log_metric(\"rmse_cv_std\", np.std(rmse_scores))\n",
    "    mlflow.log_metric(\"r2_cv_mean\", np.mean(r2_scores))\n",
    "    mlflow.log_metric(\"r2_cv_std\", np.std(r2_scores))\n",
    "    mlflow.sklearn.log_model(sk_model=rf_model, name=\"rf_cv_model\", input_example=X_train, registered_model_name=\"RandomForest\")\n",
    "    \n",
    "    print(f\"RMSE CV Medio (Random Forest): {round(np.mean(rmse_scores),4)} | R² CV Medio (Random Forest): {round(np.mean(r2_scores),4)}\")\n",
    "    mlflow.end_run()"
   ]
  },
  {
   "cell_type": "code",
   "execution_count": 23,
   "id": "5f72f8da",
   "metadata": {},
   "outputs": [
    {
     "name": "stdout",
     "output_type": "stream",
     "text": [
      "Fitting 5 folds for each of 25 candidates, totalling 125 fits\n"
     ]
    },
    {
     "name": "stdout",
     "output_type": "stream",
     "text": [
      "Mejor modelo: XGBRegressor(base_score=None, booster=None, callbacks=None,\n",
      "             colsample_bylevel=None, colsample_bynode=None,\n",
      "             colsample_bytree=0.9, device=None, early_stopping_rounds=None,\n",
      "             enable_categorical=False, eval_metric=None, feature_types=None,\n",
      "             feature_weights=None, gamma=None, grow_policy=None,\n",
      "             importance_type=None, interaction_constraints=None,\n",
      "             learning_rate=0.05, max_bin=None, max_cat_threshold=None,\n",
      "             max_cat_to_onehot=None, max_delta_step=None, max_depth=7,\n",
      "             max_leaves=None, min_child_weight=None, missing=nan,\n",
      "             monotone_constraints=None, multi_strategy=None, n_estimators=700,\n",
      "             n_jobs=-1, num_parallel_tree=None, ...)\n",
      "Parámetros: {'subsample': 0.8, 'n_estimators': 700, 'max_depth': 7, 'learning_rate': 0.05, 'colsample_bytree': 0.9}\n",
      "RMSE: 0.0703\n"
     ]
    },
    {
     "name": "stderr",
     "output_type": "stream",
     "text": [
      "/home/lola/Escritorio/TFM-Sistema-Riego-Agricola/.env/lib/python3.11/site-packages/xgboost/sklearn.py:1115: UserWarning: [22:04:40] WARNING: /workspace/src/c_api/c_api.cc:1575: Saving model in the UBJSON format as default.  You can use a file extension: `json` or `ubj` to choose between formats.\n",
      "  self.get_booster().save_model(fname)\n",
      "/home/lola/Escritorio/TFM-Sistema-Riego-Agricola/.env/lib/python3.11/site-packages/xgboost/sklearn.py:1124: UserWarning: [22:04:46] WARNING: /workspace/src/c_api/c_api.cc:1511: Unknown file format: `xgb`. Using UBJSON (`ubj`) as a guess.\n",
      "  self.get_booster().load_model(fname)\n",
      "Successfully registered model 'xgboost-tunning'.\n",
      "Created version '1' of model 'xgboost-tunning'.\n"
     ]
    }
   ],
   "source": [
    "with mlflow.start_run(run_name=\"XGBoost_RandomSearch_Tuning\"):\n",
    "    params_xgboost = {\n",
    "    'n_estimators': [100, 300, 500, 700],\n",
    "    'learning_rate': [0.01, 0.05, 0.1, 0.2],\n",
    "    'max_depth': [3, 5, 7, 9],\n",
    "    'subsample': [0.7, 0.8, 0.9, 1.0],\n",
    "    'colsample_bytree': [0.7, 0.8, 0.9, 1.0]\n",
    "    }\n",
    "    \n",
    "    tscv = TimeSeriesSplit(n_splits=5)\n",
    "    xgboost_estimator = xgboost.XGBRegressor(random_state=42, objective='reg:squarederror', n_jobs=-1)\n",
    "    random_search = RandomizedSearchCV(\n",
    "            estimator=xgboost_estimator,\n",
    "            param_distributions=params_xgboost,\n",
    "            n_iter=25, \n",
    "            cv=tscv,\n",
    "            scoring='neg_root_mean_squared_error',\n",
    "            n_jobs=-1,\n",
    "            random_state=42,\n",
    "            verbose=1\n",
    "        )\n",
    "    \n",
    "    random_search.fit(X_train, y_train)\n",
    "    best_model = random_search.best_estimator_\n",
    "    best_score = -random_search.best_score_\n",
    "    best_params = random_search.best_params_\n",
    "    print(f'Mejor modelo: {best_model}')\n",
    "    print(f'Parámetros: {best_params}')\n",
    "    print(f'RMSE: {best_score:.4f}')\n",
    "    \n",
    "\n",
    "    mlflow.log_param(\"cv_method\", \"TimeSeriesSplit\")\n",
    "    mlflow.log_param(\"n_splits_cv\", tscv.n_splits)\n",
    "    mlflow.log_param(\"n_iter_random_search\", random_search.n_iter)\n",
    "    mlflow.log_param(\"scoring_metric\", random_search.scoring)\n",
    "    mlflow.log_metric(\"best_rmse_cv_xgboost\", best_score)\n",
    "    mlflow.xgboost.log_model(xgb_model=best_model, name=\"xgboost_tunning\", input_example=X_train, registered_model_name=\"xgboost-tunning\")\n",
    "\n",
    "    mlflow.end_run()"
   ]
  },
  {
   "cell_type": "code",
   "execution_count": 25,
   "id": "de677a8e",
   "metadata": {},
   "outputs": [
    {
     "name": "stdout",
     "output_type": "stream",
     "text": [
      "RMSE Final en Test Set (XGBoost best param): 0.0715\n",
      "R² Final en Test Set (XGBoost best param):   0.9989\n"
     ]
    },
    {
     "name": "stderr",
     "output_type": "stream",
     "text": [
      "/home/lola/Escritorio/TFM-Sistema-Riego-Agricola/.env/lib/python3.11/site-packages/xgboost/sklearn.py:1115: UserWarning: [22:42:19] WARNING: /workspace/src/c_api/c_api.cc:1575: Saving model in the UBJSON format as default.  You can use a file extension: `json` or `ubj` to choose between formats.\n",
      "  self.get_booster().save_model(fname)\n",
      "/home/lola/Escritorio/TFM-Sistema-Riego-Agricola/.env/lib/python3.11/site-packages/xgboost/sklearn.py:1124: UserWarning: [22:42:24] WARNING: /workspace/src/c_api/c_api.cc:1511: Unknown file format: `xgb`. Using UBJSON (`ubj`) as a guess.\n",
      "  self.get_booster().load_model(fname)\n",
      "Successfully registered model 'xgboost-best-model-val'.\n",
      "Created version '1' of model 'xgboost-best-model-val'.\n"
     ]
    }
   ],
   "source": [
    "with mlflow.start_run(run_name=\"Best XGGBoost - Final_Evaluation\"): \n",
    "\n",
    "    best_model.fit(X_train, y_train) \n",
    "\n",
    "\n",
    "    predictions_final_test = best_model.predict(X_test)\n",
    "\n",
    "\n",
    "    rmse_final_test = np.sqrt(mean_squared_error(y_test, predictions_final_test))\n",
    "    r2_final_test = r2_score(y_test, predictions_final_test)\n",
    "\n",
    "    print(f\"RMSE Final en Test Set (XGBoost best param): {rmse_final_test:.4f}\")\n",
    "    print(f\"R² Final en Test Set (XGBoost best param):   {r2_final_test:.4f}\")\n",
    "\n",
    "\n",
    "    mlflow.log_params(best_params)\n",
    "    mlflow.log_metric(\"rmse_final_test\", rmse_final_test) \n",
    "    mlflow.log_metric(\"r2_final_test\", r2_final_test) \n",
    "\n",
    "    \n",
    "    mlflow.xgboost.log_model(xgb_model=best_model, name=\"final_production_model\", input_example = X_train, registered_model_name=\"xgboost-best-model-val\")\n",
    "\n",
    "    mlflow.end_run()"
   ]
  },
  {
   "cell_type": "code",
   "execution_count": 26,
   "id": "45fa6ace",
   "metadata": {},
   "outputs": [
    {
     "data": {
      "image/png": "[encoded data removed]",
      "text/plain": [
       "<Figure size 1000x800 with 1 Axes>"
      ]
     },
     "metadata": {},
     "output_type": "display_data"
    }
   ],
   "source": [
    "importancias = best_model.feature_importances_\n",
    "df_importancias = pd.DataFrame({\n",
    "    'Variable': X_train.columns,\n",
    "    'Importancia': importancias\n",
    "})\n",
    "df_importancias = df_importancias.sort_values('Importancia', ascending=False)\n",
    "plt.figure(figsize=(10, 8))\n",
    "sns.barplot(x='Importancia', y='Variable', data=df_importancias) # Muestra las 15 primeras\n",
    "plt.title('Importancia de las Variables en el Modelo XGBoost')\n",
    "plt.show()"
   ]
  },
  {
   "cell_type": "markdown",
   "id": "61d52e1f",
   "metadata": {},
   "source": [
    "Dataset reducido"
   ]
  },
  {
   "cell_type": "code",
   "execution_count": 6,
   "id": "20017b9d",
   "metadata": {},
   "outputs": [],
   "source": [
    "X_prueba = X_train.copy()"
   ]
  },
  {
   "cell_type": "code",
   "execution_count": 7,
   "id": "4501046e",
   "metadata": {},
   "outputs": [
    {
     "data": {
      "text/plain": [
       "Index(['tempMedia', 'tempMax', 'tempMin', 'humedadMedia', 'humedadMax',\n",
       "       'humedadMin', 'velViento', 'dirViento', 'velVientoMax',\n",
       "       'dirVientoVelMax', 'radiacion', 'precipitacion', 'altitud', 'lon',\n",
       "       'lat', 'dia_del_año_sin', 'dia_del_año_cos', 'año', 'mes', 'mes_sin',\n",
       "       'mes_cos'],\n",
       "      dtype='object')"
      ]
     },
     "execution_count": 7,
     "metadata": {},
     "output_type": "execute_result"
    }
   ],
   "source": [
    "X_prueba.columns"
   ]
  },
  {
   "cell_type": "code",
   "execution_count": 1,
   "id": "d6248456",
   "metadata": {},
   "outputs": [
    {
     "ename": "NameError",
     "evalue": "name 'X_prueba' is not defined",
     "output_type": "error",
     "traceback": [
      "\u001b[31m---------------------------------------------------------------------------\u001b[39m",
      "\u001b[31mNameError\u001b[39m                                 Traceback (most recent call last)",
      "\u001b[36mCell\u001b[39m\u001b[36m \u001b[39m\u001b[32mIn[1]\u001b[39m\u001b[32m, line 1\u001b[39m\n\u001b[32m----> \u001b[39m\u001b[32m1\u001b[39m X_prueba = \u001b[43mX_prueba\u001b[49m[[\u001b[33m'\u001b[39m\u001b[33mtempMax\u001b[39m\u001b[33m'\u001b[39m, \u001b[33m'\u001b[39m\u001b[33mtempMin\u001b[39m\u001b[33m'\u001b[39m, \u001b[33m'\u001b[39m\u001b[33mhumedadMax\u001b[39m\u001b[33m'\u001b[39m,\u001b[33m'\u001b[39m\u001b[33mhumedadMin\u001b[39m\u001b[33m'\u001b[39m, \u001b[33m'\u001b[39m\u001b[33mvelViento\u001b[39m\u001b[33m'\u001b[39m, \u001b[33m'\u001b[39m\u001b[33maltitud\u001b[39m\u001b[33m'\u001b[39m, \u001b[33m'\u001b[39m\u001b[33mlon\u001b[39m\u001b[33m'\u001b[39m,\n\u001b[32m      2\u001b[39m                      \u001b[33m'\u001b[39m\u001b[33mlat\u001b[39m\u001b[33m'\u001b[39m, \u001b[33m'\u001b[39m\u001b[33mdia_del_año_sin\u001b[39m\u001b[33m'\u001b[39m, \u001b[33m'\u001b[39m\u001b[33mdia_del_año_cos\u001b[39m\u001b[33m'\u001b[39m, \u001b[33m'\u001b[39m\u001b[33maño\u001b[39m\u001b[33m'\u001b[39m, \u001b[33m'\u001b[39m\u001b[33mmes\u001b[39m\u001b[33m'\u001b[39m, \u001b[33m'\u001b[39m\u001b[33mmes_sin\u001b[39m\u001b[33m'\u001b[39m, \u001b[33m'\u001b[39m\u001b[33mmes_cos\u001b[39m\u001b[33m'\u001b[39m]]\n",
      "\u001b[31mNameError\u001b[39m: name 'X_prueba' is not defined"
     ]
    }
   ],
   "source": [
    "X_prueba = X_prueba[['tempMax', 'tempMin', 'humedadMax','humedadMin', 'velViento', 'altitud', 'lon',\n",
    "                     'lat', 'dia_del_año_sin', 'dia_del_año_cos', 'año', 'mes', 'mes_sin', 'mes_cos']]"
   ]
  },
  {
   "cell_type": "code",
   "execution_count": 30,
   "id": "7c3bf54e",
   "metadata": {},
   "outputs": [
    {
     "name": "stdout",
     "output_type": "stream",
     "text": [
      "Fold 1 -> RMSE: 0.6101, R²: 0.9245\n",
      "Fold 2 -> RMSE: 0.5232, R²: 0.9444\n",
      "Fold 3 -> RMSE: 0.5279, R²: 0.9430\n",
      "Fold 4 -> RMSE: 0.5254, R²: 0.9396\n",
      "Fold 5 -> RMSE: 0.4590, R²: 0.9478\n",
      "RMSE CV Medio (Ridge): 0.5291 | R² CV Medio (Ridge): 0.9399\n"
     ]
    },
    {
     "name": "stderr",
     "output_type": "stream",
     "text": [
      "Successfully registered model 'baseline-ridge-reducido'.\n",
      "Created version '1' of model 'baseline-ridge-reducido'.\n"
     ]
    }
   ],
   "source": [
    "with mlflow.start_run(run_name=\"Baseline_Ridge - Reducido\"):\n",
    "    ridge_model = Ridge(random_state=42)\n",
    "    \n",
    "    tscv = TimeSeriesSplit(n_splits=5)\n",
    "    \n",
    "    rmse_scores = []\n",
    "    r2_scores = []\n",
    "\n",
    "    for fold, (train_index, val_index) in enumerate(tscv.split(X_train)):\n",
    "        X_train_fold, X_val_fold = X_prueba.iloc[train_index], X_prueba.iloc[val_index]\n",
    "        y_train_fold, y_val_fold = y_train.iloc[train_index], y_train.iloc[val_index]\n",
    "\n",
    "        ridge_model.fit(X_train_fold, y_train_fold)\n",
    "        predictions = ridge_model.predict(X_val_fold)\n",
    "        \n",
    "        rmse_scores.append(np.sqrt(mean_squared_error(y_val_fold, predictions)))\n",
    "        r2_scores.append(r2_score(y_val_fold, predictions))\n",
    "        \n",
    "        print(f\"Fold {fold+1} -> RMSE: {rmse_scores[-1]:.4f}, R²: {r2_scores[-1]:.4f}\")\n",
    "\n",
    "    mlflow.log_params(ridge_model.get_params())\n",
    "    mlflow.log_param(\"cv_method\", \"TimeSeriesSplit\")\n",
    "    mlflow.log_param(\"n_splits\", tscv.n_splits)\n",
    "    mlflow.log_metric(\"rmse_cv_mean\", np.mean(rmse_scores))\n",
    "    mlflow.log_metric(\"rmse_cv_std\", np.std(rmse_scores))\n",
    "    mlflow.log_metric(\"r2_cv_mean\", np.mean(r2_scores))\n",
    "    mlflow.log_metric(\"r2_cv_std\", np.std(r2_scores))\n",
    "    mlflow.sklearn.log_model(sk_model=ridge_model, name=\"ridge_cv_model-df-reducido\", input_example=X_prueba, registered_model_name=\"baseline-ridge-reducido\")\n",
    "    \n",
    "    print(f\"RMSE CV Medio (Ridge): {round(np.mean(rmse_scores),4)} | R² CV Medio (Ridge): {round(np.mean(r2_scores),4)}\")\n",
    "\n",
    "    mlflow.end_run()"
   ]
  },
  {
   "cell_type": "code",
   "execution_count": 9,
   "id": "f5c31c60",
   "metadata": {},
   "outputs": [
    {
     "name": "stdout",
     "output_type": "stream",
     "text": [
      "Fold 1 -> RMSE: 0.2750, R²: 0.9847\n",
      "Fold 2 -> RMSE: 0.2708, R²: 0.9851\n",
      "Fold 3 -> RMSE: 0.2948, R²: 0.9822\n",
      "Fold 4 -> RMSE: 0.3453, R²: 0.9739\n",
      "Fold 5 -> RMSE: 0.3021, R²: 0.9774\n"
     ]
    },
    {
     "name": "stderr",
     "output_type": "stream",
     "text": [
      "/home/lola/Escritorio/TFM-Sistema-Riego-Agricola/.env/lib/python3.11/site-packages/xgboost/sklearn.py:1115: UserWarning: [16:53:07] WARNING: /workspace/src/c_api/c_api.cc:1575: Saving model in the UBJSON format as default.  You can use a file extension: `json` or `ubj` to choose between formats.\n",
      "  self.get_booster().save_model(fname)\n",
      "/home/lola/Escritorio/TFM-Sistema-Riego-Agricola/.env/lib/python3.11/site-packages/xgboost/sklearn.py:1124: UserWarning: [16:53:11] WARNING: /workspace/src/c_api/c_api.cc:1511: Unknown file format: `xgb`. Using UBJSON (`ubj`) as a guess.\n",
      "  self.get_booster().load_model(fname)\n"
     ]
    },
    {
     "name": "stdout",
     "output_type": "stream",
     "text": [
      "RMSE CV Medio (XGBoost): 0.2976 | R² CV Medio (XGBoost): 0.9807\n"
     ]
    },
    {
     "name": "stderr",
     "output_type": "stream",
     "text": [
      "Successfully registered model 'xgboost-reducido'.\n",
      "Created version '1' of model 'xgboost-reducido'.\n"
     ]
    }
   ],
   "source": [
    "with mlflow.start_run(run_name=\"XGBoost_default_param_dataset_reducio\"):\n",
    "    xgb_model = xgboost.XGBRegressor(random_state=42)\n",
    "    \n",
    "    tscv = TimeSeriesSplit(n_splits=5)\n",
    "    \n",
    "    rmse_scores = []\n",
    "    r2_scores = []\n",
    "\n",
    "    for fold, (train_index, val_index) in enumerate(tscv.split(X_train)):\n",
    "        X_train_fold, X_val_fold = X_prueba.iloc[train_index], X_prueba.iloc[val_index]\n",
    "        y_train_fold, y_val_fold = y_train.iloc[train_index], y_train.iloc[val_index]\n",
    "\n",
    "        xgb_model.fit(X_train_fold, y_train_fold)\n",
    "        predictions = xgb_model.predict(X_val_fold)\n",
    "        \n",
    "        rmse_scores.append(np.sqrt(mean_squared_error(y_val_fold, predictions)))\n",
    "        r2_scores.append(r2_score(y_val_fold, predictions))\n",
    "        \n",
    "        print(f\"Fold {fold+1} -> RMSE: {rmse_scores[-1]:.4f}, R²: {r2_scores[-1]:.4f}\")\n",
    "\n",
    "    mlflow.log_params(xgb_model.get_params())\n",
    "    mlflow.log_param(\"cv_method\", \"TimeSeriesSplit\")\n",
    "    mlflow.log_param(\"n_splits\", tscv.n_splits)\n",
    "    mlflow.log_metric(\"rmse_cv_mean\", np.mean(rmse_scores))\n",
    "    mlflow.log_metric(\"rmse_cv_std\", np.std(rmse_scores))\n",
    "    mlflow.log_metric(\"r2_cv_mean\", np.mean(r2_scores))\n",
    "    mlflow.log_metric(\"r2_cv_std\", np.std(r2_scores))\n",
    "    mlflow.xgboost.log_model(xgb_model=xgb_model, name=\"xgboost_cv_model-df-reducido\", input_example=X_prueba, registered_model_name=\"xgboost-reducido\")\n",
    "    \n",
    "    print(f\"RMSE CV Medio (XGBoost): {round(np.mean(rmse_scores),4)} | R² CV Medio (XGBoost): {round(np.mean(r2_scores),4)}\")\n",
    "    \n",
    "    mlflow.end_run()"
   ]
  },
  {
   "cell_type": "code",
   "execution_count": 10,
   "id": "42606bca",
   "metadata": {},
   "outputs": [
    {
     "name": "stdout",
     "output_type": "stream",
     "text": [
      "Fitting 5 folds for each of 25 candidates, totalling 125 fits\n",
      "Mejor modelo: XGBRegressor(base_score=None, booster=None, callbacks=None,\n",
      "             colsample_bylevel=None, colsample_bynode=None,\n",
      "             colsample_bytree=0.8, device=None, early_stopping_rounds=None,\n",
      "             enable_categorical=False, eval_metric=None, feature_types=None,\n",
      "             feature_weights=None, gamma=None, grow_policy=None,\n",
      "             importance_type=None, interaction_constraints=None,\n",
      "             learning_rate=0.01, max_bin=None, max_cat_threshold=None,\n",
      "             max_cat_to_onehot=None, max_delta_step=None, max_depth=9,\n",
      "             max_leaves=None, min_child_weight=None, missing=nan,\n",
      "             monotone_constraints=None, multi_strategy=None, n_estimators=500,\n",
      "             n_jobs=-1, num_parallel_tree=None, ...)\n",
      "Parámetros: {'subsample': 0.7, 'n_estimators': 500, 'max_depth': 9, 'learning_rate': 0.01, 'colsample_bytree': 0.8}\n",
      "RMSE: 0.2750\n"
     ]
    },
    {
     "name": "stderr",
     "output_type": "stream",
     "text": [
      "/home/lola/Escritorio/TFM-Sistema-Riego-Agricola/.env/lib/python3.11/site-packages/xgboost/sklearn.py:1115: UserWarning: [16:55:05] WARNING: /workspace/src/c_api/c_api.cc:1575: Saving model in the UBJSON format as default.  You can use a file extension: `json` or `ubj` to choose between formats.\n",
      "  self.get_booster().save_model(fname)\n",
      "/home/lola/Escritorio/TFM-Sistema-Riego-Agricola/.env/lib/python3.11/site-packages/xgboost/sklearn.py:1124: UserWarning: [16:55:09] WARNING: /workspace/src/c_api/c_api.cc:1511: Unknown file format: `xgb`. Using UBJSON (`ubj`) as a guess.\n",
      "  self.get_booster().load_model(fname)\n",
      "Successfully registered model 'xgboost-tunning-reducido'.\n",
      "Created version '1' of model 'xgboost-tunning-reducido'.\n"
     ]
    }
   ],
   "source": [
    "with mlflow.start_run(run_name=\"XGBoost_RandomSearch_Tuning_dataset_reducido\"):\n",
    "    params_xgboost = {\n",
    "    'n_estimators': [100, 300, 500, 700],\n",
    "    'learning_rate': [0.01, 0.05, 0.1, 0.2],\n",
    "    'max_depth': [3, 5, 7, 9],\n",
    "    'subsample': [0.7, 0.8, 0.9, 1.0],\n",
    "    'colsample_bytree': [0.7, 0.8, 0.9, 1.0]\n",
    "    }\n",
    "    \n",
    "    tscv = TimeSeriesSplit(n_splits=5)\n",
    "    xgboost_estimator = xgboost.XGBRegressor(random_state=42, objective='reg:squarederror', n_jobs=-1)\n",
    "    random_search = RandomizedSearchCV(\n",
    "            estimator=xgboost_estimator,\n",
    "            param_distributions=params_xgboost,\n",
    "            n_iter=25, \n",
    "            cv=tscv,\n",
    "            scoring='neg_root_mean_squared_error',\n",
    "            n_jobs=-1,\n",
    "            random_state=42,\n",
    "            verbose=1\n",
    "        )\n",
    "    \n",
    "    random_search.fit(X_prueba, y_train)\n",
    "    best_model = random_search.best_estimator_\n",
    "    best_score = -random_search.best_score_\n",
    "    best_params = random_search.best_params_\n",
    "    print(f'Mejor modelo: {best_model}')\n",
    "    print(f'Parámetros: {best_params}')\n",
    "    print(f'RMSE: {best_score:.4f}')\n",
    "    \n",
    "\n",
    "    mlflow.log_param(\"cv_method\", \"TimeSeriesSplit\")\n",
    "    mlflow.log_param(\"n_splits_cv\", tscv.n_splits)\n",
    "    mlflow.log_param(\"n_iter_random_search\", random_search.n_iter)\n",
    "    mlflow.log_param(\"scoring_metric\", random_search.scoring)\n",
    "    mlflow.log_metric(\"best_rmse_cv_xgboost\", best_score)\n",
    "    mlflow.xgboost.log_model(xgb_model=best_model, name=\"xgboost_tunning-df-reducido\", input_example=X_prueba, registered_model_name=\"xgboost-tunning-reducido\")\n",
    "\n",
    "    mlflow.end_run()"
   ]
  },
  {
   "cell_type": "code",
   "execution_count": 17,
   "id": "9dc11b33",
   "metadata": {},
   "outputs": [
    {
     "name": "stdout",
     "output_type": "stream",
     "text": [
      "RMSE Final en Test Set (XGBoost best param): 0.2791\n",
      "R² Final en Test Set (XGBoost best param):   0.9833\n"
     ]
    },
    {
     "name": "stderr",
     "output_type": "stream",
     "text": [
      "/home/lola/Escritorio/TFM-Sistema-Riego-Agricola/.env/lib/python3.11/site-packages/xgboost/sklearn.py:1115: UserWarning: [22:58:43] WARNING: /workspace/src/c_api/c_api.cc:1575: Saving model in the UBJSON format as default.  You can use a file extension: `json` or `ubj` to choose between formats.\n",
      "  self.get_booster().save_model(fname)\n",
      "/home/lola/Escritorio/TFM-Sistema-Riego-Agricola/.env/lib/python3.11/site-packages/xgboost/sklearn.py:1124: UserWarning: [22:58:47] WARNING: /workspace/src/c_api/c_api.cc:1511: Unknown file format: `xgb`. Using UBJSON (`ubj`) as a guess.\n",
      "  self.get_booster().load_model(fname)\n",
      "Registered model 'xgboost-best-model-val-reducido' already exists. Creating a new version of this model...\n",
      "Created version '2' of model 'xgboost-best-model-val-reducido'.\n"
     ]
    }
   ],
   "source": [
    "with mlflow.start_run(run_name=\"Best XGGBoost - Final_Evaluation - dataset reducido\"): \n",
    "\n",
    "    best_model.fit(X_prueba, y_train) \n",
    "\n",
    "    x_test_prueba = X_test[['tempMax', 'tempMin', 'humedadMax',\n",
    "       'humedadMin', 'velViento', 'altitud', 'lon',\n",
    "       'lat', 'dia_del_año_sin', 'dia_del_año_cos', 'año', 'mes', 'mes_sin',\n",
    "       'mes_cos']]\n",
    "    predictions_final_test = best_model.predict(x_test_prueba)\n",
    "\n",
    "\n",
    "    rmse_final_test = np.sqrt(mean_squared_error(y_test, predictions_final_test))\n",
    "    r2_final_test = r2_score(y_test, predictions_final_test)\n",
    "\n",
    "    print(f\"RMSE Final en Test Set (XGBoost best param): {rmse_final_test:.4f}\")\n",
    "    print(f\"R² Final en Test Set (XGBoost best param):   {r2_final_test:.4f}\")\n",
    "\n",
    "    dump(best_model, 'XGBoost_modelo_final.joblib')\n",
    "    mlflow.log_params(best_params)\n",
    "    mlflow.log_metric(\"rmse_final_test\", rmse_final_test) \n",
    "    mlflow.log_metric(\"r2_final_test\", r2_final_test) \n",
    "\n",
    "    \n",
    "    mlflow.xgboost.log_model(xgb_model=best_model, name=\"final_production_model-df-reducido\", input_example=X_prueba, registered_model_name=\"xgboost-best-model-val-reducido\")\n",
    "\n",
    "    mlflow.end_run()"
   ]
  },
  {
   "cell_type": "code",
   "execution_count": 13,
   "id": "7f3124d7",
   "metadata": {},
   "outputs": [],
   "source": [
    "importancias = best_model.feature_importances_\n",
    "df_importancias = pd.DataFrame({\n",
    "    'Variable': X_prueba.columns,\n",
    "    'Importancia': importancias\n",
    "})"
   ]
  },
  {
   "cell_type": "code",
   "execution_count": 14,
   "id": "89d75fad",
   "metadata": {},
   "outputs": [
    {
     "data": {
      "text/html": [
       "<div>\n",
       "<style scoped>\n",
       "    .dataframe tbody tr th:only-of-type {\n",
       "        vertical-align: middle;\n",
       "    }\n",
       "\n",
       "    .dataframe tbody tr th {\n",
       "        vertical-align: top;\n",
       "    }\n",
       "\n",
       "    .dataframe thead th {\n",
       "        text-align: right;\n",
       "    }\n",
       "</style>\n",
       "<table border=\"1\" class=\"dataframe\">\n",
       "  <thead>\n",
       "    <tr style=\"text-align: right;\">\n",
       "      <th></th>\n",
       "      <th>Variable</th>\n",
       "      <th>Importancia</th>\n",
       "    </tr>\n",
       "  </thead>\n",
       "  <tbody>\n",
       "    <tr>\n",
       "      <th>9</th>\n",
       "      <td>dia_del_año_cos</td>\n",
       "      <td>0.506147</td>\n",
       "    </tr>\n",
       "    <tr>\n",
       "      <th>13</th>\n",
       "      <td>mes_cos</td>\n",
       "      <td>0.250238</td>\n",
       "    </tr>\n",
       "    <tr>\n",
       "      <th>0</th>\n",
       "      <td>tempMax</td>\n",
       "      <td>0.090614</td>\n",
       "    </tr>\n",
       "    <tr>\n",
       "      <th>11</th>\n",
       "      <td>mes</td>\n",
       "      <td>0.047661</td>\n",
       "    </tr>\n",
       "    <tr>\n",
       "      <th>3</th>\n",
       "      <td>humedadMin</td>\n",
       "      <td>0.028509</td>\n",
       "    </tr>\n",
       "    <tr>\n",
       "      <th>4</th>\n",
       "      <td>velViento</td>\n",
       "      <td>0.025691</td>\n",
       "    </tr>\n",
       "    <tr>\n",
       "      <th>12</th>\n",
       "      <td>mes_sin</td>\n",
       "      <td>0.020594</td>\n",
       "    </tr>\n",
       "    <tr>\n",
       "      <th>8</th>\n",
       "      <td>dia_del_año_sin</td>\n",
       "      <td>0.008170</td>\n",
       "    </tr>\n",
       "    <tr>\n",
       "      <th>2</th>\n",
       "      <td>humedadMax</td>\n",
       "      <td>0.008137</td>\n",
       "    </tr>\n",
       "    <tr>\n",
       "      <th>1</th>\n",
       "      <td>tempMin</td>\n",
       "      <td>0.007270</td>\n",
       "    </tr>\n",
       "    <tr>\n",
       "      <th>7</th>\n",
       "      <td>lat</td>\n",
       "      <td>0.002433</td>\n",
       "    </tr>\n",
       "    <tr>\n",
       "      <th>5</th>\n",
       "      <td>altitud</td>\n",
       "      <td>0.002050</td>\n",
       "    </tr>\n",
       "    <tr>\n",
       "      <th>6</th>\n",
       "      <td>lon</td>\n",
       "      <td>0.001639</td>\n",
       "    </tr>\n",
       "    <tr>\n",
       "      <th>10</th>\n",
       "      <td>año</td>\n",
       "      <td>0.000847</td>\n",
       "    </tr>\n",
       "  </tbody>\n",
       "</table>\n",
       "</div>"
      ],
      "text/plain": [
       "           Variable  Importancia\n",
       "9   dia_del_año_cos     0.506147\n",
       "13          mes_cos     0.250238\n",
       "0           tempMax     0.090614\n",
       "11              mes     0.047661\n",
       "3        humedadMin     0.028509\n",
       "4         velViento     0.025691\n",
       "12          mes_sin     0.020594\n",
       "8   dia_del_año_sin     0.008170\n",
       "2        humedadMax     0.008137\n",
       "1           tempMin     0.007270\n",
       "7               lat     0.002433\n",
       "5           altitud     0.002050\n",
       "6               lon     0.001639\n",
       "10              año     0.000847"
      ]
     },
     "execution_count": 14,
     "metadata": {},
     "output_type": "execute_result"
    }
   ],
   "source": [
    "df_importancias = df_importancias.sort_values('Importancia', ascending=False)\n",
    "df_importancias"
   ]
  },
  {
   "cell_type": "code",
   "execution_count": 15,
   "id": "0fe2149f",
   "metadata": {},
   "outputs": [
    {
     "data": {
      "image/png": "[encoded data removed]",
      "text/plain": [
       "<Figure size 1000x800 with 1 Axes>"
      ]
     },
     "metadata": {},
     "output_type": "display_data"
    }
   ],
   "source": [
    "plt.figure(figsize=(10, 8))\n",
    "sns.barplot(x='Importancia', y='Variable', data=df_importancias)\n",
    "plt.title('Importancia de las Variables en el Modelo XGBoost')\n",
    "plt.show()"
   ]
  },
  {
   "cell_type": "code",
   "execution_count": null,
   "id": "e9f4c3c4",
   "metadata": {},
   "outputs": [
    {
     "data": {
      "text/plain": [
       "['XGBoost_modelo_final.joblib']"
      ]
     },
     "execution_count": 16,
     "metadata": {},
     "output_type": "execute_result"
    }
   ],
   "source": []
  }
 ],
 "metadata": {
  "kernelspec": {
   "display_name": "sist_riego",
   "language": "python",
   "name": "python3"
  },
  "language_info": {
   "codemirror_mode": {
    "name": "ipython",
    "version": 3
   },
   "file_extension": ".py",
   "mimetype": "text/x-python",
   "name": "python",
   "nbconvert_exporter": "python",
   "pygments_lexer": "ipython3",
   "version": "3.11.2"
  }
 },
 "nbformat": 4,
 "nbformat_minor": 5
}
