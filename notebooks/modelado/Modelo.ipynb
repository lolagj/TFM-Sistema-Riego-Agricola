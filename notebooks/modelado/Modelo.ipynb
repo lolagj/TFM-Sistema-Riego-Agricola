{
 "cells": [
  {
   "cell_type": "markdown",
   "id": "68b00531",
   "metadata": {},
   "source": [
    "# Modelo de Machine Learning"
   ]
  },
  {
   "cell_type": "markdown",
   "id": "a8ab46dc",
   "metadata": {},
   "source": [
    "## Importación de librerías"
   ]
  },
  {
   "cell_type": "code",
   "execution_count": 1,
   "id": "ba8d1ea7",
   "metadata": {},
   "outputs": [],
   "source": [
    "import pandas as pd\n",
    "import numpy as np\n",
    "import os\n",
    "\n",
    "import mlflow\n",
    "from sklearn.model_selection import TimeSeriesSplit, RandomizedSearchCV\n",
    "\n",
    "#Modelos\n",
    "from sklearn.linear_model import Ridge\n",
    "import xgboost\n",
    "from sklearn.svm import SVR\n",
    "from sklearn.ensemble import RandomForestRegressor\n",
    "\n",
    "from sklearn.metrics import mean_squared_error, r2_score\n",
    "np.random.seed(42)"
   ]
  },
  {
   "cell_type": "markdown",
   "id": "27fbb6f7",
   "metadata": {},
   "source": [
    "## Carga de datasets"
   ]
  },
  {
   "cell_type": "code",
   "execution_count": 2,
   "id": "52a1079c",
   "metadata": {},
   "outputs": [
    {
     "data": {
      "text/html": [
       "<div>\n",
       "<style scoped>\n",
       "    .dataframe tbody tr th:only-of-type {\n",
       "        vertical-align: middle;\n",
       "    }\n",
       "\n",
       "    .dataframe tbody tr th {\n",
       "        vertical-align: top;\n",
       "    }\n",
       "\n",
       "    .dataframe thead th {\n",
       "        text-align: right;\n",
       "    }\n",
       "</style>\n",
       "<table border=\"1\" class=\"dataframe\">\n",
       "  <thead>\n",
       "    <tr style=\"text-align: right;\">\n",
       "      <th></th>\n",
       "      <th>tempMedia</th>\n",
       "      <th>tempMax</th>\n",
       "      <th>tempMin</th>\n",
       "      <th>humedadMedia</th>\n",
       "      <th>humedadMax</th>\n",
       "      <th>humedadMin</th>\n",
       "      <th>velViento</th>\n",
       "      <th>dirViento</th>\n",
       "      <th>velVientoMax</th>\n",
       "      <th>dirVientoVelMax</th>\n",
       "      <th>...</th>\n",
       "      <th>precipitacion</th>\n",
       "      <th>altitud</th>\n",
       "      <th>lon</th>\n",
       "      <th>lat</th>\n",
       "      <th>dia_del_año_sin</th>\n",
       "      <th>dia_del_año_cos</th>\n",
       "      <th>año</th>\n",
       "      <th>mes</th>\n",
       "      <th>mes_sin</th>\n",
       "      <th>mes_cos</th>\n",
       "    </tr>\n",
       "  </thead>\n",
       "  <tbody>\n",
       "    <tr>\n",
       "      <th>0</th>\n",
       "      <td>-1.149191</td>\n",
       "      <td>-0.644914</td>\n",
       "      <td>-1.635524</td>\n",
       "      <td>0.189294</td>\n",
       "      <td>0.081925</td>\n",
       "      <td>0.030319</td>\n",
       "      <td>-0.423513</td>\n",
       "      <td>-1.502747</td>\n",
       "      <td>-0.453085</td>\n",
       "      <td>1.508065</td>\n",
       "      <td>...</td>\n",
       "      <td>-0.249695</td>\n",
       "      <td>-0.821274</td>\n",
       "      <td>-0.961184</td>\n",
       "      <td>-1.212781</td>\n",
       "      <td>0.025922</td>\n",
       "      <td>1.417772</td>\n",
       "      <td>-1.705504</td>\n",
       "      <td>-1.607476</td>\n",
       "      <td>0.717969</td>\n",
       "      <td>1.22936</td>\n",
       "    </tr>\n",
       "    <tr>\n",
       "      <th>1</th>\n",
       "      <td>-1.156422</td>\n",
       "      <td>-1.448554</td>\n",
       "      <td>-0.807960</td>\n",
       "      <td>1.172613</td>\n",
       "      <td>0.417881</td>\n",
       "      <td>2.123171</td>\n",
       "      <td>-0.296844</td>\n",
       "      <td>-1.517465</td>\n",
       "      <td>-0.838102</td>\n",
       "      <td>1.459742</td>\n",
       "      <td>...</td>\n",
       "      <td>-0.249695</td>\n",
       "      <td>-0.821274</td>\n",
       "      <td>-0.961184</td>\n",
       "      <td>-1.212781</td>\n",
       "      <td>0.050257</td>\n",
       "      <td>1.417144</td>\n",
       "      <td>-1.705504</td>\n",
       "      <td>-1.607476</td>\n",
       "      <td>0.717969</td>\n",
       "      <td>1.22936</td>\n",
       "    </tr>\n",
       "    <tr>\n",
       "      <th>2</th>\n",
       "      <td>-1.277910</td>\n",
       "      <td>-0.979660</td>\n",
       "      <td>-1.227846</td>\n",
       "      <td>0.940778</td>\n",
       "      <td>0.498219</td>\n",
       "      <td>0.747554</td>\n",
       "      <td>-0.095188</td>\n",
       "      <td>-1.334265</td>\n",
       "      <td>-0.382228</td>\n",
       "      <td>1.299015</td>\n",
       "      <td>...</td>\n",
       "      <td>-0.211286</td>\n",
       "      <td>-0.821274</td>\n",
       "      <td>-0.961184</td>\n",
       "      <td>-1.212781</td>\n",
       "      <td>0.074578</td>\n",
       "      <td>1.416096</td>\n",
       "      <td>-1.705504</td>\n",
       "      <td>-1.607476</td>\n",
       "      <td>0.717969</td>\n",
       "      <td>1.22936</td>\n",
       "    </tr>\n",
       "    <tr>\n",
       "      <th>3</th>\n",
       "      <td>-0.935141</td>\n",
       "      <td>-0.685034</td>\n",
       "      <td>-1.161667</td>\n",
       "      <td>0.263933</td>\n",
       "      <td>0.081925</td>\n",
       "      <td>0.160125</td>\n",
       "      <td>0.169296</td>\n",
       "      <td>-0.948927</td>\n",
       "      <td>0.687454</td>\n",
       "      <td>-0.818792</td>\n",
       "      <td>...</td>\n",
       "      <td>-0.249695</td>\n",
       "      <td>-0.821274</td>\n",
       "      <td>-0.961184</td>\n",
       "      <td>-1.212781</td>\n",
       "      <td>0.098877</td>\n",
       "      <td>1.414630</td>\n",
       "      <td>-1.705504</td>\n",
       "      <td>-1.607476</td>\n",
       "      <td>0.717969</td>\n",
       "      <td>1.22936</td>\n",
       "    </tr>\n",
       "    <tr>\n",
       "      <th>4</th>\n",
       "      <td>-1.040719</td>\n",
       "      <td>-0.745213</td>\n",
       "      <td>-1.291134</td>\n",
       "      <td>0.206823</td>\n",
       "      <td>0.103835</td>\n",
       "      <td>0.218978</td>\n",
       "      <td>-0.504581</td>\n",
       "      <td>-1.054936</td>\n",
       "      <td>-0.666509</td>\n",
       "      <td>-0.513097</td>\n",
       "      <td>...</td>\n",
       "      <td>-0.249695</td>\n",
       "      <td>-0.821274</td>\n",
       "      <td>-0.961184</td>\n",
       "      <td>-1.212781</td>\n",
       "      <td>0.123147</td>\n",
       "      <td>1.412746</td>\n",
       "      <td>-1.705504</td>\n",
       "      <td>-1.607476</td>\n",
       "      <td>0.717969</td>\n",
       "      <td>1.22936</td>\n",
       "    </tr>\n",
       "  </tbody>\n",
       "</table>\n",
       "<p>5 rows × 21 columns</p>\n",
       "</div>"
      ],
      "text/plain": [
       "   tempMedia   tempMax   tempMin  humedadMedia  humedadMax  humedadMin  \\\n",
       "0  -1.149191 -0.644914 -1.635524      0.189294    0.081925    0.030319   \n",
       "1  -1.156422 -1.448554 -0.807960      1.172613    0.417881    2.123171   \n",
       "2  -1.277910 -0.979660 -1.227846      0.940778    0.498219    0.747554   \n",
       "3  -0.935141 -0.685034 -1.161667      0.263933    0.081925    0.160125   \n",
       "4  -1.040719 -0.745213 -1.291134      0.206823    0.103835    0.218978   \n",
       "\n",
       "   velViento  dirViento  velVientoMax  dirVientoVelMax  ...  precipitacion  \\\n",
       "0  -0.423513  -1.502747     -0.453085         1.508065  ...      -0.249695   \n",
       "1  -0.296844  -1.517465     -0.838102         1.459742  ...      -0.249695   \n",
       "2  -0.095188  -1.334265     -0.382228         1.299015  ...      -0.211286   \n",
       "3   0.169296  -0.948927      0.687454        -0.818792  ...      -0.249695   \n",
       "4  -0.504581  -1.054936     -0.666509        -0.513097  ...      -0.249695   \n",
       "\n",
       "    altitud       lon       lat  dia_del_año_sin  dia_del_año_cos       año  \\\n",
       "0 -0.821274 -0.961184 -1.212781         0.025922         1.417772 -1.705504   \n",
       "1 -0.821274 -0.961184 -1.212781         0.050257         1.417144 -1.705504   \n",
       "2 -0.821274 -0.961184 -1.212781         0.074578         1.416096 -1.705504   \n",
       "3 -0.821274 -0.961184 -1.212781         0.098877         1.414630 -1.705504   \n",
       "4 -0.821274 -0.961184 -1.212781         0.123147         1.412746 -1.705504   \n",
       "\n",
       "        mes   mes_sin  mes_cos  \n",
       "0 -1.607476  0.717969  1.22936  \n",
       "1 -1.607476  0.717969  1.22936  \n",
       "2 -1.607476  0.717969  1.22936  \n",
       "3 -1.607476  0.717969  1.22936  \n",
       "4 -1.607476  0.717969  1.22936  \n",
       "\n",
       "[5 rows x 21 columns]"
      ]
     },
     "execution_count": 2,
     "metadata": {},
     "output_type": "execute_result"
    }
   ],
   "source": [
    "X_train = pd.read_csv(\"../../data/final/X_train_final.csv\", sep =\";\")\n",
    "X_train.head()"
   ]
  },
  {
   "cell_type": "code",
   "execution_count": 3,
   "id": "a14ec5ca",
   "metadata": {},
   "outputs": [
    {
     "data": {
      "text/html": [
       "<div>\n",
       "<style scoped>\n",
       "    .dataframe tbody tr th:only-of-type {\n",
       "        vertical-align: middle;\n",
       "    }\n",
       "\n",
       "    .dataframe tbody tr th {\n",
       "        vertical-align: top;\n",
       "    }\n",
       "\n",
       "    .dataframe thead th {\n",
       "        text-align: right;\n",
       "    }\n",
       "</style>\n",
       "<table border=\"1\" class=\"dataframe\">\n",
       "  <thead>\n",
       "    <tr style=\"text-align: right;\">\n",
       "      <th></th>\n",
       "      <th>tempMedia</th>\n",
       "      <th>tempMax</th>\n",
       "      <th>tempMin</th>\n",
       "      <th>humedadMedia</th>\n",
       "      <th>humedadMax</th>\n",
       "      <th>humedadMin</th>\n",
       "      <th>velViento</th>\n",
       "      <th>dirViento</th>\n",
       "      <th>velVientoMax</th>\n",
       "      <th>dirVientoVelMax</th>\n",
       "      <th>...</th>\n",
       "      <th>precipitacion</th>\n",
       "      <th>altitud</th>\n",
       "      <th>lon</th>\n",
       "      <th>lat</th>\n",
       "      <th>dia_del_año_sin</th>\n",
       "      <th>dia_del_año_cos</th>\n",
       "      <th>año</th>\n",
       "      <th>mes</th>\n",
       "      <th>mes_sin</th>\n",
       "      <th>mes_cos</th>\n",
       "    </tr>\n",
       "  </thead>\n",
       "  <tbody>\n",
       "    <tr>\n",
       "      <th>0</th>\n",
       "      <td>-1.198364</td>\n",
       "      <td>-1.299361</td>\n",
       "      <td>-1.231380</td>\n",
       "      <td>0.618471</td>\n",
       "      <td>0.366758</td>\n",
       "      <td>0.742604</td>\n",
       "      <td>0.614156</td>\n",
       "      <td>1.050836</td>\n",
       "      <td>0.199566</td>\n",
       "      <td>1.103622</td>\n",
       "      <td>...</td>\n",
       "      <td>0.326445</td>\n",
       "      <td>-0.821274</td>\n",
       "      <td>-0.961184</td>\n",
       "      <td>-1.212781</td>\n",
       "      <td>0.025922</td>\n",
       "      <td>1.417772</td>\n",
       "      <td>1.792456</td>\n",
       "      <td>-1.607476</td>\n",
       "      <td>0.717969</td>\n",
       "      <td>1.22936</td>\n",
       "    </tr>\n",
       "    <tr>\n",
       "      <th>1</th>\n",
       "      <td>-1.810143</td>\n",
       "      <td>-1.518763</td>\n",
       "      <td>-1.920642</td>\n",
       "      <td>0.748525</td>\n",
       "      <td>0.279117</td>\n",
       "      <td>0.438989</td>\n",
       "      <td>-0.756905</td>\n",
       "      <td>1.551034</td>\n",
       "      <td>-1.005427</td>\n",
       "      <td>1.573196</td>\n",
       "      <td>...</td>\n",
       "      <td>-0.211286</td>\n",
       "      <td>-0.821274</td>\n",
       "      <td>-0.961184</td>\n",
       "      <td>-1.212781</td>\n",
       "      <td>0.050257</td>\n",
       "      <td>1.417144</td>\n",
       "      <td>1.792456</td>\n",
       "      <td>-1.607476</td>\n",
       "      <td>0.717969</td>\n",
       "      <td>1.22936</td>\n",
       "    </tr>\n",
       "    <tr>\n",
       "      <th>2</th>\n",
       "      <td>-1.897498</td>\n",
       "      <td>-1.451062</td>\n",
       "      <td>-2.146487</td>\n",
       "      <td>0.403600</td>\n",
       "      <td>0.023498</td>\n",
       "      <td>-0.194642</td>\n",
       "      <td>-0.859253</td>\n",
       "      <td>-0.823363</td>\n",
       "      <td>-0.992622</td>\n",
       "      <td>1.134087</td>\n",
       "      <td>...</td>\n",
       "      <td>-0.211286</td>\n",
       "      <td>-0.821274</td>\n",
       "      <td>-0.961184</td>\n",
       "      <td>-1.212781</td>\n",
       "      <td>0.074578</td>\n",
       "      <td>1.416096</td>\n",
       "      <td>1.792456</td>\n",
       "      <td>-1.607476</td>\n",
       "      <td>0.717969</td>\n",
       "      <td>1.22936</td>\n",
       "    </tr>\n",
       "    <tr>\n",
       "      <th>3</th>\n",
       "      <td>-1.717725</td>\n",
       "      <td>-1.400913</td>\n",
       "      <td>-1.984412</td>\n",
       "      <td>0.488417</td>\n",
       "      <td>0.030801</td>\n",
       "      <td>0.372986</td>\n",
       "      <td>-0.668743</td>\n",
       "      <td>-0.946869</td>\n",
       "      <td>-0.599494</td>\n",
       "      <td>1.307419</td>\n",
       "      <td>...</td>\n",
       "      <td>-0.211286</td>\n",
       "      <td>-0.821274</td>\n",
       "      <td>-0.961184</td>\n",
       "      <td>-1.212781</td>\n",
       "      <td>0.098877</td>\n",
       "      <td>1.414630</td>\n",
       "      <td>1.792456</td>\n",
       "      <td>-1.607476</td>\n",
       "      <td>0.717969</td>\n",
       "      <td>1.22936</td>\n",
       "    </tr>\n",
       "    <tr>\n",
       "      <th>4</th>\n",
       "      <td>-1.345885</td>\n",
       "      <td>-1.333211</td>\n",
       "      <td>-1.307037</td>\n",
       "      <td>0.505381</td>\n",
       "      <td>-0.005716</td>\n",
       "      <td>0.694201</td>\n",
       "      <td>-0.519781</td>\n",
       "      <td>-1.363186</td>\n",
       "      <td>-0.863287</td>\n",
       "      <td>-1.868241</td>\n",
       "      <td>...</td>\n",
       "      <td>-0.249695</td>\n",
       "      <td>-0.821274</td>\n",
       "      <td>-0.961184</td>\n",
       "      <td>-1.212781</td>\n",
       "      <td>0.123147</td>\n",
       "      <td>1.412746</td>\n",
       "      <td>1.792456</td>\n",
       "      <td>-1.607476</td>\n",
       "      <td>0.717969</td>\n",
       "      <td>1.22936</td>\n",
       "    </tr>\n",
       "  </tbody>\n",
       "</table>\n",
       "<p>5 rows × 21 columns</p>\n",
       "</div>"
      ],
      "text/plain": [
       "   tempMedia   tempMax   tempMin  humedadMedia  humedadMax  humedadMin  \\\n",
       "0  -1.198364 -1.299361 -1.231380      0.618471    0.366758    0.742604   \n",
       "1  -1.810143 -1.518763 -1.920642      0.748525    0.279117    0.438989   \n",
       "2  -1.897498 -1.451062 -2.146487      0.403600    0.023498   -0.194642   \n",
       "3  -1.717725 -1.400913 -1.984412      0.488417    0.030801    0.372986   \n",
       "4  -1.345885 -1.333211 -1.307037      0.505381   -0.005716    0.694201   \n",
       "\n",
       "   velViento  dirViento  velVientoMax  dirVientoVelMax  ...  precipitacion  \\\n",
       "0   0.614156   1.050836      0.199566         1.103622  ...       0.326445   \n",
       "1  -0.756905   1.551034     -1.005427         1.573196  ...      -0.211286   \n",
       "2  -0.859253  -0.823363     -0.992622         1.134087  ...      -0.211286   \n",
       "3  -0.668743  -0.946869     -0.599494         1.307419  ...      -0.211286   \n",
       "4  -0.519781  -1.363186     -0.863287        -1.868241  ...      -0.249695   \n",
       "\n",
       "    altitud       lon       lat  dia_del_año_sin  dia_del_año_cos       año  \\\n",
       "0 -0.821274 -0.961184 -1.212781         0.025922         1.417772  1.792456   \n",
       "1 -0.821274 -0.961184 -1.212781         0.050257         1.417144  1.792456   \n",
       "2 -0.821274 -0.961184 -1.212781         0.074578         1.416096  1.792456   \n",
       "3 -0.821274 -0.961184 -1.212781         0.098877         1.414630  1.792456   \n",
       "4 -0.821274 -0.961184 -1.212781         0.123147         1.412746  1.792456   \n",
       "\n",
       "        mes   mes_sin  mes_cos  \n",
       "0 -1.607476  0.717969  1.22936  \n",
       "1 -1.607476  0.717969  1.22936  \n",
       "2 -1.607476  0.717969  1.22936  \n",
       "3 -1.607476  0.717969  1.22936  \n",
       "4 -1.607476  0.717969  1.22936  \n",
       "\n",
       "[5 rows x 21 columns]"
      ]
     },
     "execution_count": 3,
     "metadata": {},
     "output_type": "execute_result"
    }
   ],
   "source": [
    "X_test = pd.read_csv(\"../../data/final/X_test_final.csv\", sep =\";\")\n",
    "X_test.head()"
   ]
  },
  {
   "cell_type": "code",
   "execution_count": 4,
   "id": "fa75d5d0",
   "metadata": {},
   "outputs": [
    {
     "data": {
      "text/html": [
       "<div>\n",
       "<style scoped>\n",
       "    .dataframe tbody tr th:only-of-type {\n",
       "        vertical-align: middle;\n",
       "    }\n",
       "\n",
       "    .dataframe tbody tr th {\n",
       "        vertical-align: top;\n",
       "    }\n",
       "\n",
       "    .dataframe thead th {\n",
       "        text-align: right;\n",
       "    }\n",
       "</style>\n",
       "<table border=\"1\" class=\"dataframe\">\n",
       "  <thead>\n",
       "    <tr style=\"text-align: right;\">\n",
       "      <th></th>\n",
       "      <th>et0</th>\n",
       "    </tr>\n",
       "  </thead>\n",
       "  <tbody>\n",
       "    <tr>\n",
       "      <th>0</th>\n",
       "      <td>1.410210</td>\n",
       "    </tr>\n",
       "    <tr>\n",
       "      <th>1</th>\n",
       "      <td>0.914485</td>\n",
       "    </tr>\n",
       "    <tr>\n",
       "      <th>2</th>\n",
       "      <td>0.952486</td>\n",
       "    </tr>\n",
       "    <tr>\n",
       "      <th>3</th>\n",
       "      <td>1.015420</td>\n",
       "    </tr>\n",
       "    <tr>\n",
       "      <th>4</th>\n",
       "      <td>1.062508</td>\n",
       "    </tr>\n",
       "  </tbody>\n",
       "</table>\n",
       "</div>"
      ],
      "text/plain": [
       "        et0\n",
       "0  1.410210\n",
       "1  0.914485\n",
       "2  0.952486\n",
       "3  1.015420\n",
       "4  1.062508"
      ]
     },
     "execution_count": 4,
     "metadata": {},
     "output_type": "execute_result"
    }
   ],
   "source": [
    "y_test = pd.read_csv(\"../../data/final/y_test_final.csv\", sep =\";\")\n",
    "y_test.head()"
   ]
  },
  {
   "cell_type": "code",
   "execution_count": 5,
   "id": "b7f319a9",
   "metadata": {},
   "outputs": [
    {
     "data": {
      "text/html": [
       "<div>\n",
       "<style scoped>\n",
       "    .dataframe tbody tr th:only-of-type {\n",
       "        vertical-align: middle;\n",
       "    }\n",
       "\n",
       "    .dataframe tbody tr th {\n",
       "        vertical-align: top;\n",
       "    }\n",
       "\n",
       "    .dataframe thead th {\n",
       "        text-align: right;\n",
       "    }\n",
       "</style>\n",
       "<table border=\"1\" class=\"dataframe\">\n",
       "  <thead>\n",
       "    <tr style=\"text-align: right;\">\n",
       "      <th></th>\n",
       "      <th>et0</th>\n",
       "    </tr>\n",
       "  </thead>\n",
       "  <tbody>\n",
       "    <tr>\n",
       "      <th>0</th>\n",
       "      <td>1.495588</td>\n",
       "    </tr>\n",
       "    <tr>\n",
       "      <th>1</th>\n",
       "      <td>0.776324</td>\n",
       "    </tr>\n",
       "    <tr>\n",
       "      <th>2</th>\n",
       "      <td>1.327342</td>\n",
       "    </tr>\n",
       "    <tr>\n",
       "      <th>3</th>\n",
       "      <td>1.796508</td>\n",
       "    </tr>\n",
       "    <tr>\n",
       "      <th>4</th>\n",
       "      <td>1.371563</td>\n",
       "    </tr>\n",
       "  </tbody>\n",
       "</table>\n",
       "</div>"
      ],
      "text/plain": [
       "        et0\n",
       "0  1.495588\n",
       "1  0.776324\n",
       "2  1.327342\n",
       "3  1.796508\n",
       "4  1.371563"
      ]
     },
     "execution_count": 5,
     "metadata": {},
     "output_type": "execute_result"
    }
   ],
   "source": [
    "y_train = pd.read_csv(\"../../data/final/y_train_final.csv\", sep =\";\")\n",
    "y_train.head()"
   ]
  },
  {
   "cell_type": "markdown",
   "id": "878ead32",
   "metadata": {},
   "source": [
    "## Modelos"
   ]
  },
  {
   "cell_type": "markdown",
   "id": "327f298f",
   "metadata": {},
   "source": [
    "Comenzamos definiendo un modelo base"
   ]
  },
  {
   "cell_type": "code",
   "execution_count": 6,
   "id": "64f47d67",
   "metadata": {},
   "outputs": [],
   "source": [
    "project_root = \"/home/lola/Escritorio/TFM-Sistema-Riego-Agricola\" \n",
    "mlruns_path = os.path.join(project_root, \"mlruns\")\n",
    "tracking_uri = \"file://\" + mlruns_path \n",
    "mlflow.set_tracking_uri(tracking_uri)"
   ]
  },
  {
   "cell_type": "code",
   "execution_count": 7,
   "id": "2851cf51",
   "metadata": {},
   "outputs": [
    {
     "data": {
      "text/plain": [
       "<Experiment: artifact_location='file:///home/lola/Escritorio/TFM-Sistema-Riego-Agricola/mlruns/929868787444320189', creation_time=1760792170372, experiment_id='929868787444320189', last_update_time=1760792170372, lifecycle_stage='active', name='TFM_Riego_Pred_ET0_TimeSeries', tags={}>"
      ]
     },
     "execution_count": 7,
     "metadata": {},
     "output_type": "execute_result"
    }
   ],
   "source": [
    "mlflow.set_experiment(\"TFM_Riego_Pred_ET0_TimeSeries\")\n"
   ]
  },
  {
   "cell_type": "code",
   "execution_count": 9,
   "id": "e206a9d5",
   "metadata": {},
   "outputs": [
    {
     "name": "stderr",
     "output_type": "stream",
     "text": [
      "2025/10/22 22:00:16 WARNING mlflow.models.model: `artifact_path` is deprecated. Please use `name` instead.\n"
     ]
    },
    {
     "name": "stdout",
     "output_type": "stream",
     "text": [
      "Fold 1 -> RMSE: 0.4933, R²: 0.9506\n",
      "Fold 2 -> RMSE: 0.4415, R²: 0.9604\n",
      "Fold 3 -> RMSE: 0.4397, R²: 0.9605\n",
      "Fold 4 -> RMSE: 0.4201, R²: 0.9614\n",
      "Fold 5 -> RMSE: 0.3563, R²: 0.9685\n"
     ]
    },
    {
     "name": "stderr",
     "output_type": "stream",
     "text": [
      "\u001b[31m2025/10/22 22:00:17 WARNING mlflow.models.model: Model logged without a signature and input example. Please set `input_example` parameter when logging the model to auto infer the model signature.\u001b[0m\n"
     ]
    },
    {
     "name": "stdout",
     "output_type": "stream",
     "text": [
      "RMSE CV Medio (Ridge): 0.4302 | R² CV Medio (Ridge): 0.9603\n"
     ]
    }
   ],
   "source": [
    "with mlflow.start_run(run_name=\"Baseline_Ridge\"):\n",
    "    ridge_model = Ridge(random_state=42)\n",
    "    \n",
    "    tscv = TimeSeriesSplit(n_splits=5)\n",
    "    \n",
    "    rmse_scores = []\n",
    "    r2_scores = []\n",
    "\n",
    "    for fold, (train_index, val_index) in enumerate(tscv.split(X_train)):\n",
    "        X_train_fold, X_val_fold = X_train.iloc[train_index], X_train.iloc[val_index]\n",
    "        y_train_fold, y_val_fold = y_train.iloc[train_index], y_train.iloc[val_index]\n",
    "\n",
    "        ridge_model.fit(X_train_fold, y_train_fold)\n",
    "        predictions = ridge_model.predict(X_val_fold)\n",
    "        \n",
    "        rmse_scores.append(np.sqrt(mean_squared_error(y_val_fold, predictions)))\n",
    "        r2_scores.append(r2_score(y_val_fold, predictions))\n",
    "        \n",
    "        print(f\"Fold {fold+1} -> RMSE: {rmse_scores[-1]:.4f}, R²: {r2_scores[-1]:.4f}\")\n",
    "\n",
    "    mlflow.log_params(ridge_model.get_params())\n",
    "    mlflow.log_param(\"cv_method\", \"TimeSeriesSplit\")\n",
    "    mlflow.log_param(\"n_splits\", tscv.n_splits)\n",
    "    mlflow.log_metric(\"rmse_cv_mean\", np.mean(rmse_scores))\n",
    "    mlflow.log_metric(\"rmse_cv_std\", np.std(rmse_scores))\n",
    "    mlflow.log_metric(\"r2_cv_mean\", np.mean(r2_scores))\n",
    "    mlflow.log_metric(\"r2_cv_std\", np.std(r2_scores))\n",
    "    mlflow.sklearn.log_model(ridge_model, \"ridge_cv_model\")\n",
    "    \n",
    "    print(f\"RMSE CV Medio (Ridge): {round(np.mean(rmse_scores),4)} | R² CV Medio (Ridge): {round(np.mean(r2_scores),4)}\")\n",
    "\n",
    "    mlflow.end_run()"
   ]
  },
  {
   "cell_type": "code",
   "execution_count": 10,
   "id": "7bd10210",
   "metadata": {},
   "outputs": [
    {
     "name": "stdout",
     "output_type": "stream",
     "text": [
      "Fold 1 -> RMSE: 0.1946, R²: 0.9923\n",
      "Fold 2 -> RMSE: 0.1169, R²: 0.9972\n",
      "Fold 3 -> RMSE: 0.1123, R²: 0.9974\n",
      "Fold 4 -> RMSE: 0.1213, R²: 0.9968\n"
     ]
    },
    {
     "name": "stderr",
     "output_type": "stream",
     "text": [
      "2025/10/22 22:00:51 WARNING mlflow.models.model: `artifact_path` is deprecated. Please use `name` instead.\n"
     ]
    },
    {
     "name": "stdout",
     "output_type": "stream",
     "text": [
      "Fold 5 -> RMSE: 0.1213, R²: 0.9964\n"
     ]
    },
    {
     "name": "stderr",
     "output_type": "stream",
     "text": [
      "\u001b[31m2025/10/22 22:00:52 WARNING mlflow.models.model: Model logged without a signature and input example. Please set `input_example` parameter when logging the model to auto infer the model signature.\u001b[0m\n"
     ]
    },
    {
     "name": "stdout",
     "output_type": "stream",
     "text": [
      "RMSE CV Medio (XGBoost): 0.1333 | R² CV Medio (XGBoost): 0.996\n"
     ]
    }
   ],
   "source": [
    "with mlflow.start_run(run_name=\"XGBoost_default_param\"):\n",
    "    xgb_model = xgboost.XGBRegressor(random_state=42)\n",
    "    \n",
    "    tscv = TimeSeriesSplit(n_splits=5)\n",
    "    \n",
    "    rmse_scores = []\n",
    "    r2_scores = []\n",
    "\n",
    "    for fold, (train_index, val_index) in enumerate(tscv.split(X_train)):\n",
    "        X_train_fold, X_val_fold = X_train.iloc[train_index], X_train.iloc[val_index]\n",
    "        y_train_fold, y_val_fold = y_train.iloc[train_index], y_train.iloc[val_index]\n",
    "\n",
    "        xgb_model.fit(X_train_fold, y_train_fold)\n",
    "        predictions = xgb_model.predict(X_val_fold)\n",
    "        \n",
    "        rmse_scores.append(np.sqrt(mean_squared_error(y_val_fold, predictions)))\n",
    "        r2_scores.append(r2_score(y_val_fold, predictions))\n",
    "        \n",
    "        print(f\"Fold {fold+1} -> RMSE: {rmse_scores[-1]:.4f}, R²: {r2_scores[-1]:.4f}\")\n",
    "\n",
    "    mlflow.log_params(xgb_model.get_params())\n",
    "    mlflow.log_param(\"cv_method\", \"TimeSeriesSplit\")\n",
    "    mlflow.log_param(\"n_splits\", tscv.n_splits)\n",
    "    mlflow.log_metric(\"rmse_cv_mean\", np.mean(rmse_scores))\n",
    "    mlflow.log_metric(\"rmse_cv_std\", np.std(rmse_scores))\n",
    "    mlflow.log_metric(\"r2_cv_mean\", np.mean(r2_scores))\n",
    "    mlflow.log_metric(\"r2_cv_std\", np.std(r2_scores))\n",
    "    mlflow.sklearn.log_model(xgb_model, \"xgboost_cv_model\")\n",
    "    \n",
    "    print(f\"RMSE CV Medio (XGBoost): {round(np.mean(rmse_scores),4)} | R² CV Medio (XGBoost): {round(np.mean(r2_scores),4)}\")\n",
    "    \n",
    "    mlflow.end_run()"
   ]
  },
  {
   "cell_type": "code",
   "execution_count": 10,
   "id": "9ef98f59",
   "metadata": {},
   "outputs": [
    {
     "name": "stdout",
     "output_type": "stream",
     "text": [
      "Fold 1 -> RMSE: 0.1472, R²: 0.9956\n",
      "Fold 2 -> RMSE: 0.0858, R²: 0.9985\n",
      "Fold 3 -> RMSE: 0.0622, R²: 0.9992\n",
      "Fold 4 -> RMSE: 0.0774, R²: 0.9987\n"
     ]
    },
    {
     "name": "stderr",
     "output_type": "stream",
     "text": [
      "2025/10/23 01:23:48 WARNING mlflow.models.model: `artifact_path` is deprecated. Please use `name` instead.\n"
     ]
    },
    {
     "name": "stdout",
     "output_type": "stream",
     "text": [
      "Fold 5 -> RMSE: 0.0688, R²: 0.9988\n"
     ]
    },
    {
     "name": "stderr",
     "output_type": "stream",
     "text": [
      "\u001b[31m2025/10/23 01:23:48 WARNING mlflow.models.model: Model logged without a signature and input example. Please set `input_example` parameter when logging the model to auto infer the model signature.\u001b[0m\n"
     ]
    },
    {
     "name": "stdout",
     "output_type": "stream",
     "text": [
      "RMSE CV Medio (SVR): 0.0883 | R² CV Medio (SVR): 0.9982\n"
     ]
    }
   ],
   "source": [
    "with mlflow.start_run(run_name=\"SVR_default_param\"):\n",
    "    svr_model = SVR()\n",
    "    \n",
    "    tscv = TimeSeriesSplit(n_splits=5)\n",
    "    \n",
    "    rmse_scores = []\n",
    "    r2_scores = []\n",
    "\n",
    "    for fold, (train_index, val_index) in enumerate(tscv.split(X_train)):\n",
    "        X_train_fold, X_val_fold = X_train.iloc[train_index], X_train.iloc[val_index]\n",
    "        y_train_fold, y_val_fold = y_train.iloc[train_index], y_train.iloc[val_index]\n",
    "\n",
    "        svr_model.fit(X_train_fold, y_train_fold['et0'])\n",
    "        predictions = svr_model.predict(X_val_fold)\n",
    "        \n",
    "        rmse_scores.append(np.sqrt(mean_squared_error(y_val_fold['et0'], predictions)))\n",
    "        r2_scores.append(r2_score(y_val_fold['et0'], predictions))\n",
    "        \n",
    "        print(f\"Fold {fold+1} -> RMSE: {rmse_scores[-1]:.4f}, R²: {r2_scores[-1]:.4f}\")\n",
    "\n",
    "    mlflow.log_params(svr_model.get_params())\n",
    "    mlflow.log_param(\"cv_method\", \"TimeSeriesSplit\")\n",
    "    mlflow.log_param(\"n_splits\", tscv.n_splits)\n",
    "    mlflow.log_metric(\"rmse_cv_mean\", np.mean(rmse_scores))\n",
    "    mlflow.log_metric(\"rmse_cv_std\", np.std(rmse_scores))\n",
    "    mlflow.log_metric(\"r2_cv_mean\", np.mean(r2_scores))\n",
    "    mlflow.log_metric(\"r2_cv_std\", np.std(r2_scores))\n",
    "    mlflow.sklearn.log_model(svr_model, \"svr_cv_model\")\n",
    "    \n",
    "    print(f\"RMSE CV Medio (SVR): {round(np.mean(rmse_scores),4)} | R² CV Medio (SVR): {round(np.mean(r2_scores),4)}\")\n",
    "    mlflow.end_run()"
   ]
  },
  {
   "cell_type": "code",
   "execution_count": 23,
   "id": "333060b4",
   "metadata": {},
   "outputs": [
    {
     "name": "stdout",
     "output_type": "stream",
     "text": [
      "<class 'pandas.core.frame.DataFrame'>\n",
      "Fold 1 -> RMSE: 0.2486, R²: 0.9875\n",
      "<class 'pandas.core.frame.DataFrame'>\n",
      "Fold 2 -> RMSE: 0.0942, R²: 0.9982\n",
      "<class 'pandas.core.frame.DataFrame'>\n",
      "Fold 3 -> RMSE: 0.0923, R²: 0.9983\n",
      "<class 'pandas.core.frame.DataFrame'>\n",
      "Fold 4 -> RMSE: 0.0924, R²: 0.9981\n",
      "<class 'pandas.core.frame.DataFrame'>\n"
     ]
    },
    {
     "name": "stderr",
     "output_type": "stream",
     "text": [
      "2025/10/22 21:33:16 WARNING mlflow.models.model: `artifact_path` is deprecated. Please use `name` instead.\n"
     ]
    },
    {
     "name": "stdout",
     "output_type": "stream",
     "text": [
      "Fold 5 -> RMSE: 0.0981, R²: 0.9976\n"
     ]
    },
    {
     "name": "stderr",
     "output_type": "stream",
     "text": [
      "\u001b[31m2025/10/22 21:33:20 WARNING mlflow.models.model: Model logged without a signature and input example. Please set `input_example` parameter when logging the model to auto infer the model signature.\u001b[0m\n"
     ]
    },
    {
     "name": "stdout",
     "output_type": "stream",
     "text": [
      "RMSE CV Medio (Random Forest): 0.1251 | R² CV Medio (Random Forest): 0.9959\n"
     ]
    }
   ],
   "source": [
    "with mlflow.start_run(run_name=\"RandomFores_default_param\"):\n",
    "    rf_model =  RandomForestRegressor(random_state=42)\n",
    "    \n",
    "    tscv = TimeSeriesSplit(n_splits=5)\n",
    "    \n",
    "    rmse_scores = []\n",
    "    r2_scores = []\n",
    "\n",
    "    for fold, (train_index, val_index) in enumerate(tscv.split(X_train)):\n",
    "        X_train_fold, X_val_fold = X_train.iloc[train_index], X_train.iloc[val_index]\n",
    "        y_train_fold, y_val_fold = y_train.iloc[train_index], y_train.iloc[val_index]\n",
    "        print(type(y_train))\n",
    "        rf_model.fit(X_train_fold, y_train_fold['et0'])\n",
    "        predictions = rf_model.predict(X_val_fold)\n",
    "        \n",
    "        rmse_scores.append(np.sqrt(mean_squared_error(y_val_fold['et0'], predictions)))\n",
    "        r2_scores.append(r2_score(y_val_fold['et0'], predictions))\n",
    "        \n",
    "        print(f\"Fold {fold+1} -> RMSE: {rmse_scores[-1]:.4f}, R²: {r2_scores[-1]:.4f}\")\n",
    "\n",
    "    mlflow.log_params(rf_model.get_params())\n",
    "    mlflow.log_param(\"cv_method\", \"TimeSeriesSplit\")\n",
    "    mlflow.log_param(\"n_splits\", tscv.n_splits)\n",
    "    mlflow.log_metric(\"rmse_cv_mean\", np.mean(rmse_scores))\n",
    "    mlflow.log_metric(\"rmse_cv_std\", np.std(rmse_scores))\n",
    "    mlflow.log_metric(\"r2_cv_mean\", np.mean(r2_scores))\n",
    "    mlflow.log_metric(\"r2_cv_std\", np.std(r2_scores))\n",
    "    mlflow.sklearn.log_model(rf_model, \"rf_cv_model\")\n",
    "    \n",
    "    print(f\"RMSE CV Medio (Random Forest): {round(np.mean(rmse_scores),4)} | R² CV Medio (Random Forest): {round(np.mean(r2_scores),4)}\")\n",
    "    mlflow.end_run()"
   ]
  },
  {
   "cell_type": "code",
   "execution_count": 7,
   "id": "5f72f8da",
   "metadata": {},
   "outputs": [
    {
     "name": "stdout",
     "output_type": "stream",
     "text": [
      "Fitting 5 folds for each of 25 candidates, totalling 125 fits\n"
     ]
    },
    {
     "name": "stderr",
     "output_type": "stream",
     "text": [
      "2025/10/22 22:48:12 WARNING mlflow.models.model: `artifact_path` is deprecated. Please use `name` instead.\n"
     ]
    },
    {
     "name": "stdout",
     "output_type": "stream",
     "text": [
      "Mejor modelo: XGBRegressor(base_score=None, booster=None, callbacks=None,\n",
      "             colsample_bylevel=None, colsample_bynode=None,\n",
      "             colsample_bytree=0.9, device=None, early_stopping_rounds=None,\n",
      "             enable_categorical=False, eval_metric=None, feature_types=None,\n",
      "             feature_weights=None, gamma=None, grow_policy=None,\n",
      "             importance_type=None, interaction_constraints=None,\n",
      "             learning_rate=0.05, max_bin=None, max_cat_threshold=None,\n",
      "             max_cat_to_onehot=None, max_delta_step=None, max_depth=7,\n",
      "             max_leaves=None, min_child_weight=None, missing=nan,\n",
      "             monotone_constraints=None, multi_strategy=None, n_estimators=700,\n",
      "             n_jobs=-1, num_parallel_tree=None, ...)\n",
      "Parámetros: {'subsample': 0.8, 'n_estimators': 700, 'max_depth': 7, 'learning_rate': 0.05, 'colsample_bytree': 0.9}\n",
      "RMSE: 0.0703\n"
     ]
    },
    {
     "name": "stderr",
     "output_type": "stream",
     "text": [
      "/home/lola/Escritorio/TFM-Sistema-Riego-Agricola/.env/lib/python3.11/site-packages/xgboost/sklearn.py:1115: UserWarning: [22:48:12] WARNING: /workspace/src/c_api/c_api.cc:1575: Saving model in the UBJSON format as default.  You can use a file extension: `json` or `ubj` to choose between formats.\n",
      "  self.get_booster().save_model(fname)\n",
      "\u001b[31m2025/10/22 22:48:14 WARNING mlflow.models.model: Model logged without a signature and input example. Please set `input_example` parameter when logging the model to auto infer the model signature.\u001b[0m\n"
     ]
    }
   ],
   "source": [
    "with mlflow.start_run(run_name=\"XGBoost_RandomSearch_Tuning\"):\n",
    "    params_xgboost = {\n",
    "    'n_estimators': [100, 300, 500, 700],\n",
    "    'learning_rate': [0.01, 0.05, 0.1, 0.2],\n",
    "    'max_depth': [3, 5, 7, 9],\n",
    "    'subsample': [0.7, 0.8, 0.9, 1.0],\n",
    "    'colsample_bytree': [0.7, 0.8, 0.9, 1.0]\n",
    "    }\n",
    "    \n",
    "    tscv = TimeSeriesSplit(n_splits=5)\n",
    "    xgboost_estimator = xgboost.XGBRegressor(random_state=42, objective='reg:squarederror', n_jobs=-1)\n",
    "    random_search = RandomizedSearchCV(\n",
    "            estimator=xgboost_estimator,\n",
    "            param_distributions=params_xgboost,\n",
    "            n_iter=25, \n",
    "            cv=tscv,\n",
    "            scoring='neg_root_mean_squared_error',\n",
    "            n_jobs=-1,\n",
    "            random_state=42,\n",
    "            verbose=1\n",
    "        )\n",
    "    \n",
    "    random_search.fit(X_train, y_train)\n",
    "    best_model = random_search.best_estimator_\n",
    "    best_score = -random_search.best_score_\n",
    "    best_params = random_search.best_params_\n",
    "    print(f'Mejor modelo: {best_model}')\n",
    "    print(f'Parámetros: {best_params}')\n",
    "    print(f'RMSE: {best_score:.4f}')\n",
    "    \n",
    "\n",
    "    mlflow.log_param(\"cv_method\", \"TimeSeriesSplit\")\n",
    "    mlflow.log_param(\"n_splits_cv\", tscv.n_splits)\n",
    "    mlflow.log_param(\"n_iter_random_search\", random_search.n_iter)\n",
    "    mlflow.log_param(\"scoring_metric\", random_search.scoring)\n",
    "    mlflow.log_metric(\"best_rmse_cv_xgboost\", best_score)\n",
    "    mlflow.xgboost.log_model(best_model, \"xgboost_tunning\")\n",
    "\n",
    "    mlflow.end_run()"
   ]
  },
  {
   "cell_type": "code",
   "execution_count": 9,
   "id": "de677a8e",
   "metadata": {},
   "outputs": [
    {
     "name": "stderr",
     "output_type": "stream",
     "text": [
      "2025/10/22 22:50:13 WARNING mlflow.models.model: `artifact_path` is deprecated. Please use `name` instead.\n"
     ]
    },
    {
     "name": "stdout",
     "output_type": "stream",
     "text": [
      "RMSE Final en Test Set (XGBoost best param): 0.0715\n",
      "R² Final en Test Set (XGBoost best param):   0.9989\n"
     ]
    },
    {
     "name": "stderr",
     "output_type": "stream",
     "text": [
      "/home/lola/Escritorio/TFM-Sistema-Riego-Agricola/.env/lib/python3.11/site-packages/xgboost/sklearn.py:1115: UserWarning: [22:50:13] WARNING: /workspace/src/c_api/c_api.cc:1575: Saving model in the UBJSON format as default.  You can use a file extension: `json` or `ubj` to choose between formats.\n",
      "  self.get_booster().save_model(fname)\n",
      "\u001b[31m2025/10/22 22:50:14 WARNING mlflow.models.model: Model logged without a signature and input example. Please set `input_example` parameter when logging the model to auto infer the model signature.\u001b[0m\n"
     ]
    }
   ],
   "source": [
    "with mlflow.start_run(run_name=\"Best XGGBoost - Final_Evaluation\"): \n",
    "\n",
    "    best_model.fit(X_train, y_train) \n",
    "\n",
    "\n",
    "    predictions_final_test = best_model.predict(X_test)\n",
    "\n",
    "\n",
    "    rmse_final_test = np.sqrt(mean_squared_error(y_test, predictions_final_test))\n",
    "    r2_final_test = r2_score(y_test, predictions_final_test)\n",
    "\n",
    "    print(f\"RMSE Final en Test Set (XGBoost best param): {rmse_final_test:.4f}\")\n",
    "    print(f\"R² Final en Test Set (XGBoost best param):   {r2_final_test:.4f}\")\n",
    "\n",
    "\n",
    "    mlflow.log_params(best_params)\n",
    "    mlflow.log_metric(\"rmse_final_test\", rmse_final_test) \n",
    "    mlflow.log_metric(\"r2_final_test\", r2_final_test) \n",
    "\n",
    "    \n",
    "    mlflow.xgboost.log_model(best_model, \"final_production_model\")\n",
    "\n",
    "    mlflow.end_run()"
   ]
  },
  {
   "cell_type": "code",
   "execution_count": 13,
   "id": "20017b9d",
   "metadata": {},
   "outputs": [],
   "source": [
    "X_prueba = X_train.copy()"
   ]
  },
  {
   "cell_type": "code",
   "execution_count": 14,
   "id": "4501046e",
   "metadata": {},
   "outputs": [
    {
     "data": {
      "text/plain": [
       "Index(['tempMedia', 'tempMax', 'tempMin', 'humedadMedia', 'humedadMax',\n",
       "       'humedadMin', 'velViento', 'dirViento', 'velVientoMax',\n",
       "       'dirVientoVelMax', 'radiacion', 'precipitacion', 'altitud', 'lon',\n",
       "       'lat', 'dia_del_año_sin', 'dia_del_año_cos', 'año', 'mes', 'mes_sin',\n",
       "       'mes_cos'],\n",
       "      dtype='object')"
      ]
     },
     "execution_count": 14,
     "metadata": {},
     "output_type": "execute_result"
    }
   ],
   "source": [
    "X_prueba.columns"
   ]
  },
  {
   "cell_type": "code",
   "execution_count": 29,
   "id": "d6248456",
   "metadata": {},
   "outputs": [],
   "source": [
    "X_prueba = X_prueba[['tempMax', 'tempMin', 'humedadMax',\n",
    "       'humedadMin', 'velViento', \n",
    "       'altitud', 'lon','lat', 'dia_del_año_sin', 'dia_del_año_cos', 'año', 'mes', 'mes_sin',\n",
    "       'mes_cos']]"
   ]
  },
  {
   "cell_type": "code",
   "execution_count": 30,
   "id": "7c3bf54e",
   "metadata": {},
   "outputs": [
    {
     "name": "stderr",
     "output_type": "stream",
     "text": [
      "2025/10/23 17:54:43 WARNING mlflow.models.model: `artifact_path` is deprecated. Please use `name` instead.\n"
     ]
    },
    {
     "name": "stdout",
     "output_type": "stream",
     "text": [
      "Fold 1 -> RMSE: 0.6101, R²: 0.9245\n",
      "Fold 2 -> RMSE: 0.5232, R²: 0.9444\n",
      "Fold 3 -> RMSE: 0.5279, R²: 0.9430\n",
      "Fold 4 -> RMSE: 0.5254, R²: 0.9396\n",
      "Fold 5 -> RMSE: 0.4590, R²: 0.9478\n"
     ]
    },
    {
     "name": "stderr",
     "output_type": "stream",
     "text": [
      "\u001b[31m2025/10/23 17:54:44 WARNING mlflow.models.model: Model logged without a signature and input example. Please set `input_example` parameter when logging the model to auto infer the model signature.\u001b[0m\n"
     ]
    },
    {
     "name": "stdout",
     "output_type": "stream",
     "text": [
      "RMSE CV Medio (Ridge): 0.5291 | R² CV Medio (Ridge): 0.9399\n"
     ]
    }
   ],
   "source": [
    "with mlflow.start_run(run_name=\"Baseline_Ridge - Reducido\"):\n",
    "    ridge_model = Ridge(random_state=42)\n",
    "    \n",
    "    tscv = TimeSeriesSplit(n_splits=5)\n",
    "    \n",
    "    rmse_scores = []\n",
    "    r2_scores = []\n",
    "\n",
    "    for fold, (train_index, val_index) in enumerate(tscv.split(X_train)):\n",
    "        X_train_fold, X_val_fold = X_prueba.iloc[train_index], X_prueba.iloc[val_index]\n",
    "        y_train_fold, y_val_fold = y_train.iloc[train_index], y_train.iloc[val_index]\n",
    "\n",
    "        ridge_model.fit(X_train_fold, y_train_fold)\n",
    "        predictions = ridge_model.predict(X_val_fold)\n",
    "        \n",
    "        rmse_scores.append(np.sqrt(mean_squared_error(y_val_fold, predictions)))\n",
    "        r2_scores.append(r2_score(y_val_fold, predictions))\n",
    "        \n",
    "        print(f\"Fold {fold+1} -> RMSE: {rmse_scores[-1]:.4f}, R²: {r2_scores[-1]:.4f}\")\n",
    "\n",
    "    mlflow.log_params(ridge_model.get_params())\n",
    "    mlflow.log_param(\"cv_method\", \"TimeSeriesSplit\")\n",
    "    mlflow.log_param(\"n_splits\", tscv.n_splits)\n",
    "    mlflow.log_metric(\"rmse_cv_mean\", np.mean(rmse_scores))\n",
    "    mlflow.log_metric(\"rmse_cv_std\", np.std(rmse_scores))\n",
    "    mlflow.log_metric(\"r2_cv_mean\", np.mean(r2_scores))\n",
    "    mlflow.log_metric(\"r2_cv_std\", np.std(r2_scores))\n",
    "    mlflow.sklearn.log_model(ridge_model, \"ridge_cv_model\")\n",
    "    \n",
    "    print(f\"RMSE CV Medio (Ridge): {round(np.mean(rmse_scores),4)} | R² CV Medio (Ridge): {round(np.mean(r2_scores),4)}\")\n",
    "\n",
    "    mlflow.end_run()"
   ]
  },
  {
   "cell_type": "code",
   "execution_count": 31,
   "id": "f5c31c60",
   "metadata": {},
   "outputs": [
    {
     "name": "stdout",
     "output_type": "stream",
     "text": [
      "Fold 1 -> RMSE: 0.2750, R²: 0.9847\n",
      "Fold 2 -> RMSE: 0.2708, R²: 0.9851\n",
      "Fold 3 -> RMSE: 0.2948, R²: 0.9822\n",
      "Fold 4 -> RMSE: 0.3453, R²: 0.9739\n"
     ]
    },
    {
     "name": "stderr",
     "output_type": "stream",
     "text": [
      "2025/10/23 17:54:56 WARNING mlflow.models.model: `artifact_path` is deprecated. Please use `name` instead.\n"
     ]
    },
    {
     "name": "stdout",
     "output_type": "stream",
     "text": [
      "Fold 5 -> RMSE: 0.3021, R²: 0.9774\n"
     ]
    },
    {
     "name": "stderr",
     "output_type": "stream",
     "text": [
      "\u001b[31m2025/10/23 17:54:57 WARNING mlflow.models.model: Model logged without a signature and input example. Please set `input_example` parameter when logging the model to auto infer the model signature.\u001b[0m\n"
     ]
    },
    {
     "name": "stdout",
     "output_type": "stream",
     "text": [
      "RMSE CV Medio (XGBoost): 0.2976 | R² CV Medio (XGBoost): 0.9807\n"
     ]
    }
   ],
   "source": [
    "with mlflow.start_run(run_name=\"XGBoost_default_param_dataset_reducio\"):\n",
    "    xgb_model = xgboost.XGBRegressor(random_state=42)\n",
    "    \n",
    "    tscv = TimeSeriesSplit(n_splits=5)\n",
    "    \n",
    "    rmse_scores = []\n",
    "    r2_scores = []\n",
    "\n",
    "    for fold, (train_index, val_index) in enumerate(tscv.split(X_train)):\n",
    "        X_train_fold, X_val_fold = X_prueba.iloc[train_index], X_prueba.iloc[val_index]\n",
    "        y_train_fold, y_val_fold = y_train.iloc[train_index], y_train.iloc[val_index]\n",
    "\n",
    "        xgb_model.fit(X_train_fold, y_train_fold)\n",
    "        predictions = xgb_model.predict(X_val_fold)\n",
    "        \n",
    "        rmse_scores.append(np.sqrt(mean_squared_error(y_val_fold, predictions)))\n",
    "        r2_scores.append(r2_score(y_val_fold, predictions))\n",
    "        \n",
    "        print(f\"Fold {fold+1} -> RMSE: {rmse_scores[-1]:.4f}, R²: {r2_scores[-1]:.4f}\")\n",
    "\n",
    "    mlflow.log_params(xgb_model.get_params())\n",
    "    mlflow.log_param(\"cv_method\", \"TimeSeriesSplit\")\n",
    "    mlflow.log_param(\"n_splits\", tscv.n_splits)\n",
    "    mlflow.log_metric(\"rmse_cv_mean\", np.mean(rmse_scores))\n",
    "    mlflow.log_metric(\"rmse_cv_std\", np.std(rmse_scores))\n",
    "    mlflow.log_metric(\"r2_cv_mean\", np.mean(r2_scores))\n",
    "    mlflow.log_metric(\"r2_cv_std\", np.std(r2_scores))\n",
    "    mlflow.sklearn.log_model(xgb_model, \"xgboost_cv_model\")\n",
    "    \n",
    "    print(f\"RMSE CV Medio (XGBoost): {round(np.mean(rmse_scores),4)} | R² CV Medio (XGBoost): {round(np.mean(r2_scores),4)}\")\n",
    "    \n",
    "    mlflow.end_run()"
   ]
  },
  {
   "cell_type": "code",
   "execution_count": 32,
   "id": "42606bca",
   "metadata": {},
   "outputs": [
    {
     "name": "stdout",
     "output_type": "stream",
     "text": [
      "Fitting 5 folds for each of 25 candidates, totalling 125 fits\n"
     ]
    },
    {
     "name": "stderr",
     "output_type": "stream",
     "text": [
      "2025/10/23 17:56:40 WARNING mlflow.models.model: `artifact_path` is deprecated. Please use `name` instead.\n"
     ]
    },
    {
     "name": "stdout",
     "output_type": "stream",
     "text": [
      "Mejor modelo: XGBRegressor(base_score=None, booster=None, callbacks=None,\n",
      "             colsample_bylevel=None, colsample_bynode=None,\n",
      "             colsample_bytree=0.8, device=None, early_stopping_rounds=None,\n",
      "             enable_categorical=False, eval_metric=None, feature_types=None,\n",
      "             feature_weights=None, gamma=None, grow_policy=None,\n",
      "             importance_type=None, interaction_constraints=None,\n",
      "             learning_rate=0.01, max_bin=None, max_cat_threshold=None,\n",
      "             max_cat_to_onehot=None, max_delta_step=None, max_depth=9,\n",
      "             max_leaves=None, min_child_weight=None, missing=nan,\n",
      "             monotone_constraints=None, multi_strategy=None, n_estimators=500,\n",
      "             n_jobs=-1, num_parallel_tree=None, ...)\n",
      "Parámetros: {'subsample': 0.7, 'n_estimators': 500, 'max_depth': 9, 'learning_rate': 0.01, 'colsample_bytree': 0.8}\n",
      "RMSE: 0.2750\n"
     ]
    },
    {
     "name": "stderr",
     "output_type": "stream",
     "text": [
      "/home/lola/Escritorio/TFM-Sistema-Riego-Agricola/.env/lib/python3.11/site-packages/xgboost/sklearn.py:1115: UserWarning: [17:56:40] WARNING: /workspace/src/c_api/c_api.cc:1575: Saving model in the UBJSON format as default.  You can use a file extension: `json` or `ubj` to choose between formats.\n",
      "  self.get_booster().save_model(fname)\n",
      "\u001b[31m2025/10/23 17:56:41 WARNING mlflow.models.model: Model logged without a signature and input example. Please set `input_example` parameter when logging the model to auto infer the model signature.\u001b[0m\n"
     ]
    }
   ],
   "source": [
    "with mlflow.start_run(run_name=\"XGBoost_RandomSearch_Tuning_dataset_reducido\"):\n",
    "    params_xgboost = {\n",
    "    'n_estimators': [100, 300, 500, 700],\n",
    "    'learning_rate': [0.01, 0.05, 0.1, 0.2],\n",
    "    'max_depth': [3, 5, 7, 9],\n",
    "    'subsample': [0.7, 0.8, 0.9, 1.0],\n",
    "    'colsample_bytree': [0.7, 0.8, 0.9, 1.0]\n",
    "    }\n",
    "    \n",
    "    tscv = TimeSeriesSplit(n_splits=5)\n",
    "    xgboost_estimator = xgboost.XGBRegressor(random_state=42, objective='reg:squarederror', n_jobs=-1)\n",
    "    random_search = RandomizedSearchCV(\n",
    "            estimator=xgboost_estimator,\n",
    "            param_distributions=params_xgboost,\n",
    "            n_iter=25, \n",
    "            cv=tscv,\n",
    "            scoring='neg_root_mean_squared_error',\n",
    "            n_jobs=-1,\n",
    "            random_state=42,\n",
    "            verbose=1\n",
    "        )\n",
    "    \n",
    "    random_search.fit(X_prueba, y_train)\n",
    "    best_model = random_search.best_estimator_\n",
    "    best_score = -random_search.best_score_\n",
    "    best_params = random_search.best_params_\n",
    "    print(f'Mejor modelo: {best_model}')\n",
    "    print(f'Parámetros: {best_params}')\n",
    "    print(f'RMSE: {best_score:.4f}')\n",
    "    \n",
    "\n",
    "    mlflow.log_param(\"cv_method\", \"TimeSeriesSplit\")\n",
    "    mlflow.log_param(\"n_splits_cv\", tscv.n_splits)\n",
    "    mlflow.log_param(\"n_iter_random_search\", random_search.n_iter)\n",
    "    mlflow.log_param(\"scoring_metric\", random_search.scoring)\n",
    "    mlflow.log_metric(\"best_rmse_cv_xgboost\", best_score)\n",
    "    mlflow.xgboost.log_model(best_model, \"xgboost_tunning\")\n",
    "\n",
    "    mlflow.end_run()"
   ]
  },
  {
   "cell_type": "code",
   "execution_count": 33,
   "id": "9dc11b33",
   "metadata": {},
   "outputs": [
    {
     "name": "stderr",
     "output_type": "stream",
     "text": [
      "2025/10/23 17:57:16 WARNING mlflow.models.model: `artifact_path` is deprecated. Please use `name` instead.\n"
     ]
    },
    {
     "name": "stdout",
     "output_type": "stream",
     "text": [
      "RMSE Final en Test Set (XGBoost best param): 0.2791\n",
      "R² Final en Test Set (XGBoost best param):   0.9833\n"
     ]
    },
    {
     "name": "stderr",
     "output_type": "stream",
     "text": [
      "/home/lola/Escritorio/TFM-Sistema-Riego-Agricola/.env/lib/python3.11/site-packages/xgboost/sklearn.py:1115: UserWarning: [17:57:16] WARNING: /workspace/src/c_api/c_api.cc:1575: Saving model in the UBJSON format as default.  You can use a file extension: `json` or `ubj` to choose between formats.\n",
      "  self.get_booster().save_model(fname)\n",
      "\u001b[31m2025/10/23 17:57:17 WARNING mlflow.models.model: Model logged without a signature and input example. Please set `input_example` parameter when logging the model to auto infer the model signature.\u001b[0m\n"
     ]
    }
   ],
   "source": [
    "with mlflow.start_run(run_name=\"Best XGGBoost - Final_Evaluation - dataset reducido\"): \n",
    "\n",
    "    best_model.fit(X_prueba, y_train) \n",
    "\n",
    "    x_test_prueba = X_test[['tempMax', 'tempMin', 'humedadMax',\n",
    "       'humedadMin', 'velViento', 'altitud', 'lon',\n",
    "       'lat', 'dia_del_año_sin', 'dia_del_año_cos', 'año', 'mes', 'mes_sin',\n",
    "       'mes_cos']]\n",
    "    predictions_final_test = best_model.predict(x_test_prueba)\n",
    "\n",
    "\n",
    "    rmse_final_test = np.sqrt(mean_squared_error(y_test, predictions_final_test))\n",
    "    r2_final_test = r2_score(y_test, predictions_final_test)\n",
    "\n",
    "    print(f\"RMSE Final en Test Set (XGBoost best param): {rmse_final_test:.4f}\")\n",
    "    print(f\"R² Final en Test Set (XGBoost best param):   {r2_final_test:.4f}\")\n",
    "\n",
    "\n",
    "    mlflow.log_params(best_params)\n",
    "    mlflow.log_metric(\"rmse_final_test\", rmse_final_test) \n",
    "    mlflow.log_metric(\"r2_final_test\", r2_final_test) \n",
    "\n",
    "    \n",
    "    mlflow.xgboost.log_model(best_model, \"final_production_model\")\n",
    "\n",
    "    mlflow.end_run()"
   ]
  },
  {
   "cell_type": "code",
   "execution_count": 28,
   "id": "6b8d0334",
   "metadata": {},
   "outputs": [
    {
     "name": "stdout",
     "output_type": "stream",
     "text": [
      "Descargando datos desde: https://www.aemet.es/xml/municipios/localidad_41095.xml\n",
      "--- Datos extraídos con éxito (lógica de media aplicada) ---\n",
      "[{'dirViento': 'N/D',\n",
      "  'fecha': '2025-10-23',\n",
      "  'humedadMax': '100',\n",
      "  'humedadMin': '55',\n",
      "  'tempMax': '30',\n",
      "  'tempMin': '17',\n",
      "  'velViento': '5.0',\n",
      "  'velVientoMax': 'N/D'},\n",
      " {'dirViento': 'N',\n",
      "  'fecha': '2025-10-24',\n",
      "  'humedadMax': '100',\n",
      "  'humedadMin': '35',\n",
      "  'tempMax': '32',\n",
      "  'tempMin': '16',\n",
      "  'velViento': '10',\n",
      "  'velVientoMax': 'N/D'},\n",
      " {'dirViento': 'SO',\n",
      "  'fecha': '2025-10-25',\n",
      "  'humedadMax': '95',\n",
      "  'humedadMin': '35',\n",
      "  'tempMax': '31',\n",
      "  'tempMin': '15',\n",
      "  'velViento': '10',\n",
      "  'velVientoMax': 'N/D'},\n",
      " {'dirViento': 'O',\n",
      "  'fecha': '2025-10-26',\n",
      "  'humedadMax': '100',\n",
      "  'humedadMin': '60',\n",
      "  'tempMax': '26',\n",
      "  'tempMin': '17',\n",
      "  'velViento': '15',\n",
      "  'velVientoMax': 'N/D'},\n",
      " {'dirViento': 'C',\n",
      "  'fecha': '2025-10-27',\n",
      "  'humedadMax': '100',\n",
      "  'humedadMin': '60',\n",
      "  'tempMax': '27',\n",
      "  'tempMin': '17',\n",
      "  'velViento': '0',\n",
      "  'velVientoMax': 'N/D'},\n",
      " {'dirViento': 'C',\n",
      "  'fecha': '2025-10-28',\n",
      "  'humedadMax': '100',\n",
      "  'humedadMin': '55',\n",
      "  'tempMax': '27',\n",
      "  'tempMin': '15',\n",
      "  'velViento': '0',\n",
      "  'velVientoMax': 'N/D'},\n",
      " {'dirViento': 'S',\n",
      "  'fecha': '2025-10-29',\n",
      "  'humedadMax': '100',\n",
      "  'humedadMin': '45',\n",
      "  'tempMax': '25',\n",
      "  'tempMin': '16',\n",
      "  'velViento': '5',\n",
      "  'velVientoMax': 'N/D'}]\n"
     ]
    }
   ],
   "source": [
    "import xml.etree.ElementTree as ET\n",
    "import requests\n",
    "import pprint # Para imprimir los diccionarios de forma bonita\n",
    "from io import StringIO # Para manejar el string XML\n",
    "\n",
    "def get_velocidad_media(dia_node):\n",
    "    \"\"\"\n",
    "    Obtiene la velocidad media del viento para un día.\n",
    "    Prioriza el resumen '00-24', luego calcula la media de los\n",
    "    periodos de 6h, y finalmente busca el tag simple de días futuros.\n",
    "    \"\"\"\n",
    "    \n",
    "    # 1. Intentar con el periodo '00-24'\n",
    "    viento_00_24 = dia_node.find(\"./viento[@periodo='00-24']\")\n",
    "    if viento_00_24 is not None:\n",
    "        vel_text = viento_00_24.findtext('velocidad')\n",
    "        if vel_text: # Si hay texto y no está vacío\n",
    "            return vel_text\n",
    "\n",
    "    # 2. Si '00-24' falla o está vacío, calcular media de periodos de 6h\n",
    "    periodos_6h = [\"00-06\", \"06-12\", \"12-18\", \"18-24\"]\n",
    "    velocidades = []\n",
    "    for p in periodos_6h:\n",
    "        viento_periodo = dia_node.find(f\"./viento[@periodo='{p}']\")\n",
    "        if viento_periodo is not None:\n",
    "            vel_text = viento_periodo.findtext('velocidad')\n",
    "            if vel_text:\n",
    "                try:\n",
    "                    velocidades.append(int(vel_text))\n",
    "                except (ValueError, TypeError):\n",
    "                    pass # Ignorar si no es un número\n",
    "\n",
    "    if velocidades: # Si encontramos valores en los periodos de 6h\n",
    "        media = sum(velocidades) / len(velocidades)\n",
    "        # Devolvemos el valor redondeado como string\n",
    "        return str(round(media, 1)) \n",
    "\n",
    "    # 3. Si no hay periodos de 6h, buscar el tag <viento> simple (días futuros)\n",
    "    #    (asegurándonos de que no tenga atributo 'periodo')\n",
    "    viento_simple_list = dia_node.findall(\"./viento\")\n",
    "    for viento_simple in viento_simple_list:\n",
    "        if 'periodo' not in viento_simple.attrib:\n",
    "             vel_text = viento_simple.findtext('velocidad')\n",
    "             if vel_text:\n",
    "                 return vel_text\n",
    "\n",
    "    # 4. Si todo falla\n",
    "    return 'N/D'\n",
    "\n",
    "def get_direccion_predominante(dia_node):\n",
    "    \"\"\"\n",
    "    Obtiene la dirección predominante.\n",
    "    Prioriza '00-24' o el tag simple. No promedia direcciones.\n",
    "    \"\"\"\n",
    "    # 1. Intentar con el periodo '00-24'\n",
    "    viento_00_24 = dia_node.find(\"./viento[@periodo='00-24']\")\n",
    "    if viento_00_24 is not None:\n",
    "        dir_text = viento_00_24.findtext('direccion')\n",
    "        if dir_text: # Si hay texto y no está vacío\n",
    "            return dir_text\n",
    "\n",
    "    # 2. Si '00-24' falla, buscar el tag <viento> simple (días futuros)\n",
    "    viento_simple_list = dia_node.findall(\"./viento\")\n",
    "    for viento_simple in viento_simple_list:\n",
    "        if 'periodo' not in viento_simple.attrib:\n",
    "             dir_text = viento_simple.findtext('direccion')\n",
    "             if dir_text:\n",
    "                 return dir_text\n",
    "    \n",
    "    # 3. Si todo falla\n",
    "    return 'N/D'\n",
    "\n",
    "\n",
    "def extraer_datos_aemet(xml_content):\n",
    "    \"\"\"\n",
    "    Parsea el XML de AEMET y extrae los datos mapeados a la API RIA.\n",
    "    \"\"\"\n",
    "    predicciones_extraidas = []\n",
    "    try:\n",
    "        # Parsear el string XML\n",
    "        root = ET.fromstring(xml_content.encode('utf-8'))\n",
    "        prediccion_node = root.find('prediccion')\n",
    "\n",
    "        if prediccion_node is None:\n",
    "            print(\"Error: No se encontró la etiqueta <prediccion> en el XML.\")\n",
    "            return []\n",
    "\n",
    "        for dia in prediccion_node.findall('dia'):\n",
    "            fecha = dia.get('fecha')\n",
    "\n",
    "            # --- Extraer Temperatura ---\n",
    "            temp_max = dia.findtext('./temperatura/maxima', default='N/D')\n",
    "            temp_min = dia.findtext('./temperatura/minima', default='N/D')\n",
    "\n",
    "            # --- Extraer Humedad ---\n",
    "            hum_max = dia.findtext('./humedad_relativa/maxima', default='N/D')\n",
    "            hum_min = dia.findtext('./humedad_relativa/minima', default='N/D')\n",
    "\n",
    "            # --- Extraer Viento (con la nueva lógica) ---\n",
    "            vel_viento = get_velocidad_media(dia)\n",
    "            dir_viento = get_direccion_predominante(dia)\n",
    "\n",
    "            # --- Extraer Racha Máxima ---\n",
    "            racha_node = dia.find(\"./racha_max[@periodo='00-24']\")\n",
    "            if racha_node is None:\n",
    "                racha_node = dia.find(\"./racha_max\")\n",
    "            \n",
    "            vel_viento_max = 'N/D'\n",
    "            if racha_node is not None and racha_node.text:\n",
    "                 vel_viento_max = racha_node.text\n",
    "            \n",
    "            datos_dia = {\n",
    "                'fecha': fecha,\n",
    "                'tempMax': temp_max,\n",
    "                'tempMin': temp_min,\n",
    "                'humedadMax': hum_max,\n",
    "                'humedadMin': hum_min,\n",
    "                'velViento': vel_viento, # <--- VALOR CORREGIDO\n",
    "                'dirViento': dir_viento, # <--- VALOR CORREGIDO\n",
    "                'velVientoMax': vel_viento_max\n",
    "            }\n",
    "            \n",
    "            predicciones_extraidas.append(datos_dia)\n",
    "\n",
    "    except ET.ParseError as e:\n",
    "        print(f\"Error al parsear el XML: {e}\")\n",
    "        return []\n",
    "\n",
    "    return predicciones_extraidas\n",
    "\n",
    "# --- INICIO DE LA EJECUCIÓN ---\n",
    "\n",
    "url_aemet = \"https://www.aemet.es/xml/municipios/localidad_41095.xml\"\n",
    "print(f\"Descargando datos desde: {url_aemet}\")\n",
    "\n",
    "try:\n",
    "    response = requests.get(url_aemet)\n",
    "    response.raise_for_status() \n",
    "    xml_data_str = response.text\n",
    "\n",
    "    datos_meteorologicos = extraer_datos_aemet(xml_data_str)\n",
    "\n",
    "    if datos_meteorologicos:\n",
    "        print(\"--- Datos extraídos con éxito (lógica de media aplicada) ---\")\n",
    "        pprint.pprint(datos_meteorologicos)\n",
    "    else:\n",
    "        print(\"No se pudieron extraer datos.\")\n",
    "\n",
    "except requests.exceptions.HTTPError as errh:\n",
    "    print(f\"Error HTTP: {errh}\")\n",
    "except requests.exceptions.RequestException as err:\n",
    "    print(f\"Error de Requests: {err}\")"
   ]
  },
  {
   "cell_type": "code",
   "execution_count": null,
   "id": "7f3124d7",
   "metadata": {},
   "outputs": [],
   "source": []
  }
 ],
 "metadata": {
  "kernelspec": {
   "display_name": "sist_riego",
   "language": "python",
   "name": "python3"
  },
  "language_info": {
   "codemirror_mode": {
    "name": "ipython",
    "version": 3
   },
   "file_extension": ".py",
   "mimetype": "text/x-python",
   "name": "python",
   "nbconvert_exporter": "python",
   "pygments_lexer": "ipython3",
   "version": "3.11.2"
  }
 },
 "nbformat": 4,
 "nbformat_minor": 5
}
